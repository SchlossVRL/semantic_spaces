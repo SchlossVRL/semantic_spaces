{
 "cells": [
  {
   "cell_type": "markdown",
   "metadata": {},
   "source": [
    "## Load in data and set up folder hierarchy"
   ]
  },
  {
   "cell_type": "code",
   "execution_count": null,
   "metadata": {},
   "outputs": [],
   "source": [
    "# modules\n",
    "import sys\n",
    "import numpy as np\n",
    "import matplotlib \n",
    "%matplotlib inline\n",
    "from surprise import SVD, accuracy, Reader, Dataset\n",
    "from surprise.model_selection import train_test_split,cross_validate\n",
    "from surprise.prediction_algorithms.matrix_factorization import SVDpp\n",
    "from surprise.prediction_algorithms.knns import KNNBasic\n",
    "from scipy.io import loadmat\n",
    "import os.path\n",
    "import pandas as pd\n",
    "import seaborn as sns\n"
   ]
  },
  {
   "cell_type": "code",
   "execution_count": null,
   "metadata": {},
   "outputs": [],
   "source": [
    "# directory & file hierarchy\n",
    "proj_dir = os.path.abspath('..')\n",
    "code_dir = os.getcwd()\n",
    "data_dir = os.path.join(proj_dir,'data')\n",
    "\n",
    "if not os.path.exists(code_dir):\n",
    "    os.makedirs(code_dir)\n",
    "    \n",
    "if not os.path.exists(data_dir):\n",
    "    os.makedirs(data_dir)"
   ]
  },
  {
   "cell_type": "code",
   "execution_count": null,
   "metadata": {},
   "outputs": [],
   "source": [
    "##load in the data\n",
    "raw_data = loadmat(os.path.join(data_dir,'FruitData.mat'))"
   ]
  },
  {
   "cell_type": "markdown",
   "metadata": {},
   "source": [
    "## Data reshaping and preprocessing"
   ]
  },
  {
   "cell_type": "code",
   "execution_count": null,
   "metadata": {},
   "outputs": [],
   "source": [
    "## get ratings\n",
    "fcm_ratings = np.mean(raw_data['FruitAssoc'], axis=2)\n",
    "\n",
    "##ordered list of concept names\n",
    "colnames = ['Mango', 'Watermelon', 'Honeydew', 'Cantaloupe', 'Grapefruit', 'Strawberry', 'Raspberry', 'Blueberry',\\\n",
    "            'Avocado', 'Orange', 'Lime', 'Lemon']\n",
    "\n",
    "\n",
    "fcm_df = pd.DataFrame(data=fcm_ratings, columns=colnames)\n",
    "\n"
   ]
  },
  {
   "cell_type": "code",
   "execution_count": null,
   "metadata": {},
   "outputs": [],
   "source": [
    "## flatten data and create lists for surprise Reader\n",
    "concept_id = []\n",
    "color_id = []\n",
    "\n",
    "for i in range(58):\n",
    "    for j in range(len(colnames)):\n",
    "        concept_id.append(colnames[j])\n",
    "        color_id.append(i)\n",
    "ratings = fcm_df.values.flatten() "
   ]
  },
  {
   "cell_type": "code",
   "execution_count": null,
   "metadata": {},
   "outputs": [],
   "source": [
    "ratings_dict = {'color_id':color_id,'concept_id':concept_id, 'ratings':ratings}\n",
    "ratings_df = pd.DataFrame(ratings_dict)"
   ]
  },
  {
   "cell_type": "code",
   "execution_count": null,
   "metadata": {},
   "outputs": [],
   "source": [
    "# Set ratings scale\n",
    "reader = Reader(rating_scale=(0,1))"
   ]
  },
  {
   "cell_type": "code",
   "execution_count": null,
   "metadata": {},
   "outputs": [],
   "source": [
    "ratings_dataset = Dataset.load_from_df(ratings_df[['color_id', 'concept_id', 'ratings']], reader)"
   ]
  },
  {
   "cell_type": "markdown",
   "metadata": {},
   "source": [
    "## Try different completion methods"
   ]
  },
  {
   "cell_type": "markdown",
   "metadata": {},
   "source": [
    "### SVD"
   ]
  },
  {
   "cell_type": "code",
   "execution_count": null,
   "metadata": {},
   "outputs": [],
   "source": [
    "method = SVD()\n",
    "trainset, testset = train_test_split(ratings_dataset, test_size=.20)"
   ]
  },
  {
   "cell_type": "code",
   "execution_count": null,
   "metadata": {},
   "outputs": [],
   "source": [
    "cv_results = cross_validate(method, ratings_dataset, measures=['RMSE', 'MAE'], cv=10, verbose=True)\n",
    "np.mean(cv_results['test_rmse'])"
   ]
  },
  {
   "cell_type": "code",
   "execution_count": null,
   "metadata": {},
   "outputs": [],
   "source": [
    "method.fit(trainset)\n",
    "predictions = method.test(testset)\n",
    "\n",
    "# Then compute RMSE\n",
    "accuracy.rmse(predictions)"
   ]
  },
  {
   "cell_type": "markdown",
   "metadata": {},
   "source": [
    "### SVD++"
   ]
  },
  {
   "cell_type": "code",
   "execution_count": null,
   "metadata": {},
   "outputs": [],
   "source": [
    "method = SVDpp()\n",
    "trainset, testset = train_test_split(ratings_dataset, test_size=.20)\n",
    "cv_results = cross_validate(method, ratings_dataset, measures=['RMSE', 'MAE'], cv=10, verbose=True)\n",
    "np.mean(cv_results['test_rmse'])"
   ]
  },
  {
   "cell_type": "markdown",
   "metadata": {},
   "source": [
    "### K-NN Basic"
   ]
  },
  {
   "cell_type": "code",
   "execution_count": null,
   "metadata": {},
   "outputs": [],
   "source": [
    "method = KNNBasic()\n",
    "trainset, testset = train_test_split(ratings_dataset, test_size=.20)\n",
    "cv_results = cross_validate(method, ratings_dataset, measures=['RMSE', 'MAE'], cv=10, verbose=True)\n",
    "np.mean(cv_results['test_rmse'])"
   ]
  },
  {
   "cell_type": "code",
   "execution_count": null,
   "metadata": {},
   "outputs": [],
   "source": [
    "predictions"
   ]
  },
  {
   "cell_type": "code",
   "execution_count": null,
   "metadata": {},
   "outputs": [],
   "source": []
  },
  {
   "cell_type": "code",
   "execution_count": null,
   "metadata": {},
   "outputs": [],
   "source": []
  },
  {
   "cell_type": "code",
   "execution_count": null,
   "metadata": {},
   "outputs": [],
   "source": []
  },
  {
   "cell_type": "code",
   "execution_count": null,
   "metadata": {},
   "outputs": [],
   "source": [
    "pred = method.predict(uid, iid, r_ui=0.082269, verbose=True)"
   ]
  },
  {
   "cell_type": "code",
   "execution_count": null,
   "metadata": {},
   "outputs": [],
   "source": [
    "fcm_df"
   ]
  },
  {
   "cell_type": "code",
   "execution_count": null,
   "metadata": {},
   "outputs": [],
   "source": []
  }
 ],
 "metadata": {
  "kernelspec": {
   "display_name": "Python 3",
   "language": "python",
   "name": "python3"
  },
  "language_info": {
   "codemirror_mode": {
    "name": "ipython",
    "version": 3
   },
   "file_extension": ".py",
   "mimetype": "text/x-python",
   "name": "python",
   "nbconvert_exporter": "python",
   "pygments_lexer": "ipython3",
   "version": "3.7.3"
  }
 },
 "nbformat": 4,
 "nbformat_minor": 2
}
