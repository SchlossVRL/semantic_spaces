{
 "cells": [
  {
   "cell_type": "code",
   "execution_count": 1,
   "metadata": {},
   "outputs": [],
   "source": [
    "import numpy as np\n",
    "import sklearn\n",
    "import matplotlib\n",
    "import pandas as pd\n",
    "import os\n",
    "import matplotlib\n",
    "import matplotlib.pyplot as plt "
   ]
  },
  {
   "cell_type": "code",
   "execution_count": 2,
   "metadata": {},
   "outputs": [],
   "source": [
    "from sklearn import linear_model as lm"
   ]
  },
  {
   "cell_type": "code",
   "execution_count": 3,
   "metadata": {},
   "outputs": [],
   "source": [
    "for i in range(1,59):\n",
    "    A = pd.read_csv('../../data/basis_vecs_scaled_color_{}.csv'.format(i))\n",
    "    A = np.array(A)\n",
    "    A = np.delete(A, 0, axis=1)\n",
    "    A_8 = A[:,0:8]\n",
    "    A_8_df = pd.DataFrame(A_8)\n",
    "    A_8_df.to_csv('../../data/8_basis_vecs_scaled_color_{}.csv'.format(i))"
   ]
  },
  {
   "cell_type": "code",
   "execution_count": 4,
   "metadata": {},
   "outputs": [],
   "source": [
    "A = pd.read_csv('../../data/basis_vecs_scaled.csv')\n",
    "ratings= pd.read_csv('../../data/uw_58_ratings_matrix.csv')\n",
    "c_means = pd.read_csv('../../data/col_means.csv')"
   ]
  },
  {
   "cell_type": "code",
   "execution_count": null,
   "metadata": {},
   "outputs": [],
   "source": []
  },
  {
   "cell_type": "code",
   "execution_count": 5,
   "metadata": {},
   "outputs": [],
   "source": [
    "A = np.array(A)\n",
    "A = np.delete(A, 0, axis=1)\n",
    "A_8 = A[:,0:8]"
   ]
  },
  {
   "cell_type": "code",
   "execution_count": 6,
   "metadata": {},
   "outputs": [],
   "source": [
    "A_8_df = pd.DataFrame(A_8)"
   ]
  },
  {
   "cell_type": "code",
   "execution_count": 7,
   "metadata": {},
   "outputs": [],
   "source": [
    "A_8_df.to_csv('../../data/8_basis_vecs_scaled.csv')"
   ]
  },
  {
   "cell_type": "code",
   "execution_count": null,
   "metadata": {},
   "outputs": [],
   "source": []
  },
  {
   "cell_type": "code",
   "execution_count": null,
   "metadata": {},
   "outputs": [],
   "source": []
  },
  {
   "cell_type": "code",
   "execution_count": 136,
   "metadata": {},
   "outputs": [
    {
     "data": {
      "text/plain": [
       "14"
      ]
     },
     "execution_count": 136,
     "metadata": {},
     "output_type": "execute_result"
    }
   ],
   "source": [
    "len(color_inds)"
   ]
  },
  {
   "cell_type": "code",
   "execution_count": null,
   "metadata": {},
   "outputs": [],
   "source": []
  },
  {
   "cell_type": "code",
   "execution_count": null,
   "metadata": {},
   "outputs": [],
   "source": []
  },
  {
   "cell_type": "code",
   "execution_count": 8,
   "metadata": {},
   "outputs": [],
   "source": [
    "concept_ratings = ratings.iloc[22][1:59]\n",
    "concept_ratings = np.array(concept_ratings)\n",
    "concept_ratings = concept_ratings-c_means.V1.values"
   ]
  },
  {
   "cell_type": "code",
   "execution_count": 9,
   "metadata": {},
   "outputs": [],
   "source": [
    "\n",
    "##high low col inds\n",
    "\n",
    "#color_inds = [4, 22, 23, 26, 29, 32, 53, 56]#CVXOPT \n",
    "#color_inds = [3, 4, 8, 22, 23, 24, 26, 53] #SCS\n",
    "color_inds=[0, 2, 3, 13, 22, 23, 26, 27, 32, 36, 49, 53, 55, 57] ## * best\n",
    "#color_inds=[0, 2, 3, 13, 22, 23, 32, 49, 53, 55, 57] ##\n",
    "\n",
    "#color_inds = [1,  7,  8, 12, 14, 19, 27, 28, 31, 33, 38, 46, 53] ## from R top and bottom\n",
    "#color_inds = [1,  2,  8, 12, 14, 19, 26, 27, 28, 33, 35, 36, 38, 39, 55] ##top 2\n",
    "#color_inds = [x - 1 for x in color_inds]\n"
   ]
  },
  {
   "cell_type": "code",
   "execution_count": null,
   "metadata": {},
   "outputs": [],
   "source": []
  },
  {
   "cell_type": "code",
   "execution_count": 71,
   "metadata": {},
   "outputs": [
    {
     "ename": "IndexError",
     "evalue": "index 57 is out of bounds for axis 0 with size 57",
     "output_type": "error",
     "traceback": [
      "\u001b[0;31m---------------------------------------------------------------------------\u001b[0m",
      "\u001b[0;31mIndexError\u001b[0m                                Traceback (most recent call last)",
      "\u001b[0;32m<ipython-input-71-bb70fbd2343b>\u001b[0m in \u001b[0;36m<module>\u001b[0;34m\u001b[0m\n\u001b[0;32m----> 1\u001b[0;31m \u001b[0mA_8\u001b[0m\u001b[0;34m[\u001b[0m\u001b[0mcolor_inds\u001b[0m\u001b[0;34m,\u001b[0m\u001b[0;34m:\u001b[0m\u001b[0;34m]\u001b[0m\u001b[0;34m.\u001b[0m\u001b[0mshape\u001b[0m\u001b[0;34m\u001b[0m\u001b[0;34m\u001b[0m\u001b[0m\n\u001b[0m",
      "\u001b[0;31mIndexError\u001b[0m: index 57 is out of bounds for axis 0 with size 57"
     ]
    }
   ],
   "source": [
    "A_8[color_inds,:].shape"
   ]
  },
  {
   "cell_type": "code",
   "execution_count": null,
   "metadata": {},
   "outputs": [],
   "source": []
  },
  {
   "cell_type": "code",
   "execution_count": 10,
   "metadata": {},
   "outputs": [],
   "source": [
    "reg = lm.LinearRegression().fit(A_8[color_inds,:], concept_ratings[color_inds])\n"
   ]
  },
  {
   "cell_type": "code",
   "execution_count": 11,
   "metadata": {},
   "outputs": [
    {
     "data": {
      "text/plain": [
       "array([ 1.05721624,  0.02064908, -2.28111874,  0.67065445, -0.25435828,\n",
       "       -1.04135828,  0.2270893 , -0.12126337])"
      ]
     },
     "execution_count": 11,
     "metadata": {},
     "output_type": "execute_result"
    }
   ],
   "source": [
    "coords = reg.coef_\n",
    "coords"
   ]
  },
  {
   "cell_type": "code",
   "execution_count": 12,
   "metadata": {},
   "outputs": [],
   "source": [
    "predicted_ratings = np.matmul(A_8,coords)+c_means.V1.values\n"
   ]
  },
  {
   "cell_type": "code",
   "execution_count": 13,
   "metadata": {},
   "outputs": [],
   "source": [
    "tru_ratings = np.array(concept_ratings+c_means.V1.values, dtype = 'float')\n"
   ]
  },
  {
   "cell_type": "code",
   "execution_count": 14,
   "metadata": {},
   "outputs": [
    {
     "data": {
      "text/plain": [
       "array([[1.        , 0.98107695],\n",
       "       [0.98107695, 1.        ]])"
      ]
     },
     "execution_count": 14,
     "metadata": {},
     "output_type": "execute_result"
    }
   ],
   "source": [
    "np.corrcoef(predicted_ratings,tru_ratings)"
   ]
  },
  {
   "cell_type": "code",
   "execution_count": 15,
   "metadata": {},
   "outputs": [],
   "source": [
    "#np.matmul(A_8,np.matmul(concept_ratings[color_inds],A_8[color_inds,:]))+c_means.V1.values"
   ]
  },
  {
   "cell_type": "code",
   "execution_count": 16,
   "metadata": {},
   "outputs": [
    {
     "data": {
      "text/plain": [
       "array([[1.        , 0.97424084],\n",
       "       [0.97424084, 1.        ]])"
      ]
     },
     "execution_count": 16,
     "metadata": {},
     "output_type": "execute_result"
    }
   ],
   "source": [
    "np.corrcoef(np.matmul(A_8,coords).astype(float),concept_ratings.astype(float))"
   ]
  },
  {
   "cell_type": "code",
   "execution_count": null,
   "metadata": {},
   "outputs": [],
   "source": []
  },
  {
   "cell_type": "code",
   "execution_count": 17,
   "metadata": {},
   "outputs": [],
   "source": [
    "conc_prof_mat = np.zeros(shape=(30,8))\n",
    "\n",
    "cors = []\n",
    "L2s = []\n",
    "for i in range(ratings.shape[0]):\n",
    "    concept_ratings = ratings.iloc[i][1:59]\n",
    "    concept_ratings = np.array(concept_ratings)\n",
    "    concept_ratings = concept_ratings-c_means.V1.values\n",
    "    reg = lm.LinearRegression().fit(A_8[color_inds,:], concept_ratings[color_inds])\n",
    "    #reg = lm.LinearRegression().fit(A_8, concept_ratings)\n",
    "    coords = reg.coef_[0:8]\n",
    "    recon = np.matmul(A_8,coords)\n",
    "    cors.append(np.corrcoef(recon.astype(float),concept_ratings.astype(float))[0,1])\n",
    "    L2s.append(np.linalg.norm(recon-concept_ratings))\n",
    "    conc_prof_mat[i,:] = coords\n",
    "               "
   ]
  },
  {
   "cell_type": "code",
   "execution_count": 74,
   "metadata": {},
   "outputs": [
    {
     "data": {
      "text/plain": [
       "array(['dress', 'pants', 'shirt', 'shoes', 'socks', 'above', 'below',\n",
       "       'beside', 'far', 'near', 'angry', 'disgust', 'fearful', 'happy',\n",
       "       'sad', 'blueberry', 'lemon', 'mango', 'strawberry', 'watermelon',\n",
       "       'beach', 'field', 'ocean', 'sky', 'sunset', 'dawn', 'day', 'dusk',\n",
       "       'night', 'noon'], dtype=object)"
      ]
     },
     "execution_count": 74,
     "metadata": {},
     "output_type": "execute_result"
    }
   ],
   "source": [
    "ratings.iloc[:,0].values"
   ]
  },
  {
   "cell_type": "code",
   "execution_count": 18,
   "metadata": {},
   "outputs": [
    {
     "data": {
      "text/html": [
       "<div>\n",
       "<style scoped>\n",
       "    .dataframe tbody tr th:only-of-type {\n",
       "        vertical-align: middle;\n",
       "    }\n",
       "\n",
       "    .dataframe tbody tr th {\n",
       "        vertical-align: top;\n",
       "    }\n",
       "\n",
       "    .dataframe thead th {\n",
       "        text-align: right;\n",
       "    }\n",
       "</style>\n",
       "<table border=\"1\" class=\"dataframe\">\n",
       "  <thead>\n",
       "    <tr style=\"text-align: right;\">\n",
       "      <th></th>\n",
       "      <th>concept</th>\n",
       "      <th>correlation</th>\n",
       "    </tr>\n",
       "  </thead>\n",
       "  <tbody>\n",
       "    <tr>\n",
       "      <th>0</th>\n",
       "      <td>dress</td>\n",
       "      <td>0.769448</td>\n",
       "    </tr>\n",
       "    <tr>\n",
       "      <th>1</th>\n",
       "      <td>pants</td>\n",
       "      <td>0.930343</td>\n",
       "    </tr>\n",
       "    <tr>\n",
       "      <th>2</th>\n",
       "      <td>shirt</td>\n",
       "      <td>0.920607</td>\n",
       "    </tr>\n",
       "    <tr>\n",
       "      <th>3</th>\n",
       "      <td>shoes</td>\n",
       "      <td>0.953365</td>\n",
       "    </tr>\n",
       "    <tr>\n",
       "      <th>4</th>\n",
       "      <td>socks</td>\n",
       "      <td>0.944001</td>\n",
       "    </tr>\n",
       "    <tr>\n",
       "      <th>5</th>\n",
       "      <td>above</td>\n",
       "      <td>0.876223</td>\n",
       "    </tr>\n",
       "    <tr>\n",
       "      <th>6</th>\n",
       "      <td>below</td>\n",
       "      <td>0.871086</td>\n",
       "    </tr>\n",
       "    <tr>\n",
       "      <th>7</th>\n",
       "      <td>beside</td>\n",
       "      <td>0.694140</td>\n",
       "    </tr>\n",
       "    <tr>\n",
       "      <th>8</th>\n",
       "      <td>far</td>\n",
       "      <td>0.849848</td>\n",
       "    </tr>\n",
       "    <tr>\n",
       "      <th>9</th>\n",
       "      <td>near</td>\n",
       "      <td>0.879062</td>\n",
       "    </tr>\n",
       "    <tr>\n",
       "      <th>10</th>\n",
       "      <td>angry</td>\n",
       "      <td>0.836317</td>\n",
       "    </tr>\n",
       "    <tr>\n",
       "      <th>11</th>\n",
       "      <td>disgust</td>\n",
       "      <td>0.878621</td>\n",
       "    </tr>\n",
       "    <tr>\n",
       "      <th>12</th>\n",
       "      <td>fearful</td>\n",
       "      <td>0.887789</td>\n",
       "    </tr>\n",
       "    <tr>\n",
       "      <th>13</th>\n",
       "      <td>happy</td>\n",
       "      <td>0.950281</td>\n",
       "    </tr>\n",
       "    <tr>\n",
       "      <th>14</th>\n",
       "      <td>sad</td>\n",
       "      <td>0.932698</td>\n",
       "    </tr>\n",
       "    <tr>\n",
       "      <th>15</th>\n",
       "      <td>blueberry</td>\n",
       "      <td>0.976406</td>\n",
       "    </tr>\n",
       "    <tr>\n",
       "      <th>16</th>\n",
       "      <td>lemon</td>\n",
       "      <td>0.930113</td>\n",
       "    </tr>\n",
       "    <tr>\n",
       "      <th>17</th>\n",
       "      <td>mango</td>\n",
       "      <td>0.967945</td>\n",
       "    </tr>\n",
       "    <tr>\n",
       "      <th>18</th>\n",
       "      <td>strawberry</td>\n",
       "      <td>0.906336</td>\n",
       "    </tr>\n",
       "    <tr>\n",
       "      <th>19</th>\n",
       "      <td>watermelon</td>\n",
       "      <td>0.951048</td>\n",
       "    </tr>\n",
       "    <tr>\n",
       "      <th>20</th>\n",
       "      <td>beach</td>\n",
       "      <td>0.911746</td>\n",
       "    </tr>\n",
       "    <tr>\n",
       "      <th>21</th>\n",
       "      <td>field</td>\n",
       "      <td>0.983839</td>\n",
       "    </tr>\n",
       "    <tr>\n",
       "      <th>22</th>\n",
       "      <td>ocean</td>\n",
       "      <td>0.974241</td>\n",
       "    </tr>\n",
       "    <tr>\n",
       "      <th>23</th>\n",
       "      <td>sky</td>\n",
       "      <td>0.967842</td>\n",
       "    </tr>\n",
       "    <tr>\n",
       "      <th>24</th>\n",
       "      <td>sunset</td>\n",
       "      <td>0.934877</td>\n",
       "    </tr>\n",
       "    <tr>\n",
       "      <th>25</th>\n",
       "      <td>dawn</td>\n",
       "      <td>0.826090</td>\n",
       "    </tr>\n",
       "    <tr>\n",
       "      <th>26</th>\n",
       "      <td>day</td>\n",
       "      <td>0.943225</td>\n",
       "    </tr>\n",
       "    <tr>\n",
       "      <th>27</th>\n",
       "      <td>dusk</td>\n",
       "      <td>0.835921</td>\n",
       "    </tr>\n",
       "    <tr>\n",
       "      <th>28</th>\n",
       "      <td>night</td>\n",
       "      <td>0.897598</td>\n",
       "    </tr>\n",
       "    <tr>\n",
       "      <th>29</th>\n",
       "      <td>noon</td>\n",
       "      <td>0.948898</td>\n",
       "    </tr>\n",
       "  </tbody>\n",
       "</table>\n",
       "</div>"
      ],
      "text/plain": [
       "       concept  correlation\n",
       "0        dress     0.769448\n",
       "1        pants     0.930343\n",
       "2        shirt     0.920607\n",
       "3        shoes     0.953365\n",
       "4        socks     0.944001\n",
       "5        above     0.876223\n",
       "6        below     0.871086\n",
       "7       beside     0.694140\n",
       "8          far     0.849848\n",
       "9         near     0.879062\n",
       "10       angry     0.836317\n",
       "11     disgust     0.878621\n",
       "12     fearful     0.887789\n",
       "13       happy     0.950281\n",
       "14         sad     0.932698\n",
       "15   blueberry     0.976406\n",
       "16       lemon     0.930113\n",
       "17       mango     0.967945\n",
       "18  strawberry     0.906336\n",
       "19  watermelon     0.951048\n",
       "20       beach     0.911746\n",
       "21       field     0.983839\n",
       "22       ocean     0.974241\n",
       "23         sky     0.967842\n",
       "24      sunset     0.934877\n",
       "25        dawn     0.826090\n",
       "26         day     0.943225\n",
       "27        dusk     0.835921\n",
       "28       night     0.897598\n",
       "29        noon     0.948898"
      ]
     },
     "execution_count": 18,
     "metadata": {},
     "output_type": "execute_result"
    }
   ],
   "source": [
    "pd.DataFrame(list(zip(list(ratings.iloc[:,0]),cors)), columns = ['concept','correlation'])"
   ]
  },
  {
   "cell_type": "code",
   "execution_count": 19,
   "metadata": {},
   "outputs": [
    {
     "data": {
      "text/plain": [
       "0.9043318379279122"
      ]
     },
     "execution_count": 19,
     "metadata": {},
     "output_type": "execute_result"
    }
   ],
   "source": [
    "np.mean(cors)"
   ]
  },
  {
   "cell_type": "code",
   "execution_count": 20,
   "metadata": {},
   "outputs": [],
   "source": [
    "#plt.scatter(recon,concept_ratings)"
   ]
  },
  {
   "cell_type": "code",
   "execution_count": null,
   "metadata": {},
   "outputs": [],
   "source": []
  },
  {
   "cell_type": "code",
   "execution_count": 21,
   "metadata": {},
   "outputs": [],
   "source": [
    "# cors = []\n",
    "# L2s = []\n",
    "# for i in range(ratings.shape[0]-1):\n",
    "#     concept_ratings = ratings.iloc[i][1:59]\n",
    "#     concept_ratings = np.array(concept_ratings)\n",
    "   \n",
    "#     recon = np.matmul(A_8, np.matmul(concept_ratings[color_inds],A_8[color_inds,:]))\n",
    "#     #recon = np.matmul(A_8, np.matmul(concept_ratings,A_8))\n",
    "    \n",
    "    \n",
    "#     cors.append(np.corrcoef(recon.astype(float),concept_ratings.astype(float))[0,1])\n",
    "#     L2s.append(np.linalg.norm(recon-concept_ratings))\n",
    "               "
   ]
  },
  {
   "cell_type": "code",
   "execution_count": 22,
   "metadata": {},
   "outputs": [],
   "source": [
    "#pd.DataFrame(list(zip(list(ratings.iloc[:,0]),cors,L2s)), columns = ['concept','correlation','L2_norm'])"
   ]
  },
  {
   "cell_type": "code",
   "execution_count": 23,
   "metadata": {},
   "outputs": [],
   "source": [
    "#np.mean(cors)"
   ]
  },
  {
   "cell_type": "code",
   "execution_count": 24,
   "metadata": {},
   "outputs": [],
   "source": [
    "#recon+c_means.V1.values"
   ]
  },
  {
   "cell_type": "code",
   "execution_count": 25,
   "metadata": {},
   "outputs": [],
   "source": [
    "#concept_ratings"
   ]
  },
  {
   "cell_type": "code",
   "execution_count": null,
   "metadata": {},
   "outputs": [],
   "source": []
  },
  {
   "cell_type": "code",
   "execution_count": null,
   "metadata": {},
   "outputs": [],
   "source": []
  },
  {
   "cell_type": "code",
   "execution_count": 26,
   "metadata": {},
   "outputs": [],
   "source": [
    "concept_list = ratings.iloc[:,0].values"
   ]
  },
  {
   "cell_type": "code",
   "execution_count": 27,
   "metadata": {},
   "outputs": [],
   "source": [
    "cors= []\n",
    "for this_concept in concept_list:\n",
    "    ratings_sub = ratings[~ratings.iloc[:,0].isin([this_concept])]\n",
    "    A = pd.read_csv('../../data/basis_vecs_scaled_{}.csv'.format(this_concept))\n",
    "    A = np.array(A)\n",
    "    A = np.delete(A, 0, axis=1)\n",
    "    A_8 = A[:,0:8]\n",
    "    concept_ratings = np.array(ratings[ratings.iloc[:,0].isin([this_concept])].iloc[:,1:59])-c_means.V1.values\n",
    "    reg = lm.LinearRegression().fit(A_8[color_inds,:], concept_ratings.squeeze(0)[color_inds])\n",
    "    #reg = lm.LinearRegression().fit(A_8, concept_ratings.squeeze(0))\n",
    "    coords = reg.coef_[0:8]\n",
    "    recon = np.matmul(A_8,coords)\n",
    "    cors.append(np.corrcoef(recon.astype(float),concept_ratings.squeeze(0).astype(float))[0,1])\n",
    "\n",
    "    "
   ]
  },
  {
   "cell_type": "code",
   "execution_count": 72,
   "metadata": {},
   "outputs": [
    {
     "data": {
      "text/plain": [
       "(57, 8)"
      ]
     },
     "execution_count": 72,
     "metadata": {},
     "output_type": "execute_result"
    }
   ],
   "source": []
  },
  {
   "cell_type": "code",
   "execution_count": 28,
   "metadata": {},
   "outputs": [
    {
     "data": {
      "text/html": [
       "<div>\n",
       "<style scoped>\n",
       "    .dataframe tbody tr th:only-of-type {\n",
       "        vertical-align: middle;\n",
       "    }\n",
       "\n",
       "    .dataframe tbody tr th {\n",
       "        vertical-align: top;\n",
       "    }\n",
       "\n",
       "    .dataframe thead th {\n",
       "        text-align: right;\n",
       "    }\n",
       "</style>\n",
       "<table border=\"1\" class=\"dataframe\">\n",
       "  <thead>\n",
       "    <tr style=\"text-align: right;\">\n",
       "      <th></th>\n",
       "      <th>concept</th>\n",
       "      <th>correlation</th>\n",
       "    </tr>\n",
       "  </thead>\n",
       "  <tbody>\n",
       "    <tr>\n",
       "      <th>0</th>\n",
       "      <td>dress</td>\n",
       "      <td>0.618438</td>\n",
       "    </tr>\n",
       "    <tr>\n",
       "      <th>1</th>\n",
       "      <td>pants</td>\n",
       "      <td>0.899356</td>\n",
       "    </tr>\n",
       "    <tr>\n",
       "      <th>2</th>\n",
       "      <td>shirt</td>\n",
       "      <td>0.867638</td>\n",
       "    </tr>\n",
       "    <tr>\n",
       "      <th>3</th>\n",
       "      <td>shoes</td>\n",
       "      <td>0.927324</td>\n",
       "    </tr>\n",
       "    <tr>\n",
       "      <th>4</th>\n",
       "      <td>socks</td>\n",
       "      <td>0.915416</td>\n",
       "    </tr>\n",
       "    <tr>\n",
       "      <th>5</th>\n",
       "      <td>above</td>\n",
       "      <td>0.833670</td>\n",
       "    </tr>\n",
       "    <tr>\n",
       "      <th>6</th>\n",
       "      <td>below</td>\n",
       "      <td>0.749995</td>\n",
       "    </tr>\n",
       "    <tr>\n",
       "      <th>7</th>\n",
       "      <td>beside</td>\n",
       "      <td>0.328347</td>\n",
       "    </tr>\n",
       "    <tr>\n",
       "      <th>8</th>\n",
       "      <td>far</td>\n",
       "      <td>0.574342</td>\n",
       "    </tr>\n",
       "    <tr>\n",
       "      <th>9</th>\n",
       "      <td>near</td>\n",
       "      <td>0.750625</td>\n",
       "    </tr>\n",
       "    <tr>\n",
       "      <th>10</th>\n",
       "      <td>angry</td>\n",
       "      <td>0.767797</td>\n",
       "    </tr>\n",
       "    <tr>\n",
       "      <th>11</th>\n",
       "      <td>disgust</td>\n",
       "      <td>0.835646</td>\n",
       "    </tr>\n",
       "    <tr>\n",
       "      <th>12</th>\n",
       "      <td>fearful</td>\n",
       "      <td>0.862647</td>\n",
       "    </tr>\n",
       "    <tr>\n",
       "      <th>13</th>\n",
       "      <td>happy</td>\n",
       "      <td>0.891595</td>\n",
       "    </tr>\n",
       "    <tr>\n",
       "      <th>14</th>\n",
       "      <td>sad</td>\n",
       "      <td>0.892329</td>\n",
       "    </tr>\n",
       "    <tr>\n",
       "      <th>15</th>\n",
       "      <td>blueberry</td>\n",
       "      <td>0.920580</td>\n",
       "    </tr>\n",
       "    <tr>\n",
       "      <th>16</th>\n",
       "      <td>lemon</td>\n",
       "      <td>0.850406</td>\n",
       "    </tr>\n",
       "    <tr>\n",
       "      <th>17</th>\n",
       "      <td>mango</td>\n",
       "      <td>0.935707</td>\n",
       "    </tr>\n",
       "    <tr>\n",
       "      <th>18</th>\n",
       "      <td>strawberry</td>\n",
       "      <td>0.821028</td>\n",
       "    </tr>\n",
       "    <tr>\n",
       "      <th>19</th>\n",
       "      <td>watermelon</td>\n",
       "      <td>0.842459</td>\n",
       "    </tr>\n",
       "    <tr>\n",
       "      <th>20</th>\n",
       "      <td>beach</td>\n",
       "      <td>0.791163</td>\n",
       "    </tr>\n",
       "    <tr>\n",
       "      <th>21</th>\n",
       "      <td>field</td>\n",
       "      <td>0.958979</td>\n",
       "    </tr>\n",
       "    <tr>\n",
       "      <th>22</th>\n",
       "      <td>ocean</td>\n",
       "      <td>0.916167</td>\n",
       "    </tr>\n",
       "    <tr>\n",
       "      <th>23</th>\n",
       "      <td>sky</td>\n",
       "      <td>0.948431</td>\n",
       "    </tr>\n",
       "    <tr>\n",
       "      <th>24</th>\n",
       "      <td>sunset</td>\n",
       "      <td>0.790417</td>\n",
       "    </tr>\n",
       "    <tr>\n",
       "      <th>25</th>\n",
       "      <td>dawn</td>\n",
       "      <td>0.715485</td>\n",
       "    </tr>\n",
       "    <tr>\n",
       "      <th>26</th>\n",
       "      <td>day</td>\n",
       "      <td>0.917154</td>\n",
       "    </tr>\n",
       "    <tr>\n",
       "      <th>27</th>\n",
       "      <td>dusk</td>\n",
       "      <td>0.708237</td>\n",
       "    </tr>\n",
       "    <tr>\n",
       "      <th>28</th>\n",
       "      <td>night</td>\n",
       "      <td>0.871572</td>\n",
       "    </tr>\n",
       "    <tr>\n",
       "      <th>29</th>\n",
       "      <td>noon</td>\n",
       "      <td>0.905854</td>\n",
       "    </tr>\n",
       "  </tbody>\n",
       "</table>\n",
       "</div>"
      ],
      "text/plain": [
       "       concept  correlation\n",
       "0        dress     0.618438\n",
       "1        pants     0.899356\n",
       "2        shirt     0.867638\n",
       "3        shoes     0.927324\n",
       "4        socks     0.915416\n",
       "5        above     0.833670\n",
       "6        below     0.749995\n",
       "7       beside     0.328347\n",
       "8          far     0.574342\n",
       "9         near     0.750625\n",
       "10       angry     0.767797\n",
       "11     disgust     0.835646\n",
       "12     fearful     0.862647\n",
       "13       happy     0.891595\n",
       "14         sad     0.892329\n",
       "15   blueberry     0.920580\n",
       "16       lemon     0.850406\n",
       "17       mango     0.935707\n",
       "18  strawberry     0.821028\n",
       "19  watermelon     0.842459\n",
       "20       beach     0.791163\n",
       "21       field     0.958979\n",
       "22       ocean     0.916167\n",
       "23         sky     0.948431\n",
       "24      sunset     0.790417\n",
       "25        dawn     0.715485\n",
       "26         day     0.917154\n",
       "27        dusk     0.708237\n",
       "28       night     0.871572\n",
       "29        noon     0.905854"
      ]
     },
     "execution_count": 28,
     "metadata": {},
     "output_type": "execute_result"
    }
   ],
   "source": [
    "pd.DataFrame(list(zip(list(ratings.iloc[:,0]),cors)), columns = ['concept','correlation'])"
   ]
  },
  {
   "cell_type": "code",
   "execution_count": 29,
   "metadata": {},
   "outputs": [
    {
     "data": {
      "text/plain": [
       "0.8202934188673098"
      ]
     },
     "execution_count": 29,
     "metadata": {},
     "output_type": "execute_result"
    }
   ],
   "source": [
    "np.mean(cors)"
   ]
  },
  {
   "cell_type": "code",
   "execution_count": null,
   "metadata": {},
   "outputs": [],
   "source": []
  },
  {
   "cell_type": "code",
   "execution_count": 30,
   "metadata": {},
   "outputs": [],
   "source": [
    "prof_coef_mat = pd.read_csv('../../data/8_regression_weights.csv', header=None).to_numpy()\n",
    "color_coord_mat = pd.read_csv('../../data/uw58_regressor_vals.csv',header=None).to_numpy()"
   ]
  },
  {
   "cell_type": "code",
   "execution_count": 31,
   "metadata": {},
   "outputs": [
    {
     "data": {
      "text/plain": [
       "(7, 58)"
      ]
     },
     "execution_count": 31,
     "metadata": {},
     "output_type": "execute_result"
    }
   ],
   "source": [
    "color_coord_mat.shape"
   ]
  },
  {
   "cell_type": "code",
   "execution_count": null,
   "metadata": {},
   "outputs": [],
   "source": []
  },
  {
   "cell_type": "code",
   "execution_count": 32,
   "metadata": {},
   "outputs": [],
   "source": [
    "recon = np.matmul(conc_prof_mat,np.matmul(prof_coef_mat.T,color_coord_mat)).T\n"
   ]
  },
  {
   "cell_type": "code",
   "execution_count": 33,
   "metadata": {},
   "outputs": [],
   "source": [
    "recon = recon+c_means.V1.values.reshape(58,1)\n",
    "recon = recon.T"
   ]
  },
  {
   "cell_type": "code",
   "execution_count": 34,
   "metadata": {},
   "outputs": [
    {
     "data": {
      "text/plain": [
       "(30, 58)"
      ]
     },
     "execution_count": 34,
     "metadata": {},
     "output_type": "execute_result"
    }
   ],
   "source": [
    "recon.shape"
   ]
  },
  {
   "cell_type": "code",
   "execution_count": 35,
   "metadata": {},
   "outputs": [
    {
     "data": {
      "text/plain": [
       "(30, 58)"
      ]
     },
     "execution_count": 35,
     "metadata": {},
     "output_type": "execute_result"
    }
   ],
   "source": [
    "ratings_np = ratings.iloc[:,1:59].to_numpy()\n",
    "ratings_np.shape"
   ]
  },
  {
   "cell_type": "code",
   "execution_count": 36,
   "metadata": {},
   "outputs": [
    {
     "data": {
      "text/plain": [
       "array([[1.       , 0.7141342],\n",
       "       [0.7141342, 1.       ]])"
      ]
     },
     "execution_count": 36,
     "metadata": {},
     "output_type": "execute_result"
    }
   ],
   "source": [
    "np.corrcoef(recon[0,],ratings_np[0,])"
   ]
  },
  {
   "cell_type": "code",
   "execution_count": 37,
   "metadata": {},
   "outputs": [],
   "source": [
    "recon_cors = []\n",
    "for i in range(30):\n",
    "    recon_cors.append(np.corrcoef(recon[i,], ratings_np[i,])[0,1])"
   ]
  },
  {
   "cell_type": "code",
   "execution_count": null,
   "metadata": {},
   "outputs": [],
   "source": []
  },
  {
   "cell_type": "code",
   "execution_count": 75,
   "metadata": {},
   "outputs": [],
   "source": [
    "concept_holdout = pd.DataFrame(list(zip(list(ratings.iloc[:,0]),recon_cors)), columns = ['concept','correlation'])"
   ]
  },
  {
   "cell_type": "code",
   "execution_count": 82,
   "metadata": {},
   "outputs": [
    {
     "data": {
      "text/html": [
       "<div>\n",
       "<style scoped>\n",
       "    .dataframe tbody tr th:only-of-type {\n",
       "        vertical-align: middle;\n",
       "    }\n",
       "\n",
       "    .dataframe tbody tr th {\n",
       "        vertical-align: top;\n",
       "    }\n",
       "\n",
       "    .dataframe thead th {\n",
       "        text-align: right;\n",
       "    }\n",
       "</style>\n",
       "<table border=\"1\" class=\"dataframe\">\n",
       "  <thead>\n",
       "    <tr style=\"text-align: right;\">\n",
       "      <th></th>\n",
       "      <th>concept</th>\n",
       "      <th>correlation</th>\n",
       "    </tr>\n",
       "  </thead>\n",
       "  <tbody>\n",
       "    <tr>\n",
       "      <th>0</th>\n",
       "      <td>dress</td>\n",
       "      <td>0.714134</td>\n",
       "    </tr>\n",
       "    <tr>\n",
       "      <th>1</th>\n",
       "      <td>pants</td>\n",
       "      <td>0.839920</td>\n",
       "    </tr>\n",
       "    <tr>\n",
       "      <th>2</th>\n",
       "      <td>shirt</td>\n",
       "      <td>0.843371</td>\n",
       "    </tr>\n",
       "    <tr>\n",
       "      <th>3</th>\n",
       "      <td>shoes</td>\n",
       "      <td>0.768213</td>\n",
       "    </tr>\n",
       "    <tr>\n",
       "      <th>4</th>\n",
       "      <td>socks</td>\n",
       "      <td>0.807631</td>\n",
       "    </tr>\n",
       "    <tr>\n",
       "      <th>5</th>\n",
       "      <td>above</td>\n",
       "      <td>0.798357</td>\n",
       "    </tr>\n",
       "    <tr>\n",
       "      <th>6</th>\n",
       "      <td>below</td>\n",
       "      <td>0.674302</td>\n",
       "    </tr>\n",
       "    <tr>\n",
       "      <th>7</th>\n",
       "      <td>beside</td>\n",
       "      <td>0.456287</td>\n",
       "    </tr>\n",
       "    <tr>\n",
       "      <th>8</th>\n",
       "      <td>far</td>\n",
       "      <td>0.614848</td>\n",
       "    </tr>\n",
       "    <tr>\n",
       "      <th>9</th>\n",
       "      <td>near</td>\n",
       "      <td>0.746858</td>\n",
       "    </tr>\n",
       "    <tr>\n",
       "      <th>10</th>\n",
       "      <td>angry</td>\n",
       "      <td>0.775191</td>\n",
       "    </tr>\n",
       "    <tr>\n",
       "      <th>11</th>\n",
       "      <td>disgust</td>\n",
       "      <td>0.826326</td>\n",
       "    </tr>\n",
       "    <tr>\n",
       "      <th>12</th>\n",
       "      <td>fearful</td>\n",
       "      <td>0.865956</td>\n",
       "    </tr>\n",
       "    <tr>\n",
       "      <th>13</th>\n",
       "      <td>happy</td>\n",
       "      <td>0.913595</td>\n",
       "    </tr>\n",
       "    <tr>\n",
       "      <th>14</th>\n",
       "      <td>sad</td>\n",
       "      <td>0.882163</td>\n",
       "    </tr>\n",
       "    <tr>\n",
       "      <th>15</th>\n",
       "      <td>blueberry</td>\n",
       "      <td>0.946285</td>\n",
       "    </tr>\n",
       "    <tr>\n",
       "      <th>16</th>\n",
       "      <td>lemon</td>\n",
       "      <td>0.891065</td>\n",
       "    </tr>\n",
       "    <tr>\n",
       "      <th>17</th>\n",
       "      <td>mango</td>\n",
       "      <td>0.882229</td>\n",
       "    </tr>\n",
       "    <tr>\n",
       "      <th>18</th>\n",
       "      <td>strawberry</td>\n",
       "      <td>0.696037</td>\n",
       "    </tr>\n",
       "    <tr>\n",
       "      <th>19</th>\n",
       "      <td>watermelon</td>\n",
       "      <td>0.752043</td>\n",
       "    </tr>\n",
       "    <tr>\n",
       "      <th>20</th>\n",
       "      <td>beach</td>\n",
       "      <td>0.858831</td>\n",
       "    </tr>\n",
       "    <tr>\n",
       "      <th>21</th>\n",
       "      <td>field</td>\n",
       "      <td>0.922272</td>\n",
       "    </tr>\n",
       "    <tr>\n",
       "      <th>22</th>\n",
       "      <td>ocean</td>\n",
       "      <td>0.933568</td>\n",
       "    </tr>\n",
       "    <tr>\n",
       "      <th>23</th>\n",
       "      <td>sky</td>\n",
       "      <td>0.914468</td>\n",
       "    </tr>\n",
       "    <tr>\n",
       "      <th>24</th>\n",
       "      <td>sunset</td>\n",
       "      <td>0.816657</td>\n",
       "    </tr>\n",
       "    <tr>\n",
       "      <th>25</th>\n",
       "      <td>dawn</td>\n",
       "      <td>0.728908</td>\n",
       "    </tr>\n",
       "    <tr>\n",
       "      <th>26</th>\n",
       "      <td>day</td>\n",
       "      <td>0.873783</td>\n",
       "    </tr>\n",
       "    <tr>\n",
       "      <th>27</th>\n",
       "      <td>dusk</td>\n",
       "      <td>0.784794</td>\n",
       "    </tr>\n",
       "    <tr>\n",
       "      <th>28</th>\n",
       "      <td>night</td>\n",
       "      <td>0.842350</td>\n",
       "    </tr>\n",
       "    <tr>\n",
       "      <th>29</th>\n",
       "      <td>noon</td>\n",
       "      <td>0.919236</td>\n",
       "    </tr>\n",
       "  </tbody>\n",
       "</table>\n",
       "</div>"
      ],
      "text/plain": [
       "       concept  correlation\n",
       "0        dress     0.714134\n",
       "1        pants     0.839920\n",
       "2        shirt     0.843371\n",
       "3        shoes     0.768213\n",
       "4        socks     0.807631\n",
       "5        above     0.798357\n",
       "6        below     0.674302\n",
       "7       beside     0.456287\n",
       "8          far     0.614848\n",
       "9         near     0.746858\n",
       "10       angry     0.775191\n",
       "11     disgust     0.826326\n",
       "12     fearful     0.865956\n",
       "13       happy     0.913595\n",
       "14         sad     0.882163\n",
       "15   blueberry     0.946285\n",
       "16       lemon     0.891065\n",
       "17       mango     0.882229\n",
       "18  strawberry     0.696037\n",
       "19  watermelon     0.752043\n",
       "20       beach     0.858831\n",
       "21       field     0.922272\n",
       "22       ocean     0.933568\n",
       "23         sky     0.914468\n",
       "24      sunset     0.816657\n",
       "25        dawn     0.728908\n",
       "26         day     0.873783\n",
       "27        dusk     0.784794\n",
       "28       night     0.842350\n",
       "29        noon     0.919236"
      ]
     },
     "execution_count": 82,
     "metadata": {},
     "output_type": "execute_result"
    }
   ],
   "source": [
    "concept_holdout"
   ]
  },
  {
   "cell_type": "code",
   "execution_count": null,
   "metadata": {},
   "outputs": [],
   "source": []
  },
  {
   "cell_type": "code",
   "execution_count": 135,
   "metadata": {},
   "outputs": [
    {
     "name": "stderr",
     "output_type": "stream",
     "text": [
      "/usr/local/lib/python3.9/site-packages/seaborn/_decorators.py:36: FutureWarning: Pass the following variables as keyword args: x, y. From version 0.12, the only valid positional argument will be `data`, and passing other arguments without an explicit keyword will result in an error or misinterpretation.\n",
      "  warnings.warn(\n"
     ]
    },
    {
     "data": {
      "image/png": "[encoded data removed]",
      "text/plain": [
       "<Figure size 720x504 with 1 Axes>"
      ]
     },
     "metadata": {},
     "output_type": "display_data"
    }
   ],
   "source": [
    "concept_holdout =concept_holdout.sort_values(['correlation'],ascending=False).reset_index(drop=True)\n",
    "fig = plt.figure(figsize=(10,7))\n",
    "sns.barplot(concept_holdout.concept, concept_holdout.correlation, edgecolor = 'none', color='gray')\n",
    "#plt.axis('off')\n",
    "#plt.xticks([])\n",
    "plt.xticks(rotation = 90, fontsize= 16)\n",
    "plt.xlabel('')\n",
    "plt.yticks(fontsize=18)\n",
    "plt.ylabel('Correlation', fontsize=20)\n",
    "plt.ylim(0,1)\n",
    "ax = plt.gca()\n",
    "#ax.set_facecolor((0.3497,0.3497,0.3497))\n",
    "ax.set_facecolor((1,1,1))\n",
    "\n",
    "plt.savefig('concept_holdout.pdf',format ='pdf',bbox_inches='tight')\n",
    "plt.show()\n"
   ]
  },
  {
   "cell_type": "code",
   "execution_count": 39,
   "metadata": {},
   "outputs": [
    {
     "data": {
      "text/plain": [
       "0.809656018851346"
      ]
     },
     "execution_count": 39,
     "metadata": {},
     "output_type": "execute_result"
    }
   ],
   "source": [
    "np.mean(recon_cors)"
   ]
  },
  {
   "cell_type": "code",
   "execution_count": 40,
   "metadata": {},
   "outputs": [
    {
     "data": {
      "text/plain": [
       "<matplotlib.collections.PathCollection at 0x10cd054c0>"
      ]
     },
     "execution_count": 40,
     "metadata": {},
     "output_type": "execute_result"
    },
    {
     "data": {
      "image/png": "[encoded data removed]",
      "text/plain": [
       "<Figure size 432x288 with 1 Axes>"
      ]
     },
     "metadata": {
      "needs_background": "light"
     },
     "output_type": "display_data"
    }
   ],
   "source": [
    "plt.scatter(recon[6,],ratings_np[6,])"
   ]
  },
  {
   "cell_type": "code",
   "execution_count": null,
   "metadata": {},
   "outputs": [],
   "source": []
  },
  {
   "cell_type": "markdown",
   "metadata": {},
   "source": [
    "## Color generalization"
   ]
  },
  {
   "cell_type": "code",
   "execution_count": 41,
   "metadata": {},
   "outputs": [],
   "source": [
    "assoc_mat = np.array(pd.read_csv('../../data/uw_58_ratings_matrix.csv'))[:,1:]\n",
    "assoc_mat = assoc_mat.astype('float')\n",
    "assoc_mat = assoc_mat- c_means.V1.values\n",
    "from numpy.linalg import inv, svd\n",
    "U,S,Vh = svd(assoc_mat, full_matrices=False)\n",
    "v_sub = Vh[0:8,]\n",
    "conc_prof_mats= U @ np.diag(S)"
   ]
  },
  {
   "cell_type": "code",
   "execution_count": 42,
   "metadata": {},
   "outputs": [],
   "source": [
    "# cors= []\n",
    "\n",
    "# conc_prof_mat_C = np.zeros(shape = (30,8))\n",
    "\n",
    "# ratings.loc[:, ratings.columns != 'V'+str(51)]\n",
    "# for this_color in range(1,59):\n",
    "#     for i in range(ratings.shape[0]):\n",
    "#         column_name = 'V'+str(this_color)\n",
    "#         ratings_sub = ratings.loc[:, ratings.columns != column_name]\n",
    "#         ratings_sub = ratings_sub.iloc[:,1:]\n",
    "#         concept_ratings = np.array(ratings_sub)-c_means[c_means.iloc[:,0]!=this_color].V1.values\n",
    "#         A = pd.read_csv('../../data/basis_vecs_scaled_color_{}.csv'.format(this_color))\n",
    "#         A = np.array(A)\n",
    "#         A = np.delete(A, 0, axis=1)\n",
    "#         A_8 = A[:,0:8]\n",
    "        \n",
    "#         reg = lm.LinearRegression().fit(A_8, concept_ratings.T)\n",
    "#         coords = reg.coef_[0:8]\n",
    "#         recon = np.matmul(A_8,coords)\n",
    "\n",
    "    #cors.append(np.corrcoef(recon.astype(float),concept_ratings.squeeze(0).astype(float))[0,1])\n",
    "\n",
    "    "
   ]
  },
  {
   "cell_type": "code",
   "execution_count": null,
   "metadata": {},
   "outputs": [],
   "source": []
  },
  {
   "cell_type": "code",
   "execution_count": 43,
   "metadata": {},
   "outputs": [],
   "source": [
    "\n",
    "\n",
    "conc_prof_mats = []\n",
    "for this_color in range(1,59):\n",
    "    conc_prof_mat_C = np.zeros(shape=(30,8))\n",
    "    A = pd.read_csv('../../data/basis_vecs_scaled_color_{}.csv'.format(this_color))\n",
    "    A = np.array(A)\n",
    "    A = np.delete(A, 0, axis=1)\n",
    "    A_8 = A[:,0:8]\n",
    "    for i in range(ratings.shape[0]):\n",
    "        \n",
    "        column_name = 'V'+str(this_color)\n",
    "       \n",
    "        \n",
    "        concept_ratings = ratings.loc[:,ratings.columns != column_name]\n",
    "        concept_ratings = concept_ratings.iloc[i][1:]\n",
    "        concept_ratings = np.array(concept_ratings)\n",
    "        concept_ratings = concept_ratings-c_means[c_means.iloc[:,0]!=this_color].V1.values\n",
    "        \n",
    "        \n",
    "        reg = lm.LinearRegression().fit(A_8, concept_ratings)\n",
    "        coords = reg.coef_[0:8]\n",
    "        recon = np.matmul(A_8,coords)\n",
    "        conc_prof_mat_C[i,:] = coords\n",
    "    #conc_prof_mats.append(conc_prof_mat_C)\n",
    "    \n"
   ]
  },
  {
   "cell_type": "code",
   "execution_count": null,
   "metadata": {},
   "outputs": [],
   "source": []
  },
  {
   "cell_type": "code",
   "execution_count": null,
   "metadata": {},
   "outputs": [],
   "source": []
  },
  {
   "cell_type": "code",
   "execution_count": 44,
   "metadata": {},
   "outputs": [],
   "source": [
    "color_coord_mat = pd.read_csv('../../data/uw58_regressor_vals.csv',header=None).to_numpy()\n",
    "cors = []\n",
    "for i in range(1,59):\n",
    "    ratings_sub = ratings.iloc[:,1:]\n",
    "    ratings_sub = ratings_sub.iloc[:,i-1]\n",
    "    \n",
    "    #this_conc_prof_mat = conc_prof_mats[i-1]\n",
    "    this_conc_prof_mat = -pd.read_csv('../../data/left_8_vec_color_{}.csv'.format(i)).to_numpy()[:,1:]\n",
    "    this_prof_coef_mat = pd.read_csv('../../data/8_regression_weights_color_{}.csv'.format(i), header=None).to_numpy()\n",
    "    recon = np.matmul(np.matmul(this_conc_prof_mat,this_prof_coef_mat.T),color_coord_mat)+c_means.V1.values\n",
    "    cors.append(np.corrcoef(recon[:,i-1],ratings_sub)[0,1])\n",
    "    "
   ]
  },
  {
   "cell_type": "code",
   "execution_count": 45,
   "metadata": {},
   "outputs": [],
   "source": [
    "colcors = pd.DataFrame(list(zip(list(range(1,59)),cors)), columns = ['color','holdout_correlation'])\n"
   ]
  },
  {
   "cell_type": "code",
   "execution_count": 99,
   "metadata": {},
   "outputs": [
    {
     "data": {
      "text/html": [
       "<div>\n",
       "<style scoped>\n",
       "    .dataframe tbody tr th:only-of-type {\n",
       "        vertical-align: middle;\n",
       "    }\n",
       "\n",
       "    .dataframe tbody tr th {\n",
       "        vertical-align: top;\n",
       "    }\n",
       "\n",
       "    .dataframe thead th {\n",
       "        text-align: right;\n",
       "    }\n",
       "</style>\n",
       "<table border=\"1\" class=\"dataframe\">\n",
       "  <thead>\n",
       "    <tr style=\"text-align: right;\">\n",
       "      <th></th>\n",
       "      <th>color</th>\n",
       "      <th>holdout_correlation</th>\n",
       "      <th>0</th>\n",
       "      <th>1</th>\n",
       "      <th>2</th>\n",
       "    </tr>\n",
       "  </thead>\n",
       "  <tbody>\n",
       "    <tr>\n",
       "      <th>0</th>\n",
       "      <td>48</td>\n",
       "      <td>0.926530</td>\n",
       "      <td>0.402220</td>\n",
       "      <td>0.811940</td>\n",
       "      <td>0.361440</td>\n",
       "    </tr>\n",
       "    <tr>\n",
       "      <th>1</th>\n",
       "      <td>16</td>\n",
       "      <td>0.911752</td>\n",
       "      <td>0.802940</td>\n",
       "      <td>0.147350</td>\n",
       "      <td>0.779500</td>\n",
       "    </tr>\n",
       "    <tr>\n",
       "      <th>2</th>\n",
       "      <td>2</td>\n",
       "      <td>0.911175</td>\n",
       "      <td>0.110780</td>\n",
       "      <td>0.237980</td>\n",
       "      <td>0.380060</td>\n",
       "    </tr>\n",
       "    <tr>\n",
       "      <th>3</th>\n",
       "      <td>12</td>\n",
       "      <td>0.910582</td>\n",
       "      <td>0.179270</td>\n",
       "      <td>0.188350</td>\n",
       "      <td>0.526100</td>\n",
       "    </tr>\n",
       "    <tr>\n",
       "      <th>4</th>\n",
       "      <td>11</td>\n",
       "      <td>0.909691</td>\n",
       "      <td>0.028150</td>\n",
       "      <td>0.479950</td>\n",
       "      <td>0.800070</td>\n",
       "    </tr>\n",
       "    <tr>\n",
       "      <th>5</th>\n",
       "      <td>1</td>\n",
       "      <td>0.907307</td>\n",
       "      <td>0.302940</td>\n",
       "      <td>0.780570</td>\n",
       "      <td>0.909830</td>\n",
       "    </tr>\n",
       "    <tr>\n",
       "      <th>6</th>\n",
       "      <td>3</td>\n",
       "      <td>0.905211</td>\n",
       "      <td>0.366760</td>\n",
       "      <td>0.471510</td>\n",
       "      <td>0.631640</td>\n",
       "    </tr>\n",
       "    <tr>\n",
       "      <th>7</th>\n",
       "      <td>56</td>\n",
       "      <td>0.904582</td>\n",
       "      <td>0.451040</td>\n",
       "      <td>0.811540</td>\n",
       "      <td>0.061681</td>\n",
       "    </tr>\n",
       "    <tr>\n",
       "      <th>8</th>\n",
       "      <td>28</td>\n",
       "      <td>0.903708</td>\n",
       "      <td>0.368140</td>\n",
       "      <td>0.169010</td>\n",
       "      <td>0.228030</td>\n",
       "    </tr>\n",
       "    <tr>\n",
       "      <th>9</th>\n",
       "      <td>15</td>\n",
       "      <td>0.900096</td>\n",
       "      <td>0.647190</td>\n",
       "      <td>0.326470</td>\n",
       "      <td>0.785980</td>\n",
       "    </tr>\n",
       "    <tr>\n",
       "      <th>10</th>\n",
       "      <td>13</td>\n",
       "      <td>0.890823</td>\n",
       "      <td>0.455310</td>\n",
       "      <td>0.417940</td>\n",
       "      <td>0.792840</td>\n",
       "    </tr>\n",
       "    <tr>\n",
       "      <th>11</th>\n",
       "      <td>32</td>\n",
       "      <td>0.889627</td>\n",
       "      <td>0.891430</td>\n",
       "      <td>0.105840</td>\n",
       "      <td>0.452760</td>\n",
       "    </tr>\n",
       "    <tr>\n",
       "      <th>12</th>\n",
       "      <td>10</td>\n",
       "      <td>0.889016</td>\n",
       "      <td>0.857950</td>\n",
       "      <td>0.120840</td>\n",
       "      <td>0.613890</td>\n",
       "    </tr>\n",
       "    <tr>\n",
       "      <th>13</th>\n",
       "      <td>58</td>\n",
       "      <td>0.886103</td>\n",
       "      <td>0.982900</td>\n",
       "      <td>0.656430</td>\n",
       "      <td>0.078187</td>\n",
       "    </tr>\n",
       "    <tr>\n",
       "      <th>14</th>\n",
       "      <td>46</td>\n",
       "      <td>0.881593</td>\n",
       "      <td>0.639470</td>\n",
       "      <td>0.770790</td>\n",
       "      <td>0.356930</td>\n",
       "    </tr>\n",
       "    <tr>\n",
       "      <th>15</th>\n",
       "      <td>52</td>\n",
       "      <td>0.879778</td>\n",
       "      <td>0.970290</td>\n",
       "      <td>0.655470</td>\n",
       "      <td>0.351490</td>\n",
       "    </tr>\n",
       "    <tr>\n",
       "      <th>16</th>\n",
       "      <td>4</td>\n",
       "      <td>0.879656</td>\n",
       "      <td>0.627550</td>\n",
       "      <td>0.729060</td>\n",
       "      <td>0.902710</td>\n",
       "    </tr>\n",
       "    <tr>\n",
       "      <th>17</th>\n",
       "      <td>14</td>\n",
       "      <td>0.879630</td>\n",
       "      <td>0.377420</td>\n",
       "      <td>0.042633</td>\n",
       "      <td>0.519500</td>\n",
       "    </tr>\n",
       "    <tr>\n",
       "      <th>18</th>\n",
       "      <td>41</td>\n",
       "      <td>0.877161</td>\n",
       "      <td>0.659380</td>\n",
       "      <td>0.401180</td>\n",
       "      <td>0.295970</td>\n",
       "    </tr>\n",
       "    <tr>\n",
       "      <th>19</th>\n",
       "      <td>36</td>\n",
       "      <td>0.873850</td>\n",
       "      <td>0.292640</td>\n",
       "      <td>0.813660</td>\n",
       "      <td>0.555220</td>\n",
       "    </tr>\n",
       "    <tr>\n",
       "      <th>20</th>\n",
       "      <td>37</td>\n",
       "      <td>0.872721</td>\n",
       "      <td>0.268590</td>\n",
       "      <td>0.230990</td>\n",
       "      <td>0.078708</td>\n",
       "    </tr>\n",
       "    <tr>\n",
       "      <th>21</th>\n",
       "      <td>34</td>\n",
       "      <td>0.865270</td>\n",
       "      <td>0.334270</td>\n",
       "      <td>0.509350</td>\n",
       "      <td>0.303690</td>\n",
       "    </tr>\n",
       "    <tr>\n",
       "      <th>22</th>\n",
       "      <td>44</td>\n",
       "      <td>0.863570</td>\n",
       "      <td>0.909610</td>\n",
       "      <td>0.103880</td>\n",
       "      <td>0.293180</td>\n",
       "    </tr>\n",
       "    <tr>\n",
       "      <th>23</th>\n",
       "      <td>17</td>\n",
       "      <td>0.862781</td>\n",
       "      <td>0.185360</td>\n",
       "      <td>0.431390</td>\n",
       "      <td>0.964970</td>\n",
       "    </tr>\n",
       "    <tr>\n",
       "      <th>24</th>\n",
       "      <td>53</td>\n",
       "      <td>0.857859</td>\n",
       "      <td>0.798520</td>\n",
       "      <td>0.308710</td>\n",
       "      <td>0.105710</td>\n",
       "    </tr>\n",
       "    <tr>\n",
       "      <th>25</th>\n",
       "      <td>40</td>\n",
       "      <td>0.857813</td>\n",
       "      <td>0.387730</td>\n",
       "      <td>0.168140</td>\n",
       "      <td>0.078494</td>\n",
       "    </tr>\n",
       "    <tr>\n",
       "      <th>26</th>\n",
       "      <td>50</td>\n",
       "      <td>0.856252</td>\n",
       "      <td>0.816540</td>\n",
       "      <td>0.719800</td>\n",
       "      <td>0.353580</td>\n",
       "    </tr>\n",
       "    <tr>\n",
       "      <th>27</th>\n",
       "      <td>55</td>\n",
       "      <td>0.854164</td>\n",
       "      <td>0.665670</td>\n",
       "      <td>0.770750</td>\n",
       "      <td>0.060920</td>\n",
       "    </tr>\n",
       "    <tr>\n",
       "      <th>28</th>\n",
       "      <td>43</td>\n",
       "      <td>0.853097</td>\n",
       "      <td>0.788260</td>\n",
       "      <td>0.307000</td>\n",
       "      <td>0.293900</td>\n",
       "    </tr>\n",
       "    <tr>\n",
       "      <th>29</th>\n",
       "      <td>57</td>\n",
       "      <td>0.847943</td>\n",
       "      <td>0.834090</td>\n",
       "      <td>0.720190</td>\n",
       "      <td>0.066708</td>\n",
       "    </tr>\n",
       "    <tr>\n",
       "      <th>30</th>\n",
       "      <td>24</td>\n",
       "      <td>0.847026</td>\n",
       "      <td>0.232510</td>\n",
       "      <td>0.232510</td>\n",
       "      <td>0.232510</td>\n",
       "    </tr>\n",
       "    <tr>\n",
       "      <th>31</th>\n",
       "      <td>7</td>\n",
       "      <td>0.843564</td>\n",
       "      <td>0.834930</td>\n",
       "      <td>0.664230</td>\n",
       "      <td>0.895970</td>\n",
       "    </tr>\n",
       "    <tr>\n",
       "      <th>32</th>\n",
       "      <td>20</td>\n",
       "      <td>0.842924</td>\n",
       "      <td>0.715540</td>\n",
       "      <td>0.182090</td>\n",
       "      <td>0.950150</td>\n",
       "    </tr>\n",
       "    <tr>\n",
       "      <th>33</th>\n",
       "      <td>5</td>\n",
       "      <td>0.837036</td>\n",
       "      <td>0.315710</td>\n",
       "      <td>0.175330</td>\n",
       "      <td>0.374010</td>\n",
       "    </tr>\n",
       "    <tr>\n",
       "      <th>34</th>\n",
       "      <td>30</td>\n",
       "      <td>0.835976</td>\n",
       "      <td>0.902150</td>\n",
       "      <td>0.658990</td>\n",
       "      <td>0.718090</td>\n",
       "    </tr>\n",
       "    <tr>\n",
       "      <th>35</th>\n",
       "      <td>49</td>\n",
       "      <td>0.832731</td>\n",
       "      <td>0.538070</td>\n",
       "      <td>0.463700</td>\n",
       "      <td>0.095726</td>\n",
       "    </tr>\n",
       "    <tr>\n",
       "      <th>36</th>\n",
       "      <td>45</td>\n",
       "      <td>0.826242</td>\n",
       "      <td>0.374760</td>\n",
       "      <td>0.508660</td>\n",
       "      <td>0.096059</td>\n",
       "    </tr>\n",
       "    <tr>\n",
       "      <th>37</th>\n",
       "      <td>47</td>\n",
       "      <td>0.824980</td>\n",
       "      <td>0.054615</td>\n",
       "      <td>0.542240</td>\n",
       "      <td>0.099689</td>\n",
       "    </tr>\n",
       "    <tr>\n",
       "      <th>38</th>\n",
       "      <td>51</td>\n",
       "      <td>0.819052</td>\n",
       "      <td>0.674140</td>\n",
       "      <td>0.401640</td>\n",
       "      <td>0.098965</td>\n",
       "    </tr>\n",
       "    <tr>\n",
       "      <th>39</th>\n",
       "      <td>25</td>\n",
       "      <td>0.817695</td>\n",
       "      <td>0.466330</td>\n",
       "      <td>0.466330</td>\n",
       "      <td>0.466330</td>\n",
       "    </tr>\n",
       "    <tr>\n",
       "      <th>40</th>\n",
       "      <td>27</td>\n",
       "      <td>0.807058</td>\n",
       "      <td>1.000000</td>\n",
       "      <td>1.000000</td>\n",
       "      <td>1.000000</td>\n",
       "    </tr>\n",
       "    <tr>\n",
       "      <th>41</th>\n",
       "      <td>8</td>\n",
       "      <td>0.803784</td>\n",
       "      <td>0.448440</td>\n",
       "      <td>0.001016</td>\n",
       "      <td>0.368560</td>\n",
       "    </tr>\n",
       "    <tr>\n",
       "      <th>42</th>\n",
       "      <td>35</td>\n",
       "      <td>0.799131</td>\n",
       "      <td>0.588340</td>\n",
       "      <td>0.772240</td>\n",
       "      <td>0.549350</td>\n",
       "    </tr>\n",
       "    <tr>\n",
       "      <th>43</th>\n",
       "      <td>26</td>\n",
       "      <td>0.795823</td>\n",
       "      <td>0.723900</td>\n",
       "      <td>0.723900</td>\n",
       "      <td>0.723900</td>\n",
       "    </tr>\n",
       "    <tr>\n",
       "      <th>44</th>\n",
       "      <td>38</td>\n",
       "      <td>0.784590</td>\n",
       "      <td>0.515660</td>\n",
       "      <td>0.463910</td>\n",
       "      <td>0.299270</td>\n",
       "    </tr>\n",
       "    <tr>\n",
       "      <th>45</th>\n",
       "      <td>42</td>\n",
       "      <td>0.781479</td>\n",
       "      <td>0.944910</td>\n",
       "      <td>0.656190</td>\n",
       "      <td>0.539690</td>\n",
       "    </tr>\n",
       "    <tr>\n",
       "      <th>46</th>\n",
       "      <td>19</td>\n",
       "      <td>0.766868</td>\n",
       "      <td>0.521070</td>\n",
       "      <td>0.343280</td>\n",
       "      <td>0.957410</td>\n",
       "    </tr>\n",
       "    <tr>\n",
       "      <th>47</th>\n",
       "      <td>33</td>\n",
       "      <td>0.766430</td>\n",
       "      <td>0.093053</td>\n",
       "      <td>0.267870</td>\n",
       "      <td>0.081612</td>\n",
       "    </tr>\n",
       "    <tr>\n",
       "      <th>48</th>\n",
       "      <td>31</td>\n",
       "      <td>0.759898</td>\n",
       "      <td>0.764330</td>\n",
       "      <td>0.308810</td>\n",
       "      <td>0.456510</td>\n",
       "    </tr>\n",
       "    <tr>\n",
       "      <th>49</th>\n",
       "      <td>9</td>\n",
       "      <td>0.735407</td>\n",
       "      <td>0.720680</td>\n",
       "      <td>0.315080</td>\n",
       "      <td>0.619280</td>\n",
       "    </tr>\n",
       "    <tr>\n",
       "      <th>50</th>\n",
       "      <td>54</td>\n",
       "      <td>0.705777</td>\n",
       "      <td>0.916830</td>\n",
       "      <td>0.112580</td>\n",
       "      <td>0.115590</td>\n",
       "    </tr>\n",
       "    <tr>\n",
       "      <th>51</th>\n",
       "      <td>22</td>\n",
       "      <td>0.696793</td>\n",
       "      <td>0.495530</td>\n",
       "      <td>0.775400</td>\n",
       "      <td>0.730220</td>\n",
       "    </tr>\n",
       "    <tr>\n",
       "      <th>52</th>\n",
       "      <td>39</td>\n",
       "      <td>0.672264</td>\n",
       "      <td>0.782260</td>\n",
       "      <td>0.720920</td>\n",
       "      <td>0.544150</td>\n",
       "    </tr>\n",
       "    <tr>\n",
       "      <th>53</th>\n",
       "      <td>21</td>\n",
       "      <td>0.667561</td>\n",
       "      <td>0.232280</td>\n",
       "      <td>0.512030</td>\n",
       "      <td>0.472240</td>\n",
       "    </tr>\n",
       "    <tr>\n",
       "      <th>54</th>\n",
       "      <td>29</td>\n",
       "      <td>0.655913</td>\n",
       "      <td>0.626570</td>\n",
       "      <td>0.403300</td>\n",
       "      <td>0.461060</td>\n",
       "    </tr>\n",
       "    <tr>\n",
       "      <th>55</th>\n",
       "      <td>6</td>\n",
       "      <td>0.640618</td>\n",
       "      <td>0.565830</td>\n",
       "      <td>0.408700</td>\n",
       "      <td>0.625220</td>\n",
       "    </tr>\n",
       "    <tr>\n",
       "      <th>56</th>\n",
       "      <td>23</td>\n",
       "      <td>0.629224</td>\n",
       "      <td>0.000000</td>\n",
       "      <td>0.000000</td>\n",
       "      <td>0.000000</td>\n",
       "    </tr>\n",
       "    <tr>\n",
       "      <th>57</th>\n",
       "      <td>18</td>\n",
       "      <td>0.617994</td>\n",
       "      <td>0.208780</td>\n",
       "      <td>0.093277</td>\n",
       "      <td>0.677550</td>\n",
       "    </tr>\n",
       "  </tbody>\n",
       "</table>\n",
       "</div>"
      ],
      "text/plain": [
       "    color  holdout_correlation         0         1         2\n",
       "0      48             0.926530  0.402220  0.811940  0.361440\n",
       "1      16             0.911752  0.802940  0.147350  0.779500\n",
       "2       2             0.911175  0.110780  0.237980  0.380060\n",
       "3      12             0.910582  0.179270  0.188350  0.526100\n",
       "4      11             0.909691  0.028150  0.479950  0.800070\n",
       "5       1             0.907307  0.302940  0.780570  0.909830\n",
       "6       3             0.905211  0.366760  0.471510  0.631640\n",
       "7      56             0.904582  0.451040  0.811540  0.061681\n",
       "8      28             0.903708  0.368140  0.169010  0.228030\n",
       "9      15             0.900096  0.647190  0.326470  0.785980\n",
       "10     13             0.890823  0.455310  0.417940  0.792840\n",
       "11     32             0.889627  0.891430  0.105840  0.452760\n",
       "12     10             0.889016  0.857950  0.120840  0.613890\n",
       "13     58             0.886103  0.982900  0.656430  0.078187\n",
       "14     46             0.881593  0.639470  0.770790  0.356930\n",
       "15     52             0.879778  0.970290  0.655470  0.351490\n",
       "16      4             0.879656  0.627550  0.729060  0.902710\n",
       "17     14             0.879630  0.377420  0.042633  0.519500\n",
       "18     41             0.877161  0.659380  0.401180  0.295970\n",
       "19     36             0.873850  0.292640  0.813660  0.555220\n",
       "20     37             0.872721  0.268590  0.230990  0.078708\n",
       "21     34             0.865270  0.334270  0.509350  0.303690\n",
       "22     44             0.863570  0.909610  0.103880  0.293180\n",
       "23     17             0.862781  0.185360  0.431390  0.964970\n",
       "24     53             0.857859  0.798520  0.308710  0.105710\n",
       "25     40             0.857813  0.387730  0.168140  0.078494\n",
       "26     50             0.856252  0.816540  0.719800  0.353580\n",
       "27     55             0.854164  0.665670  0.770750  0.060920\n",
       "28     43             0.853097  0.788260  0.307000  0.293900\n",
       "29     57             0.847943  0.834090  0.720190  0.066708\n",
       "30     24             0.847026  0.232510  0.232510  0.232510\n",
       "31      7             0.843564  0.834930  0.664230  0.895970\n",
       "32     20             0.842924  0.715540  0.182090  0.950150\n",
       "33      5             0.837036  0.315710  0.175330  0.374010\n",
       "34     30             0.835976  0.902150  0.658990  0.718090\n",
       "35     49             0.832731  0.538070  0.463700  0.095726\n",
       "36     45             0.826242  0.374760  0.508660  0.096059\n",
       "37     47             0.824980  0.054615  0.542240  0.099689\n",
       "38     51             0.819052  0.674140  0.401640  0.098965\n",
       "39     25             0.817695  0.466330  0.466330  0.466330\n",
       "40     27             0.807058  1.000000  1.000000  1.000000\n",
       "41      8             0.803784  0.448440  0.001016  0.368560\n",
       "42     35             0.799131  0.588340  0.772240  0.549350\n",
       "43     26             0.795823  0.723900  0.723900  0.723900\n",
       "44     38             0.784590  0.515660  0.463910  0.299270\n",
       "45     42             0.781479  0.944910  0.656190  0.539690\n",
       "46     19             0.766868  0.521070  0.343280  0.957410\n",
       "47     33             0.766430  0.093053  0.267870  0.081612\n",
       "48     31             0.759898  0.764330  0.308810  0.456510\n",
       "49      9             0.735407  0.720680  0.315080  0.619280\n",
       "50     54             0.705777  0.916830  0.112580  0.115590\n",
       "51     22             0.696793  0.495530  0.775400  0.730220\n",
       "52     39             0.672264  0.782260  0.720920  0.544150\n",
       "53     21             0.667561  0.232280  0.512030  0.472240\n",
       "54     29             0.655913  0.626570  0.403300  0.461060\n",
       "55      6             0.640618  0.565830  0.408700  0.625220\n",
       "56     23             0.629224  0.000000  0.000000  0.000000\n",
       "57     18             0.617994  0.208780  0.093277  0.677550"
      ]
     },
     "execution_count": 99,
     "metadata": {},
     "output_type": "execute_result"
    }
   ],
   "source": [
    "colcors"
   ]
  },
  {
   "cell_type": "code",
   "execution_count": 133,
   "metadata": {},
   "outputs": [
    {
     "name": "stderr",
     "output_type": "stream",
     "text": [
      "/usr/local/lib/python3.9/site-packages/seaborn/_decorators.py:36: FutureWarning: Pass the following variables as keyword args: x, y. From version 0.12, the only valid positional argument will be `data`, and passing other arguments without an explicit keyword will result in an error or misinterpretation.\n",
      "  warnings.warn(\n"
     ]
    },
    {
     "data": {
      "image/png": "[encoded data removed]",
      "text/plain": [
       "<Figure size 864x504 with 1 Axes>"
      ]
     },
     "metadata": {},
     "output_type": "display_data"
    }
   ],
   "source": [
    "import matplotlib.font_manager as mfm\n",
    "\n",
    "font_path = 'FreeSerif.ttf'\n",
    "prop = mfm.FontProperties(fname=font_path)\n",
    "\n",
    "\n",
    "colcors = colcors.sort_values(['holdout_correlation'],ascending=False).reset_index(drop=True)\n",
    "fig = plt.figure(figsize=(12,7))\n",
    "sns.barplot(colcors.index, colcors.holdout_correlation, edgecolor = 'black', color='gray')\n",
    "#plt.axis('off')\n",
    "#plt.xticks([])\n",
    "#plt.xticks(rotation = 90, fontsize= 16)\n",
    "plt.xlabel('')\n",
    "plt.yticks(fontsize=18)\n",
    "plt.ylabel('Correlation', fontsize=20)\n",
    "plt.ylim(0,1)\n",
    "ax = plt.gca()\n",
    "#ax.set_facecolor((0.3497,0.3497,0.3497))\n",
    "ax.set_facecolor((1,1,1))\n",
    "symbolsx = [u\"■\"]*colcors.shape[0]\n",
    "ax.set_xticks(range(len(symbolsx)))\n",
    "ax.set_xticklabels(symbolsx, fontproperties=prop, fontsize=15)\n",
    "for tick, color in zip(ax.get_xticklabels(), sns.color_palette(list(zip(colcors[0],colcors[1],colcors[2])))):\n",
    "    tick.set_color(color)\n",
    "\n",
    "plt.savefig('color_holdout.pdf',format ='pdf',bbox_inches='tight')\n",
    "plt.show()\n"
   ]
  },
  {
   "cell_type": "code",
   "execution_count": null,
   "metadata": {},
   "outputs": [],
   "source": []
  },
  {
   "cell_type": "code",
   "execution_count": null,
   "metadata": {},
   "outputs": [],
   "source": []
  },
  {
   "cell_type": "code",
   "execution_count": 48,
   "metadata": {},
   "outputs": [],
   "source": [
    "uw58rgb = pd.read_csv('../../data/UW_58_rgb.csv', header=None)"
   ]
  },
  {
   "cell_type": "code",
   "execution_count": 49,
   "metadata": {},
   "outputs": [],
   "source": [
    "colcors = pd.concat([colcors, uw58rgb], axis=1)"
   ]
  },
  {
   "cell_type": "code",
   "execution_count": 50,
   "metadata": {},
   "outputs": [],
   "source": [
    "colcors = colcors.sort_values(['holdout_correlation'],ascending=False).reset_index(drop=True)"
   ]
  },
  {
   "cell_type": "code",
   "execution_count": 51,
   "metadata": {},
   "outputs": [
    {
     "name": "stderr",
     "output_type": "stream",
     "text": [
      "/usr/local/lib/python3.9/site-packages/seaborn/_decorators.py:36: FutureWarning: Pass the following variables as keyword args: x, y. From version 0.12, the only valid positional argument will be `data`, and passing other arguments without an explicit keyword will result in an error or misinterpretation.\n",
      "  warnings.warn(\n"
     ]
    },
    {
     "data": {
      "image/png": "[encoded data removed]",
      "text/plain": [
       "<Figure size 720x360 with 1 Axes>"
      ]
     },
     "metadata": {
      "needs_background": "light"
     },
     "output_type": "display_data"
    }
   ],
   "source": [
    "import seaborn as sns\n",
    "plt.figure(figsize=(10,5))\n",
    "colcors\n",
    "\n",
    "ax = sns.barplot(colcors.index, colcors.holdout_correlation,  edgecolor = 'none',palette = sns.color_palette(list(zip(colcors[0],colcors[1],colcors[2]))))\n",
    "\n",
    "ax.set_facecolor((0.3497,0.3497,0.3497))"
   ]
  },
  {
   "cell_type": "code",
   "execution_count": null,
   "metadata": {},
   "outputs": [],
   "source": []
  },
  {
   "cell_type": "code",
   "execution_count": null,
   "metadata": {},
   "outputs": [],
   "source": []
  },
  {
   "cell_type": "code",
   "execution_count": null,
   "metadata": {},
   "outputs": [],
   "source": []
  },
  {
   "cell_type": "code",
   "execution_count": null,
   "metadata": {},
   "outputs": [],
   "source": []
  },
  {
   "cell_type": "code",
   "execution_count": null,
   "metadata": {},
   "outputs": [],
   "source": []
  },
  {
   "cell_type": "code",
   "execution_count": 52,
   "metadata": {},
   "outputs": [],
   "source": [
    "column_name = 'V'+str(this_color)\n",
    "ratings_sub = ratings.loc[:, ratings.columns != column_name]\n",
    "A = pd.read_csv('../../data/basis_vecs_scaled_color_{}.csv'.format(this_color))\n",
    "A = np.array(A)\n",
    "A = np.delete(A, 0, axis=1)\n",
    "A_8 = A[:,0:8]"
   ]
  },
  {
   "cell_type": "code",
   "execution_count": null,
   "metadata": {},
   "outputs": [],
   "source": []
  },
  {
   "cell_type": "code",
   "execution_count": null,
   "metadata": {},
   "outputs": [],
   "source": []
  },
  {
   "cell_type": "code",
   "execution_count": 53,
   "metadata": {
    "scrolled": false
   },
   "outputs": [],
   "source": [
    "v_sub_df = pd.DataFrame(v_sub.T, columns=['C1','C2','C3','C4','C5','C6','C7','C8'])\n",
    "v_sub_df = pd.concat([v_sub_df, uw58rgb],axis=1)\n",
    "\n",
    "\n",
    "\n"
   ]
  },
  {
   "cell_type": "code",
   "execution_count": 54,
   "metadata": {},
   "outputs": [
    {
     "data": {
      "text/plain": [
       "array([[-0.04285507,  0.01261907, -0.04107948, ..., -0.1684379 ,\n",
       "         0.06401064, -0.20219735],\n",
       "       [-0.11867579,  0.26094611,  0.03530624, ..., -0.21487715,\n",
       "        -0.29557503, -0.30734959],\n",
       "       [-0.03133925,  0.09939849,  0.00307287, ..., -0.31118805,\n",
       "        -0.35317427, -0.33694301],\n",
       "       ...,\n",
       "       [-0.1479803 ,  0.46560017,  0.19275037, ..., -0.0692309 ,\n",
       "         0.03429026, -0.17105767],\n",
       "       [-0.25250249,  0.14235717, -0.03901189, ..., -0.26460905,\n",
       "        -0.280962  , -0.28505689],\n",
       "       [ 0.56061723, -0.08438392, -0.0114241 , ...,  0.53895669,\n",
       "         0.41303309,  0.46355683]])"
      ]
     },
     "execution_count": 54,
     "metadata": {},
     "output_type": "execute_result"
    }
   ],
   "source": [
    "assoc_mat"
   ]
  },
  {
   "cell_type": "code",
   "execution_count": 55,
   "metadata": {},
   "outputs": [
    {
     "data": {
      "text/plain": [
       "array(['dress', 'pants', 'shirt', 'shoes', 'socks', 'above', 'below',\n",
       "       'beside', 'far', 'near', 'angry', 'disgust', 'fearful', 'happy',\n",
       "       'sad', 'blueberry', 'lemon', 'mango', 'strawberry', 'watermelon',\n",
       "       'beach', 'field', 'ocean', 'sky', 'sunset', 'dawn', 'day', 'dusk',\n",
       "       'night', 'noon'], dtype=object)"
      ]
     },
     "execution_count": 55,
     "metadata": {},
     "output_type": "execute_result"
    }
   ],
   "source": [
    "np.array(pd.read_csv('../../data/ratings_matrix.csv'))[:,0]"
   ]
  },
  {
   "cell_type": "code",
   "execution_count": 56,
   "metadata": {},
   "outputs": [
    {
     "data": {
      "text/plain": [
       "array([-0.00398518,  0.13291531, -0.04037276,  0.23156983, -0.0912974 ,\n",
       "        0.28985467, -0.06628148,  0.13933505])"
      ]
     },
     "execution_count": 56,
     "metadata": {},
     "output_type": "execute_result"
    }
   ],
   "source": [
    "U[0,0:8]"
   ]
  },
  {
   "cell_type": "code",
   "execution_count": 57,
   "metadata": {},
   "outputs": [
    {
     "name": "stderr",
     "output_type": "stream",
     "text": [
      "/usr/local/lib/python3.9/site-packages/seaborn/_decorators.py:36: FutureWarning: Pass the following variables as keyword args: x, y. From version 0.12, the only valid positional argument will be `data`, and passing other arguments without an explicit keyword will result in an error or misinterpretation.\n",
      "  warnings.warn(\n"
     ]
    },
    {
     "data": {
      "image/png": "[encoded data removed]",
      "text/plain": [
       "<Figure size 720x360 with 1 Axes>"
      ]
     },
     "metadata": {},
     "output_type": "display_data"
    },
    {
     "name": "stderr",
     "output_type": "stream",
     "text": [
      "/usr/local/lib/python3.9/site-packages/seaborn/_decorators.py:36: FutureWarning: Pass the following variables as keyword args: x, y. From version 0.12, the only valid positional argument will be `data`, and passing other arguments without an explicit keyword will result in an error or misinterpretation.\n",
      "  warnings.warn(\n"
     ]
    },
    {
     "data": {
      "image/png": "[encoded data removed]",
      "text/plain": [
       "<Figure size 720x360 with 1 Axes>"
      ]
     },
     "metadata": {},
     "output_type": "display_data"
    },
    {
     "name": "stderr",
     "output_type": "stream",
     "text": [
      "/usr/local/lib/python3.9/site-packages/seaborn/_decorators.py:36: FutureWarning: Pass the following variables as keyword args: x, y. From version 0.12, the only valid positional argument will be `data`, and passing other arguments without an explicit keyword will result in an error or misinterpretation.\n",
      "  warnings.warn(\n"
     ]
    },
    {
     "data": {
      "image/png": "[encoded data removed]",
      "text/plain": [
       "<Figure size 720x360 with 1 Axes>"
      ]
     },
     "metadata": {},
     "output_type": "display_data"
    },
    {
     "name": "stderr",
     "output_type": "stream",
     "text": [
      "/usr/local/lib/python3.9/site-packages/seaborn/_decorators.py:36: FutureWarning: Pass the following variables as keyword args: x, y. From version 0.12, the only valid positional argument will be `data`, and passing other arguments without an explicit keyword will result in an error or misinterpretation.\n",
      "  warnings.warn(\n"
     ]
    },
    {
     "data": {
      "image/png": "[encoded data removed]",
      "text/plain": [
       "<Figure size 720x360 with 1 Axes>"
      ]
     },
     "metadata": {},
     "output_type": "display_data"
    },
    {
     "name": "stderr",
     "output_type": "stream",
     "text": [
      "/usr/local/lib/python3.9/site-packages/seaborn/_decorators.py:36: FutureWarning: Pass the following variables as keyword args: x, y. From version 0.12, the only valid positional argument will be `data`, and passing other arguments without an explicit keyword will result in an error or misinterpretation.\n",
      "  warnings.warn(\n"
     ]
    },
    {
     "data": {
      "image/png": "[encoded data removed]",
      "text/plain": [
       "<Figure size 720x360 with 1 Axes>"
      ]
     },
     "metadata": {},
     "output_type": "display_data"
    },
    {
     "name": "stderr",
     "output_type": "stream",
     "text": [
      "/usr/local/lib/python3.9/site-packages/seaborn/_decorators.py:36: FutureWarning: Pass the following variables as keyword args: x, y. From version 0.12, the only valid positional argument will be `data`, and passing other arguments without an explicit keyword will result in an error or misinterpretation.\n",
      "  warnings.warn(\n"
     ]
    },
    {
     "data": {
      "image/png": "[encoded data removed]",
      "text/plain": [
       "<Figure size 720x360 with 1 Axes>"
      ]
     },
     "metadata": {},
     "output_type": "display_data"
    },
    {
     "name": "stderr",
     "output_type": "stream",
     "text": [
      "/usr/local/lib/python3.9/site-packages/seaborn/_decorators.py:36: FutureWarning: Pass the following variables as keyword args: x, y. From version 0.12, the only valid positional argument will be `data`, and passing other arguments without an explicit keyword will result in an error or misinterpretation.\n",
      "  warnings.warn(\n"
     ]
    },
    {
     "data": {
      "image/png": "[encoded data removed]",
      "text/plain": [
       "<Figure size 720x360 with 1 Axes>"
      ]
     },
     "metadata": {},
     "output_type": "display_data"
    },
    {
     "name": "stderr",
     "output_type": "stream",
     "text": [
      "/usr/local/lib/python3.9/site-packages/seaborn/_decorators.py:36: FutureWarning: Pass the following variables as keyword args: x, y. From version 0.12, the only valid positional argument will be `data`, and passing other arguments without an explicit keyword will result in an error or misinterpretation.\n",
      "  warnings.warn(\n"
     ]
    },
    {
     "data": {
      "image/png": "[encoded data removed]",
      "text/plain": [
       "<Figure size 720x360 with 1 Axes>"
      ]
     },
     "metadata": {},
     "output_type": "display_data"
    }
   ],
   "source": [
    "components = ['C1','C2','C3','C4','C5','C6','C7','C8']\n",
    "\n",
    "for i in range(len(components)):\n",
    "    sns.set(rc={'figure.facecolor':(0.3497,0.3497,0.3497),\n",
    "               'axes.grid':False})\n",
    "    plt.figure(figsize=(10,5))\n",
    "\n",
    "\n",
    "    plotdf = v_sub_df.sort_values([str(components[i])]).reset_index(drop=True)\n",
    "    fig = sns.barplot(plotdf.index, plotdf[components[i]], edgecolor = 'none',palette = sns.color_palette(list(zip(plotdf[0],plotdf[1],plotdf[2]))))\n",
    "    #plt.axis('off')\n",
    "    plt.xticks([])\n",
    "    plt.ylabel('')\n",
    "    plt.ylim(-0.4,0.4)\n",
    "    ax = plt.gca()\n",
    "    ax.set_facecolor((0.3497,0.3497,0.3497))\n",
    "    \n",
    "    plt.savefig('component_{}.pdf'.format(i))\n",
    "    plt.show()\n",
    "    "
   ]
  },
  {
   "cell_type": "code",
   "execution_count": 58,
   "metadata": {},
   "outputs": [],
   "source": [
    "#Reconstructed ratings from matlab"
   ]
  },
  {
   "cell_type": "code",
   "execution_count": 59,
   "metadata": {},
   "outputs": [],
   "source": [
    "reg_preds= pd.read_csv('../../data/regression_predictions.csv',header=None)\n",
    "reg_preds = np.array(reg_preds)\n",
    "reg_preds_df = pd.DataFrame(reg_preds.T, columns=['C1','C2','C3','C4','C5','C6','C7','C8'])\n",
    "reg_preds_df = pd.concat([reg_preds_df, uw58rgb],axis=1)"
   ]
  },
  {
   "cell_type": "code",
   "execution_count": 61,
   "metadata": {},
   "outputs": [
    {
     "name": "stderr",
     "output_type": "stream",
     "text": [
      "/usr/local/lib/python3.9/site-packages/seaborn/_decorators.py:36: FutureWarning: Pass the following variables as keyword args: x, y. From version 0.12, the only valid positional argument will be `data`, and passing other arguments without an explicit keyword will result in an error or misinterpretation.\n",
      "  warnings.warn(\n"
     ]
    },
    {
     "data": {
      "image/png": "[encoded data removed]",
      "text/plain": [
       "<Figure size 720x360 with 1 Axes>"
      ]
     },
     "metadata": {},
     "output_type": "display_data"
    },
    {
     "name": "stderr",
     "output_type": "stream",
     "text": [
      "/usr/local/lib/python3.9/site-packages/seaborn/_decorators.py:36: FutureWarning: Pass the following variables as keyword args: x, y. From version 0.12, the only valid positional argument will be `data`, and passing other arguments without an explicit keyword will result in an error or misinterpretation.\n",
      "  warnings.warn(\n"
     ]
    },
    {
     "data": {
      "image/png": "[encoded data removed]",
      "text/plain": [
       "<Figure size 720x360 with 1 Axes>"
      ]
     },
     "metadata": {},
     "output_type": "display_data"
    },
    {
     "name": "stderr",
     "output_type": "stream",
     "text": [
      "/usr/local/lib/python3.9/site-packages/seaborn/_decorators.py:36: FutureWarning: Pass the following variables as keyword args: x, y. From version 0.12, the only valid positional argument will be `data`, and passing other arguments without an explicit keyword will result in an error or misinterpretation.\n",
      "  warnings.warn(\n"
     ]
    },
    {
     "data": {
      "image/png": "[encoded data removed]",
      "text/plain": [
       "<Figure size 720x360 with 1 Axes>"
      ]
     },
     "metadata": {},
     "output_type": "display_data"
    },
    {
     "name": "stderr",
     "output_type": "stream",
     "text": [
      "/usr/local/lib/python3.9/site-packages/seaborn/_decorators.py:36: FutureWarning: Pass the following variables as keyword args: x, y. From version 0.12, the only valid positional argument will be `data`, and passing other arguments without an explicit keyword will result in an error or misinterpretation.\n",
      "  warnings.warn(\n"
     ]
    },
    {
     "data": {
      "image/png": "[encoded data removed]",
      "text/plain": [
       "<Figure size 720x360 with 1 Axes>"
      ]
     },
     "metadata": {},
     "output_type": "display_data"
    },
    {
     "name": "stderr",
     "output_type": "stream",
     "text": [
      "/usr/local/lib/python3.9/site-packages/seaborn/_decorators.py:36: FutureWarning: Pass the following variables as keyword args: x, y. From version 0.12, the only valid positional argument will be `data`, and passing other arguments without an explicit keyword will result in an error or misinterpretation.\n",
      "  warnings.warn(\n"
     ]
    },
    {
     "data": {
      "image/png": "[encoded data removed]",
      "text/plain": [
       "<Figure size 720x360 with 1 Axes>"
      ]
     },
     "metadata": {},
     "output_type": "display_data"
    },
    {
     "name": "stderr",
     "output_type": "stream",
     "text": [
      "/usr/local/lib/python3.9/site-packages/seaborn/_decorators.py:36: FutureWarning: Pass the following variables as keyword args: x, y. From version 0.12, the only valid positional argument will be `data`, and passing other arguments without an explicit keyword will result in an error or misinterpretation.\n",
      "  warnings.warn(\n"
     ]
    },
    {
     "data": {
      "image/png": "[encoded data removed]",
      "text/plain": [
       "<Figure size 720x360 with 1 Axes>"
      ]
     },
     "metadata": {},
     "output_type": "display_data"
    },
    {
     "name": "stderr",
     "output_type": "stream",
     "text": [
      "/usr/local/lib/python3.9/site-packages/seaborn/_decorators.py:36: FutureWarning: Pass the following variables as keyword args: x, y. From version 0.12, the only valid positional argument will be `data`, and passing other arguments without an explicit keyword will result in an error or misinterpretation.\n",
      "  warnings.warn(\n"
     ]
    },
    {
     "data": {
      "image/png": "[encoded data removed]",
      "text/plain": [
       "<Figure size 720x360 with 1 Axes>"
      ]
     },
     "metadata": {},
     "output_type": "display_data"
    },
    {
     "name": "stderr",
     "output_type": "stream",
     "text": [
      "/usr/local/lib/python3.9/site-packages/seaborn/_decorators.py:36: FutureWarning: Pass the following variables as keyword args: x, y. From version 0.12, the only valid positional argument will be `data`, and passing other arguments without an explicit keyword will result in an error or misinterpretation.\n",
      "  warnings.warn(\n"
     ]
    },
    {
     "data": {
      "image/png": "[encoded data removed]",
      "text/plain": [
       "<Figure size 720x360 with 1 Axes>"
      ]
     },
     "metadata": {},
     "output_type": "display_data"
    }
   ],
   "source": [
    "\n",
    "\n",
    "for i in range(len(components)):\n",
    "    sns.set(rc={'figure.facecolor':(0.3497,0.3497,0.3497),\n",
    "               'axes.grid':False})\n",
    "    plt.figure(figsize=(10,5))\n",
    "\n",
    "\n",
    "    plotdf = reg_preds_df.sort_values([str(components[i])]).reset_index(drop=True)\n",
    "    fig = sns.barplot(plotdf.index, plotdf[components[i]], edgecolor = 'none',palette = sns.color_palette(list(zip(plotdf[0],plotdf[1],plotdf[2]))))\n",
    "    #plt.axis('off')\n",
    "    plt.xticks([])\n",
    "    plt.ylabel('')\n",
    "    plt.ylim(-0.4,0.4)\n",
    "    ax = plt.gca()\n",
    "    ax.set_facecolor((0.3497,0.3497,0.3497))\n",
    "    \n",
    "    plt.savefig('pred_component_{}.pdf'.format(i))\n",
    "    plt.show()"
   ]
  },
  {
   "cell_type": "code",
   "execution_count": null,
   "metadata": {},
   "outputs": [],
   "source": []
  },
  {
   "cell_type": "code",
   "execution_count": 62,
   "metadata": {},
   "outputs": [
    {
     "data": {
      "text/plain": [
       "[0.9498272749485487,\n",
       " 0.9344726910457715,\n",
       " 0.8295989716550856,\n",
       " 0.8974335928846019,\n",
       " 0.8976055413007713,\n",
       " 0.8294764966236317,\n",
       " 0.5637997377599581,\n",
       " 0.3738014133687678]"
      ]
     },
     "execution_count": 62,
     "metadata": {},
     "output_type": "execute_result"
    }
   ],
   "source": [
    "color_reg_cors=[]\n",
    "for i in range(8):\n",
    "    color_reg_cors.append(np.corrcoef(v_sub[i,:],reg_preds[i,:])[0,1])\n",
    "color_reg_cors"
   ]
  },
  {
   "cell_type": "code",
   "execution_count": 69,
   "metadata": {},
   "outputs": [
    {
     "data": {
      "image/png": "[encoded data removed]",
      "text/plain": [
       "<Figure size 4176x72 with 1 Axes>"
      ]
     },
     "metadata": {},
     "output_type": "display_data"
    }
   ],
   "source": [
    "#fig = plt.figure()\n",
    "sns.set(rc={'figure.facecolor':(1,1,1),\n",
    "               'axes.grid':False})\n",
    "fig = sns.palplot(uw58rgb.to_numpy())\n",
    "#fig.get_figure()\n",
    "#fig.savefig('uw58pal.pdf')"
   ]
  },
  {
   "cell_type": "code",
   "execution_count": 70,
   "metadata": {},
   "outputs": [],
   "source": [
    "fig"
   ]
  },
  {
   "cell_type": "code",
   "execution_count": null,
   "metadata": {},
   "outputs": [],
   "source": [
    "U_concepts = [ \"dress\"  ,    \"pants\" ,     \"shirt\"   ,   \"shoes\"  ,    \"socks\"   ,   \"above\"  ,    \"below\"   ,   \"beside\"  ,  \n",
    "\"far\"     ,   \"near\"    ,   \"angry\"    ,  \"disgust\"  ,  \"fearful\" ,   \"happy\"   ,   \"sad\"  ,      \"blueberry\" ,\n",
    " \"lemon\"    ,  \"mango\"  ,    \"strawberry\" ,\"watermelon\" ,\"beach\"   ,   \"field\"   ,   \"ocean\"   ,   \"sky\" ,      \n",
    " \"sunset\"  ,   \"dawn\"  ,     \"day\"   ,     \"dusk\"  ,     \"night\"    ,  \"noon\"]       "
   ]
  },
  {
   "cell_type": "code",
   "execution_count": null,
   "metadata": {},
   "outputs": [],
   "source": [
    "for i in range(U.shape[0]):\n",
    "    print(U[i,0:8])"
   ]
  },
  {
   "cell_type": "code",
   "execution_count": null,
   "metadata": {},
   "outputs": [],
   "source": [
    "\n",
    "    \n",
    "U_ratings = U[:,0:8]\n",
    "\n",
    "U_ratings = U_ratings - U_ratings.mean(axis=0)\n",
    "U_ratings = U_ratings / np.abs(U_ratings).max(axis=0)\n",
    "\n"
   ]
  },
  {
   "cell_type": "code",
   "execution_count": null,
   "metadata": {},
   "outputs": [],
   "source": [
    "U_ratings_df = pd.DataFrame(U_ratings)"
   ]
  },
  {
   "cell_type": "code",
   "execution_count": null,
   "metadata": {},
   "outputs": [],
   "source": [
    "U_ratings_df['concept']= U_concepts"
   ]
  },
  {
   "cell_type": "code",
   "execution_count": null,
   "metadata": {},
   "outputs": [],
   "source": []
  },
  {
   "cell_type": "code",
   "execution_count": null,
   "metadata": {},
   "outputs": [],
   "source": [
    "from numpy import eye, asarray, dot, sum, diagx\n",
    "def varimax(Phi, gamma = 1.0, q = 20, tol = 1e-6):\n",
    "    p,k = Phi.shape\n",
    "    R = eye(k)\n",
    "    d=0\n",
    "    for i in xrange(q):\n",
    "        d_old = d\n",
    "        Lambda = dot(Phi, R)\n",
    "        u,s,vh = svd(dot(Phi.T,asarray(Lambda)**3 - (gamma/p) * dot(Lambda, diag(diag(dot(Lambda.T,Lambda))))))\n",
    "        R = dot(u,vh)\n",
    "        d = sum(s)\n",
    "        if d_old!=0 and d/d_old < 1 + tol: break\n",
    "    return dot(Phi, R)"
   ]
  },
  {
   "cell_type": "code",
   "execution_count": null,
   "metadata": {
    "scrolled": true
   },
   "outputs": [],
   "source": [
    "sns.color_palette(list(zip(colcors[0],colcors[1],colcors[2])))"
   ]
  },
  {
   "cell_type": "code",
   "execution_count": null,
   "metadata": {},
   "outputs": [],
   "source": []
  },
  {
   "cell_type": "code",
   "execution_count": null,
   "metadata": {},
   "outputs": [],
   "source": []
  },
  {
   "cell_type": "code",
   "execution_count": null,
   "metadata": {},
   "outputs": [],
   "source": [
    "import matplotlib.pyplot as plt\n",
    "import numpy as np\n",
    "import scipy.stats as stats\n",
    "import math\n",
    "fig = plt.figure(figsize=(7,5))\n",
    "plt.rcParams.update({\n",
    "    \"figure.facecolor\":  (1.0, 1.0, 1.0),  # red   with alpha = 30%\n",
    "    \"axes.edgecolor\":     'black',\n",
    "    \"axes.facecolor\":    (1, 1, 1),  # green with alpha = 50%\n",
    "    \"axes.spines.left\":   True,\n",
    "     \"axes.spines.bottom\": True\n",
    "#axes.spines.top:    True\n",
    "#axes.spines.right:  True\"\n",
    "})\n",
    "mu = .1\n",
    "variance = (1.4*(mu)*(1-mu))**2\n",
    "sigma = math.sqrt(variance)\n",
    "x = np.linspace(mu - 7*sigma, mu + 7*sigma, 100)\n",
    "plt.plot(x, stats.norm.pdf(x, mu, sigma), color=\"#F0A78A\", linewidth=3)\n",
    "plt.xlim(0,1)\n",
    "plt.xticks(fontsize=16)\n",
    "plt.yticks([])\n",
    "plt.xlabel(\"Association Rating\", fontsize=18)\n",
    "plt.ylabel(\"Density\", fontsize=18)\n",
    "plt.grid(False)\n",
    "plt.show()"
   ]
  },
  {
   "cell_type": "code",
   "execution_count": null,
   "metadata": {},
   "outputs": [],
   "source": []
  }
 ],
 "metadata": {
  "kernelspec": {
   "display_name": "Python 3",
   "language": "python",
   "name": "python3"
  },
  "language_info": {
   "codemirror_mode": {
    "name": "ipython",
    "version": 3
   },
   "file_extension": ".py",
   "mimetype": "text/x-python",
   "name": "python",
   "nbconvert_exporter": "python",
   "pygments_lexer": "ipython3",
   "version": "3.9.2"
  }
 },
 "nbformat": 4,
 "nbformat_minor": 2
}
