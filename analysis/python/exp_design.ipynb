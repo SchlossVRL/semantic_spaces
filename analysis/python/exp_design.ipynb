{
 "cells": [
  {
   "cell_type": "markdown",
   "metadata": {},
   "source": [
    "# Experiment design\n",
    "\n",
    "Comparison of the Joshi-Boyd rounding heuristic and a brute force approach that searches through all possible designs"
   ]
  },
  {
   "cell_type": "code",
   "execution_count": 69,
   "metadata": {},
   "outputs": [],
   "source": [
    "import numpy as np\n",
    "from itertools import combinations\n",
    "from numpy.linalg import inv, svd\n",
    "import pandas as pd\n",
    "import matplotlib.pyplot as plt\n",
    "import cvxopt \n",
    "import cvxpy as cp\n"
   ]
  },
  {
   "cell_type": "code",
   "execution_count": 70,
   "metadata": {},
   "outputs": [
    {
     "name": "stdout",
     "output_type": "stream",
     "text": [
      "['CVXOPT', 'ECOS', 'ECOS_BB', 'GLPK', 'GLPK_MI', 'OSQP', 'SCS']\n"
     ]
    }
   ],
   "source": [
    "print(cp.installed_solvers())"
   ]
  },
  {
   "cell_type": "code",
   "execution_count": 71,
   "metadata": {},
   "outputs": [],
   "source": [
    "# select the random (m x n) orthogonal matrix, U, that we will use\n",
    "np.random.seed(1)\n",
    "c_means = pd.read_csv('../../data/col_means.csv')\n",
    "assoc_mat = np.array(pd.read_csv('../../data/uw_58_ratings_matrix.csv'))[:,1:]\n",
    "assoc_mat = assoc_mat- c_means.V1.values\n",
    "assoc_mat = assoc_mat.T\n",
    "assoc_mat = assoc_mat.astype('float')\n",
    "\n",
    "\n",
    "\n",
    "m = 58  # number of rows\n",
    "n = 30   # number of columns\n",
    "#U,S,Vh = svd(np.random.randn(m,n), full_matrices=False)\n",
    "U,S,Vh = svd(assoc_mat, full_matrices=False)\n"
   ]
  },
  {
   "cell_type": "code",
   "execution_count": null,
   "metadata": {},
   "outputs": [],
   "source": []
  },
  {
   "cell_type": "code",
   "execution_count": null,
   "metadata": {},
   "outputs": [],
   "source": []
  },
  {
   "cell_type": "code",
   "execution_count": 72,
   "metadata": {},
   "outputs": [],
   "source": [
    "# evaluate cost function, picking subset \"select\" from rows of U\n",
    "def costfun(U,select):\n",
    "    m,n = U.shape\n",
    "    return 1/n * inv(U[select,:].T @ U[select,:]).trace()"
   ]
  },
  {
   "cell_type": "code",
   "execution_count": 73,
   "metadata": {},
   "outputs": [],
   "source": [
    "# Use convex relaxation with rounding\n",
    "# e.g. as in Joshi-Boyd paper:  doi: 10.1109/TSP.2008.2007095\n",
    "def BoydHeuristic(U,r):\n",
    "    X = cp.Variable((n,n), symmetric=True)\n",
    "    v = cp.Variable(m)\n",
    "    Z = cp.bmat( [[X, np.eye(n)], [np.eye(n), U.T @ cp.diag(v) @ U]] )\n",
    "    constraints = [ Z >> 0, 0 <= v, v <= 1, sum(v) == r ]\n",
    "    prob = cp.Problem(cp.Minimize(cp.trace(X)), constraints)\n",
    "    prob.solve(solver=cp.CVXOPT)\n",
    "    return v.value"
   ]
  },
  {
   "cell_type": "markdown",
   "metadata": {},
   "source": [
    "## row selection via convex relaxation"
   ]
  },
  {
   "cell_type": "code",
   "execution_count": 74,
   "metadata": {},
   "outputs": [],
   "source": [
    "r = 7"
   ]
  },
  {
   "cell_type": "code",
   "execution_count": 75,
   "metadata": {},
   "outputs": [
    {
     "name": "stdout",
     "output_type": "stream",
     "text": [
      "chosen rows =  [4, 22, 23, 26, 29, 53, 56]\n",
      "achieved cost using this choice =  -6.7419606462169864e+16\n",
      "lower bound on optimal cost =  8.110564441675473\n",
      "CPU times: user 2.61 s, sys: 58.9 ms, total: 2.67 s\n",
      "Wall time: 1.86 s\n"
     ]
    }
   ],
   "source": [
    "%%time\n",
    "\n",
    "# Apply Boyd heuristic, compute lower and upper bounds for the cost\n",
    "v = BoydHeuristic(U,r)\n",
    "\n",
    "# rounding heuristic: choose r largest values\n",
    "srtmp = sorted( enumerate(v), key = lambda x : x[1], reverse=True )\n",
    "select_rounding = sorted([ x[0] for x in srtmp[:r] ])\n",
    "\n",
    "print(\"chosen rows = \", select_rounding)\n",
    "print(\"achieved cost using this choice = \", costfun(U,select_rounding) )\n",
    "print(\"lower bound on optimal cost = \", 1/n * inv( U.T @ cp.diag(v).value @ U ).trace() )"
   ]
  },
  {
   "cell_type": "markdown",
   "metadata": {},
   "source": [
    "## row selection via brute force"
   ]
  },
  {
   "cell_type": "code",
   "execution_count": 68,
   "metadata": {},
   "outputs": [
    {
     "ename": "KeyboardInterrupt",
     "evalue": "",
     "output_type": "error",
     "traceback": [
      "\u001b[0;31m---------------------------------------------------------------------------\u001b[0m",
      "\u001b[0;31mKeyboardInterrupt\u001b[0m                         Traceback (most recent call last)",
      "\u001b[0;32m<timed exec>\u001b[0m in \u001b[0;36m<module>\u001b[0;34m\u001b[0m\n",
      "\u001b[0;32m<timed exec>\u001b[0m in \u001b[0;36m<listcomp>\u001b[0;34m(.0)\u001b[0m\n",
      "\u001b[0;32m<ipython-input-42-836b846508a8>\u001b[0m in \u001b[0;36mcostfun\u001b[0;34m(U, select)\u001b[0m\n\u001b[1;32m      2\u001b[0m \u001b[0;32mdef\u001b[0m \u001b[0mcostfun\u001b[0m\u001b[0;34m(\u001b[0m\u001b[0mU\u001b[0m\u001b[0;34m,\u001b[0m\u001b[0mselect\u001b[0m\u001b[0;34m)\u001b[0m\u001b[0;34m:\u001b[0m\u001b[0;34m\u001b[0m\u001b[0;34m\u001b[0m\u001b[0m\n\u001b[1;32m      3\u001b[0m     \u001b[0mm\u001b[0m\u001b[0;34m,\u001b[0m\u001b[0mn\u001b[0m \u001b[0;34m=\u001b[0m \u001b[0mU\u001b[0m\u001b[0;34m.\u001b[0m\u001b[0mshape\u001b[0m\u001b[0;34m\u001b[0m\u001b[0;34m\u001b[0m\u001b[0m\n\u001b[0;32m----> 4\u001b[0;31m     \u001b[0;32mreturn\u001b[0m \u001b[0;36m1\u001b[0m\u001b[0;34m/\u001b[0m\u001b[0mn\u001b[0m \u001b[0;34m*\u001b[0m \u001b[0minv\u001b[0m\u001b[0;34m(\u001b[0m\u001b[0mU\u001b[0m\u001b[0;34m[\u001b[0m\u001b[0mselect\u001b[0m\u001b[0;34m,\u001b[0m\u001b[0;34m:\u001b[0m\u001b[0;34m]\u001b[0m\u001b[0;34m.\u001b[0m\u001b[0mT\u001b[0m \u001b[0;34m@\u001b[0m \u001b[0mU\u001b[0m\u001b[0;34m[\u001b[0m\u001b[0mselect\u001b[0m\u001b[0;34m,\u001b[0m\u001b[0;34m:\u001b[0m\u001b[0;34m]\u001b[0m\u001b[0;34m)\u001b[0m\u001b[0;34m.\u001b[0m\u001b[0mtrace\u001b[0m\u001b[0;34m(\u001b[0m\u001b[0;34m)\u001b[0m\u001b[0;34m\u001b[0m\u001b[0;34m\u001b[0m\u001b[0m\n\u001b[0m",
      "\u001b[0;31mKeyboardInterrupt\u001b[0m: "
     ]
    }
   ],
   "source": [
    "%%time\n",
    "\n",
    "# look at all possibilities\n",
    "cs = [ (select, costfun(U,select)) for select in combinations(range(m),r) ]\n",
    "cstmp = sorted( cs, key = lambda x : x[1] )[0]\n",
    "\n",
    "print( \"optmal rows = \", cstmp[0] )\n",
    "print( \"optimal cost = \", cstmp[1] )"
   ]
  },
  {
   "cell_type": "code",
   "execution_count": null,
   "metadata": {},
   "outputs": [],
   "source": [
    "# plot all possible achievable costs (all possible subsets)\n",
    "cns = sorted([ x[1] for x in cs ])\n",
    "plt.figure(figsize=(10,5))\n",
    "plt.semilogy(cns)\n",
    "plt.xlim(xmin=0,xmax=len(cns)-1)\n",
    "plt.grid(which='both')\n",
    "plt.xlabel(f\"random subset of {r} rows out of a random {m}x{n} orthogonal matrix\")\n",
    "plt.ylabel(\"objective function, trace of pinv(U)\");"
   ]
  },
  {
   "cell_type": "code",
   "execution_count": null,
   "metadata": {},
   "outputs": [],
   "source": [
    "# approximate the distribution of costs obtained if the rows are sampled randomly without replacement\n",
    "np.random.seed(1)\n",
    "rx = np.random.randint(0,len(cns),size=1000000)\n",
    "samples = [ cns[k] for k in rx ]\n",
    "\n",
    "plt.figure(figsize=(10,5))\n",
    "plt.hist( samples, bins=np.logspace(0,3,100), log=False, density=True )\n",
    "ax = plt.gca()\n",
    "ax.set_xscale('log')\n",
    "plt.xlabel(f\"value obtained by sampling a random subset of {r} rows out of a random {m}x{n} orthogonal matrix\")\n",
    "plt.ylabel(\"probability density\")\n",
    "plt.grid(which='both')"
   ]
  },
  {
   "cell_type": "code",
   "execution_count": null,
   "metadata": {},
   "outputs": [],
   "source": []
  },
  {
   "cell_type": "code",
   "execution_count": null,
   "metadata": {},
   "outputs": [],
   "source": []
  }
 ],
 "metadata": {
  "kernelspec": {
   "display_name": "Python 3",
   "language": "python",
   "name": "python3"
  },
  "language_info": {
   "codemirror_mode": {
    "name": "ipython",
    "version": 3
   },
   "file_extension": ".py",
   "mimetype": "text/x-python",
   "name": "python",
   "nbconvert_exporter": "python",
   "pygments_lexer": "ipython3",
   "version": "3.9.2"
  }
 },
 "nbformat": 4,
 "nbformat_minor": 4
}
