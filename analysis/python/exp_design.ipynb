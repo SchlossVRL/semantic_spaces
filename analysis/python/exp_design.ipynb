{
 "cells": [
  {
   "cell_type": "markdown",
   "metadata": {},
   "source": [
    "# Experiment design\n",
    "\n",
    "Comparison of the Joshi-Boyd rounding heuristic and a brute force approach that searches through all possible designs"
   ]
  },
  {
   "cell_type": "code",
   "execution_count": 1,
   "metadata": {},
   "outputs": [
    {
     "ename": "ModuleNotFoundError",
     "evalue": "No module named 'cvxpy'",
     "output_type": "error",
     "traceback": [
      "\u001b[0;31m---------------------------------------------------------------------------\u001b[0m",
      "\u001b[0;31mModuleNotFoundError\u001b[0m                       Traceback (most recent call last)",
      "\u001b[0;32m/var/folders/w0/60ylfrt15fl0l6bzldqjm19m0000gn/T/ipykernel_80142/17311685.py\u001b[0m in \u001b[0;36m<module>\u001b[0;34m\u001b[0m\n\u001b[1;32m      5\u001b[0m \u001b[0;32mimport\u001b[0m \u001b[0mmatplotlib\u001b[0m\u001b[0;34m.\u001b[0m\u001b[0mpyplot\u001b[0m \u001b[0;32mas\u001b[0m \u001b[0mplt\u001b[0m\u001b[0;34m\u001b[0m\u001b[0;34m\u001b[0m\u001b[0m\n\u001b[1;32m      6\u001b[0m \u001b[0;31m#import cvxopt\u001b[0m\u001b[0;34m\u001b[0m\u001b[0;34m\u001b[0m\u001b[0;34m\u001b[0m\u001b[0m\n\u001b[0;32m----> 7\u001b[0;31m \u001b[0;32mimport\u001b[0m \u001b[0mcvxpy\u001b[0m \u001b[0;32mas\u001b[0m \u001b[0mcp\u001b[0m\u001b[0;34m\u001b[0m\u001b[0;34m\u001b[0m\u001b[0m\n\u001b[0m",
      "\u001b[0;31mModuleNotFoundError\u001b[0m: No module named 'cvxpy'"
     ]
    }
   ],
   "source": [
    "import numpy as np\n",
    "from itertools import combinations\n",
    "from numpy.linalg import inv, svd\n",
    "import pandas as pd\n",
    "import matplotlib.pyplot as plt\n",
    "#import cvxopt \n",
    "import cvxpy as cp\n"
   ]
  },
  {
   "cell_type": "code",
   "execution_count": 4,
   "metadata": {},
   "outputs": [
    {
     "ename": "RuntimeError",
     "evalue": "module compiled against API version 0xe but this version of numpy is 0xd",
     "output_type": "error",
     "traceback": [
      "\u001b[0;31m---------------------------------------------------------------------------\u001b[0m",
      "\u001b[0;31mRuntimeError\u001b[0m                              Traceback (most recent call last)",
      "\u001b[0;31mRuntimeError\u001b[0m: module compiled against API version 0xe but this version of numpy is 0xd"
     ]
    },
    {
     "ename": "RuntimeError",
     "evalue": "module compiled against API version 0xe but this version of numpy is 0xd",
     "output_type": "error",
     "traceback": [
      "\u001b[0;31m---------------------------------------------------------------------------\u001b[0m",
      "\u001b[0;31mRuntimeError\u001b[0m                              Traceback (most recent call last)",
      "\u001b[0;31mRuntimeError\u001b[0m: module compiled against API version 0xe but this version of numpy is 0xd"
     ]
    },
    {
     "ename": "RuntimeError",
     "evalue": "module compiled against API version 0xe but this version of numpy is 0xd",
     "output_type": "error",
     "traceback": [
      "\u001b[0;31m---------------------------------------------------------------------------\u001b[0m",
      "\u001b[0;31mRuntimeError\u001b[0m                              Traceback (most recent call last)",
      "\u001b[0;31mRuntimeError\u001b[0m: module compiled against API version 0xe but this version of numpy is 0xd"
     ]
    },
    {
     "name": "stdout",
     "output_type": "stream",
     "text": [
      "['CVXOPT', 'GLPK', 'GLPK_MI', 'OSQP']\n"
     ]
    }
   ],
   "source": [
    "print(cp.installed_solvers())"
   ]
  },
  {
   "cell_type": "code",
   "execution_count": 5,
   "metadata": {},
   "outputs": [],
   "source": [
    "# select the random (m x n) orthogonal matrix, U, that we will use\n",
    "np.random.seed(1)\n",
    "c_means = pd.read_csv('../../data/col_means.csv')\n",
    "assoc_mat = np.array(pd.read_csv('../../data/uw_58_ratings_matrix_unscaled.csv'))[:,1:]\n",
    "assoc_mat = assoc_mat- c_means.V1.values\n",
    "assoc_mat = assoc_mat.T\n",
    "assoc_mat = assoc_mat.astype('float')\n",
    "\n",
    "\n",
    "\n",
    "m = 58  # number of rows\n",
    "n = 30   # number of columns\n",
    "#U,S,Vh = svd(np.random.randn(m,n), full_matrices=False)\n",
    "U,S,Vh = svd(assoc_mat, full_matrices=False)\n"
   ]
  },
  {
   "cell_type": "code",
   "execution_count": null,
   "metadata": {},
   "outputs": [],
   "source": []
  },
  {
   "cell_type": "code",
   "execution_count": null,
   "metadata": {},
   "outputs": [],
   "source": []
  },
  {
   "cell_type": "code",
   "execution_count": 6,
   "metadata": {},
   "outputs": [],
   "source": [
    "# evaluate cost function, picking subset \"select\" from rows of U\n",
    "def costfun(U,select):\n",
    "    m,n = U.shape\n",
    "    return 1/n * inv(U[select,:].T @ U[select,:]).trace()"
   ]
  },
  {
   "cell_type": "code",
   "execution_count": 7,
   "metadata": {},
   "outputs": [],
   "source": [
    "# Use convex relaxation with rounding\n",
    "# e.g. as in Joshi-Boyd paper:  doi: 10.1109/TSP.2008.2007095\n",
    "def BoydHeuristic(U,r):\n",
    "    X = cp.Variable((n,n), symmetric=True)\n",
    "    v = cp.Variable(m)\n",
    "    Z = cp.bmat( [[X, np.eye(n)], [np.eye(n), U.T @ cp.diag(v) @ U]] )\n",
    "    constraints = [ Z >> 0, 0 <= v, v <= 1, sum(v) == r ]\n",
    "    prob = cp.Problem(cp.Minimize(cp.trace(X)), constraints)\n",
    "    #prob.solve(solver=cp.CVXOPT)\n",
    "    prob.solve()\n",
    "    return v.value"
   ]
  },
  {
   "cell_type": "markdown",
   "metadata": {},
   "source": [
    "## row selection via convex relaxation"
   ]
  },
  {
   "cell_type": "code",
   "execution_count": 8,
   "metadata": {},
   "outputs": [],
   "source": [
    "r = 14"
   ]
  },
  {
   "cell_type": "code",
   "execution_count": 9,
   "metadata": {},
   "outputs": [
    {
     "name": "stdout",
     "output_type": "stream",
     "text": [
      "chosen rows =  [4, 21, 22, 23, 24, 26, 32, 38, 49, 50, 53, 54, 56, 57]\n",
      "achieved cost using this choice =  1.8791305933908732e+16\n",
      "lower bound on optimal cost =  4.0648643910530415\n",
      "CPU times: user 1.39 s, sys: 65.4 ms, total: 1.46 s\n",
      "Wall time: 937 ms\n"
     ]
    }
   ],
   "source": [
    "%%time\n",
    "\n",
    "# Apply Boyd heuristic, compute lower and upper bounds for the cost\n",
    "v = BoydHeuristic(U,r)\n",
    "\n",
    "# rounding heuristic: choose r largest values\n",
    "srtmp = sorted( enumerate(v), key = lambda x : x[1], reverse=True )\n",
    "select_rounding = sorted([ x[0] for x in srtmp[:r] ])\n",
    "\n",
    "print(\"chosen rows = \", select_rounding)\n",
    "print(\"achieved cost using this choice = \", costfun(U,select_rounding) )\n",
    "print(\"lower bound on optimal cost = \", 1/n * inv( U.T @ cp.diag(v).value @ U ).trace() )"
   ]
  },
  {
   "cell_type": "markdown",
   "metadata": {},
   "source": [
    "## row selection via brute force"
   ]
  },
  {
   "cell_type": "code",
   "execution_count": 20,
   "metadata": {},
   "outputs": [],
   "source": [
    "%%time\n",
    "\n",
    "# look at all possibilities\n",
    "cs = [ (select, costfun(U,select)) for select in combinations(range(m),r) ]\n",
    "cstmp = sorted( cs, key = lambda x : x[1] )[0]\n",
    "\n",
    "print( \"optmal rows = \", cstmp[0] )\n",
    "print( \"optimal cost = \", cstmp[1] )"
   ]
  },
  {
   "cell_type": "code",
   "execution_count": null,
   "metadata": {},
   "outputs": [
    {
     "ename": "NameError",
     "evalue": "name 'cs' is not defined",
     "output_type": "error",
     "traceback": [
      "\u001b[0;31m---------------------------------------------------------------------------\u001b[0m",
      "\u001b[0;31mNameError\u001b[0m                                 Traceback (most recent call last)",
      "\u001b[0;32m<ipython-input-19-2fb5d57855b1>\u001b[0m in \u001b[0;36m<module>\u001b[0;34m\u001b[0m\n\u001b[1;32m      1\u001b[0m \u001b[0;31m# plot all possible achievable costs (all possible subsets)\u001b[0m\u001b[0;34m\u001b[0m\u001b[0;34m\u001b[0m\u001b[0m\n\u001b[0;32m----> 2\u001b[0;31m \u001b[0mcns\u001b[0m \u001b[0;34m=\u001b[0m \u001b[0msorted\u001b[0m\u001b[0;34m(\u001b[0m\u001b[0;34m[\u001b[0m \u001b[0mx\u001b[0m\u001b[0;34m[\u001b[0m\u001b[0;36m1\u001b[0m\u001b[0;34m]\u001b[0m \u001b[0;32mfor\u001b[0m \u001b[0mx\u001b[0m \u001b[0;32min\u001b[0m \u001b[0mcs\u001b[0m \u001b[0;34m]\u001b[0m\u001b[0;34m)\u001b[0m\u001b[0;34m\u001b[0m\u001b[0;34m\u001b[0m\u001b[0m\n\u001b[0m\u001b[1;32m      3\u001b[0m \u001b[0mplt\u001b[0m\u001b[0;34m.\u001b[0m\u001b[0mfigure\u001b[0m\u001b[0;34m(\u001b[0m\u001b[0mfigsize\u001b[0m\u001b[0;34m=\u001b[0m\u001b[0;34m(\u001b[0m\u001b[0;36m10\u001b[0m\u001b[0;34m,\u001b[0m\u001b[0;36m5\u001b[0m\u001b[0;34m)\u001b[0m\u001b[0;34m)\u001b[0m\u001b[0;34m\u001b[0m\u001b[0;34m\u001b[0m\u001b[0m\n\u001b[1;32m      4\u001b[0m \u001b[0mplt\u001b[0m\u001b[0;34m.\u001b[0m\u001b[0msemilogy\u001b[0m\u001b[0;34m(\u001b[0m\u001b[0mcns\u001b[0m\u001b[0;34m)\u001b[0m\u001b[0;34m\u001b[0m\u001b[0;34m\u001b[0m\u001b[0m\n\u001b[1;32m      5\u001b[0m \u001b[0mplt\u001b[0m\u001b[0;34m.\u001b[0m\u001b[0mxlim\u001b[0m\u001b[0;34m(\u001b[0m\u001b[0mxmin\u001b[0m\u001b[0;34m=\u001b[0m\u001b[0;36m0\u001b[0m\u001b[0;34m,\u001b[0m\u001b[0mxmax\u001b[0m\u001b[0;34m=\u001b[0m\u001b[0mlen\u001b[0m\u001b[0;34m(\u001b[0m\u001b[0mcns\u001b[0m\u001b[0;34m)\u001b[0m\u001b[0;34m-\u001b[0m\u001b[0;36m1\u001b[0m\u001b[0;34m)\u001b[0m\u001b[0;34m\u001b[0m\u001b[0;34m\u001b[0m\u001b[0m\n",
      "\u001b[0;31mNameError\u001b[0m: name 'cs' is not defined"
     ]
    }
   ],
   "source": [
    "# plot all possible achievable costs (all possible subsets)\n",
    "cns = sorted([ x[1] for x in cs ])\n",
    "plt.figure(figsize=(10,5))\n",
    "plt.semilogy(cns)\n",
    "plt.xlim(xmin=0,xmax=len(cns)-1)\n",
    "plt.grid(which='both')\n",
    "plt.xlabel(f\"random subset of {r} rows out of a random {m}x{n} orthogonal matrix\")\n",
    "plt.ylabel(\"objective function, trace of pinv(U)\");"
   ]
  },
  {
   "cell_type": "code",
   "execution_count": null,
   "metadata": {},
   "outputs": [],
   "source": [
    "# approximate the distribution of costs obtained if the rows are sampled randomly without replacement\n",
    "np.random.seed(1)\n",
    "rx = np.random.randint(0,len(cns),size=1000000)\n",
    "samples = [ cns[k] for k in rx ]\n",
    "\n",
    "plt.figure(figsize=(10,5))\n",
    "plt.hist( samples, bins=np.logspace(0,3,100), log=False, density=True )\n",
    "ax = plt.gca()\n",
    "ax.set_xscale('log')\n",
    "plt.xlabel(f\"value obtained by sampling a random subset of {r} rows out of a random {m}x{n} orthogonal matrix\")\n",
    "plt.ylabel(\"probability density\")\n",
    "plt.grid(which='both')"
   ]
  },
  {
   "cell_type": "code",
   "execution_count": null,
   "metadata": {},
   "outputs": [],
   "source": []
  },
  {
   "cell_type": "code",
   "execution_count": 4,
   "metadata": {},
   "outputs": [
    {
     "data": {
      "text/plain": [
       "array([ 1.967762  , -0.16798695,  2.01840622, ..., 11.48023034,\n",
       "        9.59714478,  8.0043197 ])"
      ]
     },
     "execution_count": 4,
     "metadata": {},
     "output_type": "execute_result"
    }
   ],
   "source": [
    "\n",
    "import numpy as np\n",
    "a = np.linspace(1, 10, num=5000)\n",
    "np.random.normal(loc=a, scale=1)"
   ]
  }
 ],
 "metadata": {
  "interpreter": {
   "hash": "aee8b7b246df8f9039afb4144a1f6fd8d2ca17a180786b69acc140d282b71a49"
  },
  "kernelspec": {
   "display_name": "Python 3.8.2 64-bit",
   "language": "python",
   "name": "python382jvsc74a57bd01c68e85b6f001e0be349c48e58a41a3f795bb6f601dc0270eaf12db34ec59a87"
  },
  "language_info": {
   "codemirror_mode": {
    "name": "ipython",
    "version": 3
   },
   "file_extension": ".py",
   "mimetype": "text/x-python",
   "name": "python",
   "nbconvert_exporter": "python",
   "pygments_lexer": "ipython3",
   "version": "3.8.2"
  }
 },
 "nbformat": 4,
 "nbformat_minor": 4
}
