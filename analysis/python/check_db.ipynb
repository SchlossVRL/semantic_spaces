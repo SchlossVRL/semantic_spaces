{
 "cells": [
  {
   "cell_type": "code",
   "execution_count": 1,
   "metadata": {},
   "outputs": [],
   "source": [
    "## We are using the 'colorability' db credentials for all association ratings experiments. \n",
    "## Don't get confused. Yes, that means you Kushin.\n",
    "\n",
    "##make sure you're connected to UW VPN"
   ]
  },
  {
   "cell_type": "code",
   "execution_count": null,
   "metadata": {},
   "outputs": [],
   "source": []
  },
  {
   "cell_type": "code",
   "execution_count": null,
   "metadata": {},
   "outputs": [],
   "source": []
  },
  {
   "cell_type": "code",
   "execution_count": null,
   "metadata": {},
   "outputs": [],
   "source": []
  },
  {
   "cell_type": "code",
   "execution_count": 74,
   "metadata": {},
   "outputs": [],
   "source": [
    "import os\n",
    "import mysql.connector\n",
    "import pandas as pd\n",
    "import numpy as np\n",
    "import matplotlib.pyplot as plt\n",
    "from matplotlib.pyplot import figure\n",
    "from scipy import stats\n",
    "from collections import Counter\n"
   ]
  },
  {
   "cell_type": "code",
   "execution_count": 75,
   "metadata": {},
   "outputs": [],
   "source": [
    "# db = mysql.connector.connect(\n",
    "#    host='127.0.0.1',\n",
    "#     port= 3306,\n",
    "#    user='root',\n",
    "#    passwd='kushinm11',\n",
    "#     db = 'db1',\n",
    "#     auth_plugin='mysql_native_password'\n",
    "# )\n",
    "# table_name = ''"
   ]
  },
  {
   "cell_type": "markdown",
   "metadata": {},
   "source": [
    "## Connect to DB"
   ]
  },
  {
   "cell_type": "code",
   "execution_count": 76,
   "metadata": {},
   "outputs": [],
   "source": [
    "db = mysql.connector.connect(\n",
    "   host=\"schlosslab-exp.wid.wisc.edu\",\n",
    "    port= 3306,\n",
    "   user=\"colorability_op\",\n",
    "   passwd=\"auy2fovei7Bee6uC\",\n",
    "    db = 'colorability'\n",
    ")\n"
   ]
  },
  {
   "cell_type": "code",
   "execution_count": 77,
   "metadata": {},
   "outputs": [
    {
     "name": "stdout",
     "output_type": "stream",
     "text": [
      "condition_log\n",
      "data_log\n",
      "register_log\n"
     ]
    }
   ],
   "source": [
    "##get list of table names\n",
    "\n",
    "cursor = db.cursor()\n",
    "\n",
    "cursor.execute(\"SHOW TABLES\")    # execute 'SHOW TABLES' (but data is not returned)\n",
    "for (table_name,) in cursor:\n",
    "    print(table_name)"
   ]
  },
  {
   "cell_type": "code",
   "execution_count": 78,
   "metadata": {},
   "outputs": [],
   "source": [
    "## this is for the dummy repo i made for Tim's lab\n",
    "\n",
    "# db = mysql.connector.connect(\n",
    "#    host=\"kclab-exp.wid.wisc.edu\",\n",
    "#     port= 3306,\n",
    "#    user=\"color_concept_rate_op\",\n",
    "#    passwd=\"eeve8yai8pohZoh9\",\n",
    "#     db = 'color_concept_rate'\n",
    "# )\n",
    "# table_name = 'register_log'"
   ]
  },
  {
   "cell_type": "code",
   "execution_count": 79,
   "metadata": {},
   "outputs": [],
   "source": [
    "table_name = 'data_log'\n",
    "df = pd.read_sql_query(\"SELECT * FROM {}\".format(table_name),\n",
    "    db) ### convert table into dataframe\n",
    "\n"
   ]
  },
  {
   "cell_type": "code",
   "execution_count": 80,
   "metadata": {},
   "outputs": [
    {
     "data": {
      "text/plain": [
       "concept\n",
       "animals        48\n",
       "automobiles    52\n",
       "values         52\n",
       "weather        53\n",
       "Name: subject_id, dtype: int64"
      ]
     },
     "execution_count": 80,
     "metadata": {},
     "output_type": "execute_result"
    }
   ],
   "source": [
    "## How many in each category?\n",
    "df[df.trial_type=='image-slider-responseMAS'].groupby('concept')['subject_id'].apply(lambda x: len(list(np.unique(x))))\n"
   ]
  },
  {
   "cell_type": "code",
   "execution_count": 81,
   "metadata": {},
   "outputs": [
    {
     "name": "stdout",
     "output_type": "stream",
     "text": [
      "How many subjects so far?\n",
      "222\n"
     ]
    }
   ],
   "source": [
    "print('How many subjects so far?')\n",
    "print(df.workerID.nunique())"
   ]
  },
  {
   "cell_type": "code",
   "execution_count": 82,
   "metadata": {},
   "outputs": [
    {
     "data": {
      "text/plain": [
       "array([None, 'love', 'peace', 'justice', 'evil', 'greed', 'car',\n",
       "       'airplane', 'boat', 'plane', 'truck', 'hurricane', 'drought',\n",
       "       'blizzard', 'sandstorm', 'lightning', 'bear', 'lion', 'bird',\n",
       "       'fish', 'frog'], dtype=object)"
      ]
     },
     "execution_count": 82,
     "metadata": {},
     "output_type": "execute_result"
    }
   ],
   "source": [
    "df.prompt.unique()"
   ]
  },
  {
   "cell_type": "code",
   "execution_count": 83,
   "metadata": {},
   "outputs": [],
   "source": [
    "d_cb = df[df.trial_type=='survey-multi-choice'] ## dataframe with colorblind info\n",
    "cb_exclude = []\n",
    "for i, row in d_cb.iterrows():\n",
    "    if row['responses'].decode('UTF-8').split('\"')[3] == 'Yes':\n",
    "        cb_exclude.append(row['subject_id'])\n",
    "\n",
    "    "
   ]
  },
  {
   "cell_type": "code",
   "execution_count": 84,
   "metadata": {},
   "outputs": [
    {
     "data": {
      "text/plain": [
       "['ymypo4bmnhbz4911aecn',\n",
       " 'u1n0lme13vcrg58fgdaz',\n",
       " '3ug8q1arswdwou0ohz25',\n",
       " 'yhs288z0nj94g7u9yr1r',\n",
       " 'fgrv67037p73qz14eb8v',\n",
       " 'qdtj2op8ebe1xvj7xyqx']"
      ]
     },
     "execution_count": 84,
     "metadata": {},
     "output_type": "execute_result"
    }
   ],
   "source": [
    "### folks to exclude\n",
    "cb_exclude"
   ]
  },
  {
   "cell_type": "code",
   "execution_count": 85,
   "metadata": {},
   "outputs": [
    {
     "data": {
      "text/plain": [
       "Counter({'male': 26,\n",
       "         'Female': 72,\n",
       "         'Male': 34,\n",
       "         'female': 55,\n",
       "         'man': 1,\n",
       "         'M': 1,\n",
       "         'female ': 7,\n",
       "         'Female ': 3,\n",
       "         'Woman': 1,\n",
       "         'Trans nonbinary man': 1,\n",
       "         'F': 3,\n",
       "         'Male ': 1})"
      ]
     },
     "execution_count": 85,
     "metadata": {},
     "output_type": "execute_result"
    }
   ],
   "source": [
    "gender_responses=[]\n",
    "age_responses = []\n",
    "\n",
    "for i, row in df[df.trial_type=='survey-text'].iterrows():\n",
    "    gender_responses.append(row['responses'].decode('UTF-8').split('\"')[3])\n",
    "    age_responses.append(row['responses'].decode('UTF-8').split('\"')[7])\n",
    "\n",
    "\n",
    "Counter(gender_responses)\n"
   ]
  },
  {
   "cell_type": "code",
   "execution_count": 86,
   "metadata": {},
   "outputs": [
    {
     "data": {
      "text/plain": [
       "Counter({'18': 123,\n",
       "         '19': 51,\n",
       "         '24': 1,\n",
       "         '21': 8,\n",
       "         '20': 15,\n",
       "         '18 ': 1,\n",
       "         '25': 2,\n",
       "         '17': 2,\n",
       "         '23': 1,\n",
       "         '8': 1})"
      ]
     },
     "execution_count": 86,
     "metadata": {},
     "output_type": "execute_result"
    }
   ],
   "source": [
    "Counter(age_responses)"
   ]
  },
  {
   "cell_type": "code",
   "execution_count": 87,
   "metadata": {},
   "outputs": [],
   "source": [
    "df_final = df[~(df.subject_id.isin(cb_exclude))&(df.trial_type=='image-slider-responseMAS')]"
   ]
  },
  {
   "cell_type": "code",
   "execution_count": 88,
   "metadata": {},
   "outputs": [
    {
     "data": {
      "text/plain": [
       "199"
      ]
     },
     "execution_count": 88,
     "metadata": {},
     "output_type": "execute_result"
    }
   ],
   "source": [
    "df_final.subject_id.nunique()"
   ]
  },
  {
   "cell_type": "code",
   "execution_count": 89,
   "metadata": {},
   "outputs": [
    {
     "name": "stderr",
     "output_type": "stream",
     "text": [
      "/opt/homebrew/Caskroom/miniforge/base/envs/python3_8/lib/python3.8/site-packages/pandas/core/generic.py:5494: SettingWithCopyWarning: \n",
      "A value is trying to be set on a copy of a slice from a DataFrame.\n",
      "Try using .loc[row_indexer,col_indexer] = value instead\n",
      "\n",
      "See the caveats in the documentation: https://pandas.pydata.org/pandas-docs/stable/user_guide/indexing.html#returning-a-view-versus-a-copy\n",
      "  self[name] = value\n"
     ]
    }
   ],
   "source": [
    "df_final.response = (df_final.response + 200)/400"
   ]
  },
  {
   "cell_type": "code",
   "execution_count": 90,
   "metadata": {},
   "outputs": [
    {
     "data": {
      "text/plain": [
       "concept\n",
       "animals        45\n",
       "automobiles    51\n",
       "values         50\n",
       "weather        53\n",
       "Name: subject_id, dtype: int64"
      ]
     },
     "execution_count": 90,
     "metadata": {},
     "output_type": "execute_result"
    }
   ],
   "source": [
    "df_final.groupby('concept')['subject_id'].apply(lambda x: len(list(np.unique(x))))"
   ]
  },
  {
   "cell_type": "code",
   "execution_count": null,
   "metadata": {},
   "outputs": [],
   "source": []
  },
  {
   "cell_type": "code",
   "execution_count": 19,
   "metadata": {},
   "outputs": [
    {
     "data": {
      "text/plain": [
       "'#2f6ef6'"
      ]
     },
     "execution_count": 19,
     "metadata": {},
     "output_type": "execute_result"
    }
   ],
   "source": [
    "import matplotlib.colors as colors"
   ]
  },
  {
   "cell_type": "code",
   "execution_count": 20,
   "metadata": {},
   "outputs": [],
   "source": [
    "uw71coords = pd.read_csv('../../data/UW71coordinates_long.csv')\n",
    "uw58coords = pd.read_csv('../../data/UW_58_rgb.csv',header=None)\n",
    "uw58coords['color_hex'] = uw58coords.apply(lambda x: colors.to_hex([x[0],x[1],x[2]]),axis=1)"
   ]
  },
  {
   "cell_type": "code",
   "execution_count": 30,
   "metadata": {},
   "outputs": [],
   "source": [
    "uw71touw58 = np.zeros((71,))\n",
    "\n",
    "for i, row in uw71coords.iterrows():\n",
    "    uw71touw58[i]=71\n",
    "    for j, row2 in uw58coords.iterrows():\n",
    "        if row['color_hex']==row2['color_hex']:\n",
    "            uw71touw58[i] = j\n",
    "uw71coords['uw71touw58'] = uw71touw58\n",
    "for i in range(uw71coords.shape[0]):\n",
    "    if uw71coords.uw71touw58[i]==71:\n",
    "        uw71coords.uw71touw58[i] = np.nan"
   ]
  },
  {
   "cell_type": "code",
   "execution_count": 47,
   "metadata": {},
   "outputs": [],
   "source": [
    "uw71coords.to_csv('../../data/uw71coords.csv')"
   ]
  },
  {
   "cell_type": "code",
   "execution_count": 101,
   "metadata": {},
   "outputs": [],
   "source": [
    "ratings_df = df_final.groupby(['concept','prompt','color_index']).response.agg(mean_rating = 'mean', se ='sem').reset_index()"
   ]
  },
  {
   "cell_type": "code",
   "execution_count": 100,
   "metadata": {},
   "outputs": [
    {
     "data": {
      "text/html": [
       "<div>\n",
       "<style scoped>\n",
       "    .dataframe tbody tr th:only-of-type {\n",
       "        vertical-align: middle;\n",
       "    }\n",
       "\n",
       "    .dataframe tbody tr th {\n",
       "        vertical-align: top;\n",
       "    }\n",
       "\n",
       "    .dataframe thead th {\n",
       "        text-align: right;\n",
       "    }\n",
       "</style>\n",
       "<table border=\"1\" class=\"dataframe\">\n",
       "  <thead>\n",
       "    <tr style=\"text-align: right;\">\n",
       "      <th></th>\n",
       "      <th>v_index</th>\n",
       "      <th>color_index</th>\n",
       "      <th>L</th>\n",
       "      <th>a</th>\n",
       "      <th>b</th>\n",
       "      <th>C</th>\n",
       "      <th>H</th>\n",
       "      <th>r_rgb</th>\n",
       "      <th>g_rgb</th>\n",
       "      <th>b_rgb</th>\n",
       "      <th>r255</th>\n",
       "      <th>g255</th>\n",
       "      <th>b255</th>\n",
       "      <th>color_hex</th>\n",
       "      <th>uw71touw58</th>\n",
       "    </tr>\n",
       "  </thead>\n",
       "  <tbody>\n",
       "    <tr>\n",
       "      <th>0</th>\n",
       "      <td>V1</td>\n",
       "      <td>0</td>\n",
       "      <td>50</td>\n",
       "      <td>28.8910</td>\n",
       "      <td>-73.589</td>\n",
       "      <td>79.057136</td>\n",
       "      <td>291.434944</td>\n",
       "      <td>0.18536</td>\n",
       "      <td>0.431390</td>\n",
       "      <td>0.964970</td>\n",
       "      <td>47.26680</td>\n",
       "      <td>110.004450</td>\n",
       "      <td>246.067350</td>\n",
       "      <td>#2f6ef6</td>\n",
       "      <td>16.0</td>\n",
       "    </tr>\n",
       "    <tr>\n",
       "      <th>1</th>\n",
       "      <td>V2</td>\n",
       "      <td>1</td>\n",
       "      <td>25</td>\n",
       "      <td>53.8570</td>\n",
       "      <td>-72.280</td>\n",
       "      <td>90.138642</td>\n",
       "      <td>306.690392</td>\n",
       "      <td>0.20878</td>\n",
       "      <td>0.093277</td>\n",
       "      <td>0.677550</td>\n",
       "      <td>53.23890</td>\n",
       "      <td>23.785635</td>\n",
       "      <td>172.775250</td>\n",
       "      <td>#3518ad</td>\n",
       "      <td>17.0</td>\n",
       "    </tr>\n",
       "    <tr>\n",
       "      <th>2</th>\n",
       "      <td>V3</td>\n",
       "      <td>2</td>\n",
       "      <td>50</td>\n",
       "      <td>53.8570</td>\n",
       "      <td>-72.280</td>\n",
       "      <td>90.138642</td>\n",
       "      <td>306.690392</td>\n",
       "      <td>0.52107</td>\n",
       "      <td>0.343280</td>\n",
       "      <td>0.957410</td>\n",
       "      <td>132.87285</td>\n",
       "      <td>87.536400</td>\n",
       "      <td>244.139550</td>\n",
       "      <td>#8558f4</td>\n",
       "      <td>18.0</td>\n",
       "    </tr>\n",
       "    <tr>\n",
       "      <th>3</th>\n",
       "      <td>V4</td>\n",
       "      <td>3</td>\n",
       "      <td>50</td>\n",
       "      <td>78.8220</td>\n",
       "      <td>-70.972</td>\n",
       "      <td>106.065699</td>\n",
       "      <td>317.999859</td>\n",
       "      <td>0.71554</td>\n",
       "      <td>0.182090</td>\n",
       "      <td>0.950150</td>\n",
       "      <td>182.46270</td>\n",
       "      <td>46.432950</td>\n",
       "      <td>242.288250</td>\n",
       "      <td>#b62ef2</td>\n",
       "      <td>19.0</td>\n",
       "    </tr>\n",
       "    <tr>\n",
       "      <th>4</th>\n",
       "      <td>V5</td>\n",
       "      <td>4</td>\n",
       "      <td>50</td>\n",
       "      <td>2.6168</td>\n",
       "      <td>-49.931</td>\n",
       "      <td>49.999524</td>\n",
       "      <td>273.000031</td>\n",
       "      <td>0.02815</td>\n",
       "      <td>0.479950</td>\n",
       "      <td>0.800070</td>\n",
       "      <td>7.17825</td>\n",
       "      <td>122.387250</td>\n",
       "      <td>204.017850</td>\n",
       "      <td>#077acc</td>\n",
       "      <td>10.0</td>\n",
       "    </tr>\n",
       "    <tr>\n",
       "      <th>...</th>\n",
       "      <td>...</td>\n",
       "      <td>...</td>\n",
       "      <td>...</td>\n",
       "      <td>...</td>\n",
       "      <td>...</td>\n",
       "      <td>...</td>\n",
       "      <td>...</td>\n",
       "      <td>...</td>\n",
       "      <td>...</td>\n",
       "      <td>...</td>\n",
       "      <td>...</td>\n",
       "      <td>...</td>\n",
       "      <td>...</td>\n",
       "      <td>...</td>\n",
       "      <td>...</td>\n",
       "    </tr>\n",
       "    <tr>\n",
       "      <th>66</th>\n",
       "      <td>V67</td>\n",
       "      <td>66</td>\n",
       "      <td>75</td>\n",
       "      <td>-28.8910</td>\n",
       "      <td>73.589</td>\n",
       "      <td>79.057136</td>\n",
       "      <td>111.434944</td>\n",
       "      <td>0.66567</td>\n",
       "      <td>0.770750</td>\n",
       "      <td>0.060920</td>\n",
       "      <td>169.74585</td>\n",
       "      <td>196.541250</td>\n",
       "      <td>15.534600</td>\n",
       "      <td>#aac510</td>\n",
       "      <td>54.0</td>\n",
       "    </tr>\n",
       "    <tr>\n",
       "      <th>67</th>\n",
       "      <td>V68</td>\n",
       "      <td>67</td>\n",
       "      <td>88</td>\n",
       "      <td>-28.8910</td>\n",
       "      <td>73.589</td>\n",
       "      <td>79.057136</td>\n",
       "      <td>111.434944</td>\n",
       "      <td>0.81500</td>\n",
       "      <td>0.913800</td>\n",
       "      <td>0.258170</td>\n",
       "      <td>207.82500</td>\n",
       "      <td>233.019000</td>\n",
       "      <td>65.833350</td>\n",
       "      <td>#d0e942</td>\n",
       "      <td>NaN</td>\n",
       "    </tr>\n",
       "    <tr>\n",
       "      <th>68</th>\n",
       "      <td>V69</td>\n",
       "      <td>68</td>\n",
       "      <td>75</td>\n",
       "      <td>-3.9252</td>\n",
       "      <td>74.897</td>\n",
       "      <td>74.999785</td>\n",
       "      <td>93.000011</td>\n",
       "      <td>0.83409</td>\n",
       "      <td>0.720190</td>\n",
       "      <td>0.066708</td>\n",
       "      <td>212.69295</td>\n",
       "      <td>183.648450</td>\n",
       "      <td>17.010540</td>\n",
       "      <td>#d5b811</td>\n",
       "      <td>56.0</td>\n",
       "    </tr>\n",
       "    <tr>\n",
       "      <th>69</th>\n",
       "      <td>V70</td>\n",
       "      <td>69</td>\n",
       "      <td>88</td>\n",
       "      <td>-3.9252</td>\n",
       "      <td>74.897</td>\n",
       "      <td>74.999785</td>\n",
       "      <td>93.000011</td>\n",
       "      <td>0.98973</td>\n",
       "      <td>0.860650</td>\n",
       "      <td>0.257390</td>\n",
       "      <td>252.38115</td>\n",
       "      <td>219.465750</td>\n",
       "      <td>65.634450</td>\n",
       "      <td>#fcdb42</td>\n",
       "      <td>NaN</td>\n",
       "    </tr>\n",
       "    <tr>\n",
       "      <th>70</th>\n",
       "      <td>V71</td>\n",
       "      <td>70</td>\n",
       "      <td>75</td>\n",
       "      <td>21.0410</td>\n",
       "      <td>76.206</td>\n",
       "      <td>79.057436</td>\n",
       "      <td>74.564805</td>\n",
       "      <td>0.98290</td>\n",
       "      <td>0.656430</td>\n",
       "      <td>0.078187</td>\n",
       "      <td>250.63950</td>\n",
       "      <td>167.389650</td>\n",
       "      <td>19.937685</td>\n",
       "      <td>#fba714</td>\n",
       "      <td>57.0</td>\n",
       "    </tr>\n",
       "  </tbody>\n",
       "</table>\n",
       "<p>71 rows × 15 columns</p>\n",
       "</div>"
      ],
      "text/plain": [
       "   v_index  color_index   L        a       b           C           H    r_rgb  \\\n",
       "0       V1            0  50  28.8910 -73.589   79.057136  291.434944  0.18536   \n",
       "1       V2            1  25  53.8570 -72.280   90.138642  306.690392  0.20878   \n",
       "2       V3            2  50  53.8570 -72.280   90.138642  306.690392  0.52107   \n",
       "3       V4            3  50  78.8220 -70.972  106.065699  317.999859  0.71554   \n",
       "4       V5            4  50   2.6168 -49.931   49.999524  273.000031  0.02815   \n",
       "..     ...          ...  ..      ...     ...         ...         ...      ...   \n",
       "66     V67           66  75 -28.8910  73.589   79.057136  111.434944  0.66567   \n",
       "67     V68           67  88 -28.8910  73.589   79.057136  111.434944  0.81500   \n",
       "68     V69           68  75  -3.9252  74.897   74.999785   93.000011  0.83409   \n",
       "69     V70           69  88  -3.9252  74.897   74.999785   93.000011  0.98973   \n",
       "70     V71           70  75  21.0410  76.206   79.057436   74.564805  0.98290   \n",
       "\n",
       "       g_rgb     b_rgb       r255        g255        b255 color_hex  \\\n",
       "0   0.431390  0.964970   47.26680  110.004450  246.067350   #2f6ef6   \n",
       "1   0.093277  0.677550   53.23890   23.785635  172.775250   #3518ad   \n",
       "2   0.343280  0.957410  132.87285   87.536400  244.139550   #8558f4   \n",
       "3   0.182090  0.950150  182.46270   46.432950  242.288250   #b62ef2   \n",
       "4   0.479950  0.800070    7.17825  122.387250  204.017850   #077acc   \n",
       "..       ...       ...        ...         ...         ...       ...   \n",
       "66  0.770750  0.060920  169.74585  196.541250   15.534600   #aac510   \n",
       "67  0.913800  0.258170  207.82500  233.019000   65.833350   #d0e942   \n",
       "68  0.720190  0.066708  212.69295  183.648450   17.010540   #d5b811   \n",
       "69  0.860650  0.257390  252.38115  219.465750   65.634450   #fcdb42   \n",
       "70  0.656430  0.078187  250.63950  167.389650   19.937685   #fba714   \n",
       "\n",
       "    uw71touw58  \n",
       "0         16.0  \n",
       "1         17.0  \n",
       "2         18.0  \n",
       "3         19.0  \n",
       "4         10.0  \n",
       "..         ...  \n",
       "66        54.0  \n",
       "67         NaN  \n",
       "68        56.0  \n",
       "69         NaN  \n",
       "70        57.0  \n",
       "\n",
       "[71 rows x 15 columns]"
      ]
     },
     "execution_count": 100,
     "metadata": {},
     "output_type": "execute_result"
    }
   ],
   "source": [
    "uw71coords"
   ]
  },
  {
   "cell_type": "code",
   "execution_count": 140,
   "metadata": {},
   "outputs": [],
   "source": [
    "uw71to58_dict = dict(zip(uw71coords.color_index, uw71coords.uw71touw58)) "
   ]
  },
  {
   "cell_type": "code",
   "execution_count": 129,
   "metadata": {},
   "outputs": [
    {
     "data": {
      "text/html": [
       "<svg  width=\"3905\" height=\"55\"><rect x=\"0\" y=\"0\" width=\"55\" height=\"55\" style=\"fill:#2f6ef6;stroke-width:2;stroke:rgb(255,255,255)\"/><rect x=\"55\" y=\"0\" width=\"55\" height=\"55\" style=\"fill:#3518ad;stroke-width:2;stroke:rgb(255,255,255)\"/><rect x=\"110\" y=\"0\" width=\"55\" height=\"55\" style=\"fill:#8558f4;stroke-width:2;stroke:rgb(255,255,255)\"/><rect x=\"165\" y=\"0\" width=\"55\" height=\"55\" style=\"fill:#b62ef2;stroke-width:2;stroke:rgb(255,255,255)\"/><rect x=\"220\" y=\"0\" width=\"55\" height=\"55\" style=\"fill:#077acc;stroke-width:2;stroke:rgb(255,255,255)\"/><rect x=\"275\" y=\"0\" width=\"55\" height=\"55\" style=\"fill:#2e3086;stroke-width:2;stroke:rgb(255,255,255)\"/><rect x=\"330\" y=\"0\" width=\"55\" height=\"55\" style=\"fill:#746bca;stroke-width:2;stroke:rgb(255,255,255)\"/><rect x=\"385\" y=\"0\" width=\"55\" height=\"55\" style=\"fill:#600b84;stroke-width:2;stroke:rgb(255,255,255)\"/><rect x=\"440\" y=\"0\" width=\"55\" height=\"55\" style=\"fill:#a553c8;stroke-width:2;stroke:rgb(255,255,255)\"/><rect x=\"495\" y=\"0\" width=\"55\" height=\"55\" style=\"fill:#cd26c7;stroke-width:2;stroke:rgb(255,255,255)\"/><rect x=\"550\" y=\"0\" width=\"55\" height=\"55\" style=\"fill:#4dc7e8;stroke-width:2;stroke:rgb(255,255,255)\"/><rect x=\"605\" y=\"0\" width=\"55\" height=\"55\" style=\"fill:#1c3d61;stroke-width:2;stroke:rgb(255,255,255)\"/><rect x=\"660\" y=\"0\" width=\"55\" height=\"55\" style=\"fill:#5e78a1;stroke-width:2;stroke:rgb(255,255,255)\"/><rect x=\"715\" y=\"0\" width=\"55\" height=\"55\" style=\"fill:#a0bae6;stroke-width:2;stroke:rgb(255,255,255)\"/><rect x=\"770\" y=\"0\" width=\"55\" height=\"55\" style=\"fill:#512d5f;stroke-width:2;stroke:rgb(255,255,255)\"/><rect x=\"825\" y=\"0\" width=\"55\" height=\"55\" style=\"fill:#90689f;stroke-width:2;stroke:rgb(255,255,255)\"/><rect x=\"880\" y=\"0\" width=\"55\" height=\"55\" style=\"fill:#d5a9e4;stroke-width:2;stroke:rgb(255,255,255)\"/><rect x=\"935\" y=\"0\" width=\"55\" height=\"55\" style=\"fill:#72005e;stroke-width:2;stroke:rgb(255,255,255)\"/><rect x=\"990\" y=\"0\" width=\"55\" height=\"55\" style=\"fill:#b8509e;stroke-width:2;stroke:rgb(255,255,255)\"/><rect x=\"1045\" y=\"0\" width=\"55\" height=\"55\" style=\"fill:#db1f9d;stroke-width:2;stroke:rgb(255,255,255)\"/><rect x=\"1100\" y=\"0\" width=\"55\" height=\"55\" style=\"fill:#39f6e0;stroke-width:2;stroke:rgb(255,255,255)\"/><rect x=\"1155\" y=\"0\" width=\"55\" height=\"55\" style=\"fill:#3b8378;stroke-width:2;stroke:rgb(255,255,255)\"/><rect x=\"1210\" y=\"0\" width=\"55\" height=\"55\" style=\"fill:#7ec6ba;stroke-width:2;stroke:rgb(255,255,255)\"/><rect x=\"1265\" y=\"0\" width=\"55\" height=\"55\" style=\"fill:#a2eade;stroke-width:2;stroke:rgb(255,255,255)\"/><rect x=\"1320\" y=\"0\" width=\"55\" height=\"55\" style=\"fill:#000000;stroke-width:2;stroke:rgb(255,255,255)\"/><rect x=\"1375\" y=\"0\" width=\"55\" height=\"55\" style=\"fill:#3b3b3b;stroke-width:2;stroke:rgb(255,255,255)\"/><rect x=\"1430\" y=\"0\" width=\"55\" height=\"55\" style=\"fill:#777777;stroke-width:2;stroke:rgb(255,255,255)\"/><rect x=\"1485\" y=\"0\" width=\"55\" height=\"55\" style=\"fill:#b9b9b9;stroke-width:2;stroke:rgb(255,255,255)\"/><rect x=\"1540\" y=\"0\" width=\"55\" height=\"55\" style=\"fill:#ffffff;stroke-width:2;stroke:rgb(255,255,255)\"/><rect x=\"1595\" y=\"0\" width=\"55\" height=\"55\" style=\"fill:#dddddd;stroke-width:2;stroke:rgb(255,255,255)\"/><rect x=\"1650\" y=\"0\" width=\"55\" height=\"55\" style=\"fill:#5e2b3a;stroke-width:2;stroke:rgb(255,255,255)\"/><rect x=\"1705\" y=\"0\" width=\"55\" height=\"55\" style=\"fill:#a06776;stroke-width:2;stroke:rgb(255,255,255)\"/><rect x=\"1760\" y=\"0\" width=\"55\" height=\"55\" style=\"fill:#e6a8b7;stroke-width:2;stroke:rgb(255,255,255)\"/><rect x=\"1815\" y=\"0\" width=\"55\" height=\"55\" style=\"fill:#c34f74;stroke-width:2;stroke:rgb(255,255,255)\"/><rect x=\"1870\" y=\"0\" width=\"55\" height=\"55\" style=\"fill:#e31b73;stroke-width:2;stroke:rgb(255,255,255)\"/><rect x=\"1925\" y=\"0\" width=\"55\" height=\"55\" style=\"fill:#4bcf8e;stroke-width:2;stroke:rgb(255,255,255)\"/><rect x=\"1980\" y=\"0\" width=\"55\" height=\"55\" style=\"fill:#73f5b0;stroke-width:2;stroke:rgb(255,255,255)\"/><rect x=\"2035\" y=\"0\" width=\"55\" height=\"55\" style=\"fill:#184415;stroke-width:2;stroke:rgb(255,255,255)\"/><rect x=\"2090\" y=\"0\" width=\"55\" height=\"55\" style=\"fill:#55824d;stroke-width:2;stroke:rgb(255,255,255)\"/><rect x=\"2145\" y=\"0\" width=\"55\" height=\"55\" style=\"fill:#96c58c;stroke-width:2;stroke:rgb(255,255,255)\"/><rect x=\"2200\" y=\"0\" width=\"55\" height=\"55\" style=\"fill:#baeaaf;stroke-width:2;stroke:rgb(255,255,255)\"/><rect x=\"2255\" y=\"0\" width=\"55\" height=\"55\" style=\"fill:#443b14;stroke-width:2;stroke:rgb(255,255,255)\"/><rect x=\"2310\" y=\"0\" width=\"55\" height=\"55\" style=\"fill:#83764c;stroke-width:2;stroke:rgb(255,255,255)\"/><rect x=\"2365\" y=\"0\" width=\"55\" height=\"55\" style=\"fill:#c7b88b;stroke-width:2;stroke:rgb(255,255,255)\"/><rect x=\"2420\" y=\"0\" width=\"55\" height=\"55\" style=\"fill:#eddcad;stroke-width:2;stroke:rgb(255,255,255)\"/><rect x=\"2475\" y=\"0\" width=\"55\" height=\"55\" style=\"fill:#632b14;stroke-width:2;stroke:rgb(255,255,255)\"/><rect x=\"2530\" y=\"0\" width=\"55\" height=\"55\" style=\"fill:#a8664b;stroke-width:2;stroke:rgb(255,255,255)\"/><rect x=\"2585\" y=\"0\" width=\"55\" height=\"55\" style=\"fill:#f1a78a;stroke-width:2;stroke:rgb(255,255,255)\"/><rect x=\"2640\" y=\"0\" width=\"55\" height=\"55\" style=\"fill:#c94e4b;stroke-width:2;stroke:rgb(255,255,255)\"/><rect x=\"2695\" y=\"0\" width=\"55\" height=\"55\" style=\"fill:#e81a4b;stroke-width:2;stroke:rgb(255,255,255)\"/><rect x=\"2750\" y=\"0\" width=\"55\" height=\"55\" style=\"fill:#0e8a19;stroke-width:2;stroke:rgb(255,255,255)\"/><rect x=\"2805\" y=\"0\" width=\"55\" height=\"55\" style=\"fill:#67cf5c;stroke-width:2;stroke:rgb(255,255,255)\"/><rect x=\"2860\" y=\"0\" width=\"55\" height=\"55\" style=\"fill:#8cf47e;stroke-width:2;stroke:rgb(255,255,255)\"/><rect x=\"2915\" y=\"0\" width=\"55\" height=\"55\" style=\"fill:#608218;stroke-width:2;stroke:rgb(255,255,255)\"/><rect x=\"2970\" y=\"0\" width=\"55\" height=\"55\" style=\"fill:#a3c55b;stroke-width:2;stroke:rgb(255,255,255)\"/><rect x=\"3025\" y=\"0\" width=\"55\" height=\"55\" style=\"fill:#c8e97d;stroke-width:2;stroke:rgb(255,255,255)\"/><rect x=\"3080\" y=\"0\" width=\"55\" height=\"55\" style=\"fill:#897618;stroke-width:2;stroke:rgb(255,255,255)\"/><rect x=\"3135\" y=\"0\" width=\"55\" height=\"55\" style=\"fill:#d0b85a;stroke-width:2;stroke:rgb(255,255,255)\"/><rect x=\"3190\" y=\"0\" width=\"55\" height=\"55\" style=\"fill:#f7db7c;stroke-width:2;stroke:rgb(255,255,255)\"/><rect x=\"3245\" y=\"0\" width=\"55\" height=\"55\" style=\"fill:#ac6619;stroke-width:2;stroke:rgb(255,255,255)\"/><rect x=\"3300\" y=\"0\" width=\"55\" height=\"55\" style=\"fill:#f7a75a;stroke-width:2;stroke:rgb(255,255,255)\"/><rect x=\"3355\" y=\"0\" width=\"55\" height=\"55\" style=\"fill:#cc4f1b;stroke-width:2;stroke:rgb(255,255,255)\"/><rect x=\"3410\" y=\"0\" width=\"55\" height=\"55\" style=\"fill:#ea1d1d;stroke-width:2;stroke:rgb(255,255,255)\"/><rect x=\"3465\" y=\"0\" width=\"55\" height=\"55\" style=\"fill:#3efe44;stroke-width:2;stroke:rgb(255,255,255)\"/><rect x=\"3520\" y=\"0\" width=\"55\" height=\"55\" style=\"fill:#73cf10;stroke-width:2;stroke:rgb(255,255,255)\"/><rect x=\"3575\" y=\"0\" width=\"55\" height=\"55\" style=\"fill:#9af443;stroke-width:2;stroke:rgb(255,255,255)\"/><rect x=\"3630\" y=\"0\" width=\"55\" height=\"55\" style=\"fill:#aac510;stroke-width:2;stroke:rgb(255,255,255)\"/><rect x=\"3685\" y=\"0\" width=\"55\" height=\"55\" style=\"fill:#d0e942;stroke-width:2;stroke:rgb(255,255,255)\"/><rect x=\"3740\" y=\"0\" width=\"55\" height=\"55\" style=\"fill:#d5b811;stroke-width:2;stroke:rgb(255,255,255)\"/><rect x=\"3795\" y=\"0\" width=\"55\" height=\"55\" style=\"fill:#fcdb42;stroke-width:2;stroke:rgb(255,255,255)\"/><rect x=\"3850\" y=\"0\" width=\"55\" height=\"55\" style=\"fill:#fba714;stroke-width:2;stroke:rgb(255,255,255)\"/></svg>"
      ],
      "text/plain": [
       "[(0.18536, 0.43139, 0.96497),\n",
       " (0.20878, 0.093277, 0.67755),\n",
       " (0.52107, 0.34328, 0.95741),\n",
       " (0.71554, 0.18209, 0.95015),\n",
       " (0.02815, 0.47995, 0.80007),\n",
       " (0.17927, 0.18835, 0.5261),\n",
       " (0.45531, 0.41794, 0.79284),\n",
       " (0.37742, 0.042633, 0.5195),\n",
       " (0.64719, 0.32647, 0.78598),\n",
       " (0.80294, 0.14735, 0.7795),\n",
       " (0.30294, 0.78057, 0.90983),\n",
       " (0.11078, 0.23798, 0.38006),\n",
       " (0.36676, 0.47151, 0.63164),\n",
       " (0.62755, 0.72906, 0.90271),\n",
       " (0.31571, 0.17533, 0.37401),\n",
       " (0.56583, 0.4087, 0.62522),\n",
       " (0.83493, 0.66423, 0.89597),\n",
       " (0.44844, 0.0010157, 0.36856),\n",
       " (0.72068, 0.31508, 0.61928),\n",
       " (0.85795, 0.12084, 0.61389),\n",
       " (0.22415, 0.96405, 0.87881),\n",
       " (0.23228, 0.51203, 0.47224),\n",
       " (0.49553, 0.7754, 0.73022),\n",
       " (0.63541, 0.91934, 0.87189),\n",
       " (0.0, 0.0, 0.0),\n",
       " (0.23251, 0.23251, 0.23251),\n",
       " (0.46633, 0.46633, 0.46633),\n",
       " (0.7239, 0.7239, 0.7239),\n",
       " (1.0, 1.0, 1.0),\n",
       " (0.86539, 0.86539, 0.86539),\n",
       " (0.36814, 0.16901, 0.22803),\n",
       " (0.62657, 0.4033, 0.46106),\n",
       " (0.90215, 0.65899, 0.71809),\n",
       " (0.76433, 0.30881, 0.45651),\n",
       " (0.89143, 0.10584, 0.45276),\n",
       " (0.29264, 0.81366, 0.55522),\n",
       " (0.45168, 0.96053, 0.69143),\n",
       " (0.093053, 0.26787, 0.081612),\n",
       " (0.33427, 0.50935, 0.30369),\n",
       " (0.58834, 0.77224, 0.54935),\n",
       " (0.72747, 0.91598, 0.68535),\n",
       " (0.26859, 0.23099, 0.078708),\n",
       " (0.51566, 0.46391, 0.29927),\n",
       " (0.78226, 0.72092, 0.54415),\n",
       " (0.92752, 0.86218, 0.67984),\n",
       " (0.38773, 0.16814, 0.078494),\n",
       " (0.65938, 0.40118, 0.29597),\n",
       " (0.94491, 0.65619, 0.53969),\n",
       " (0.78826, 0.307, 0.2939),\n",
       " (0.90961, 0.10388, 0.29318),\n",
       " (0.054615, 0.54224, 0.099689),\n",
       " (0.40222, 0.81194, 0.36144),\n",
       " (0.54989, 0.95852, 0.49572),\n",
       " (0.37476, 0.50866, 0.096059),\n",
       " (0.63947, 0.77079, 0.35693),\n",
       " (0.78297, 0.91421, 0.49082),\n",
       " (0.53807, 0.4637, 0.095726),\n",
       " (0.81654, 0.7198, 0.35358),\n",
       " (0.96685, 0.86069, 0.48682),\n",
       " (0.67414, 0.40164, 0.098965),\n",
       " (0.97029, 0.65547, 0.35149),\n",
       " (0.79852, 0.30871, 0.10571),\n",
       " (0.91683, 0.11258, 0.11559),\n",
       " (0.24405, 0.99448, 0.26544),\n",
       " (0.45104, 0.81154, 0.061681),\n",
       " (0.60202, 0.9578, 0.2609),\n",
       " (0.66567, 0.77075, 0.06092),\n",
       " (0.815, 0.9138, 0.25817),\n",
       " (0.83409, 0.72019, 0.066708),\n",
       " (0.98973, 0.86065, 0.25739),\n",
       " (0.9829, 0.65643, 0.078187)]"
      ]
     },
     "execution_count": 129,
     "metadata": {},
     "output_type": "execute_result"
    }
   ],
   "source": [
    "ratings_df.color_index= ratings_df.color_index.astype(int)\n",
    "uw71_tups = np.array(uw71coords.apply(lambda x: tuple([x['r_rgb'],x['g_rgb'],x['b_rgb']]),axis=1))\n",
    "\n",
    "sns.color_palette(uw71_tups)"
   ]
  },
  {
   "cell_type": "code",
   "execution_count": 134,
   "metadata": {},
   "outputs": [
    {
     "data": {
      "text/plain": [
       "Text(0.5, 1.0, 'bear')"
      ]
     },
     "execution_count": 134,
     "metadata": {},
     "output_type": "execute_result"
    },
    {
     "data": {
      "image/png": "[encoded data removed]",
      "text/plain": [
       "<Figure size 864x648 with 1 Axes>"
      ]
     },
     "metadata": {
      "needs_background": "light"
     },
     "output_type": "display_data"
    }
   ],
   "source": [
    "import seaborn as sns\n",
    "\n",
    "sub = ratings_df[ratings_df['prompt']=='bear']\n",
    "plt.figure(figsize=(12,9))\n",
    "sns.barplot(data = sub, x='color_index', y = 'mean_rating',palette=uw71_tups,edgecolor='k')\n",
    "plt.legend([],[], frameon=False)\n",
    "plt.title('bear')\n"
   ]
  },
  {
   "cell_type": "code",
   "execution_count": 135,
   "metadata": {},
   "outputs": [
    {
     "data": {
      "text/plain": [
       "Text(0.5, 1.0, 'love')"
      ]
     },
     "execution_count": 135,
     "metadata": {},
     "output_type": "execute_result"
    },
    {
     "data": {
      "image/png": "[encoded data removed]",
      "text/plain": [
       "<Figure size 864x648 with 1 Axes>"
      ]
     },
     "metadata": {
      "needs_background": "light"
     },
     "output_type": "display_data"
    }
   ],
   "source": [
    "sub = ratings_df[ratings_df['prompt']=='love']\n",
    "plt.figure(figsize=(12,9))\n",
    "sns.barplot(data = sub, x='color_index', y = 'mean_rating',palette=uw71_tups,edgecolor='k')\n",
    "plt.legend([],[], frameon=False)\n",
    "plt.title('love')\n"
   ]
  },
  {
   "cell_type": "code",
   "execution_count": 136,
   "metadata": {},
   "outputs": [
    {
     "data": {
      "text/plain": [
       "Text(0.5, 1.0, 'greed')"
      ]
     },
     "execution_count": 136,
     "metadata": {},
     "output_type": "execute_result"
    },
    {
     "data": {
      "image/png": "[encoded data removed]",
      "text/plain": [
       "<Figure size 864x648 with 1 Axes>"
      ]
     },
     "metadata": {
      "needs_background": "light"
     },
     "output_type": "display_data"
    }
   ],
   "source": [
    "sub = ratings_df[ratings_df['prompt']=='greed']\n",
    "plt.figure(figsize=(12,9))\n",
    "sns.barplot(data = sub, x='color_index', y = 'mean_rating',palette=uw71_tups,edgecolor='k')\n",
    "plt.legend([],[], frameon=False)\n",
    "plt.title('greed')"
   ]
  },
  {
   "cell_type": "code",
   "execution_count": 197,
   "metadata": {},
   "outputs": [
    {
     "data": {
      "text/plain": [
       "Text(0.5, 1.0, 'airplane')"
      ]
     },
     "execution_count": 197,
     "metadata": {},
     "output_type": "execute_result"
    },
    {
     "data": {
      "image/png": "[encoded data removed]",
      "text/plain": [
       "<Figure size 864x648 with 1 Axes>"
      ]
     },
     "metadata": {
      "needs_background": "light"
     },
     "output_type": "display_data"
    }
   ],
   "source": [
    "import seaborn as sns\n",
    "\n",
    "sub = ratings_df[ratings_df['prompt']=='airplane']\n",
    "plt.figure(figsize=(12,9))\n",
    "sns.barplot(data = sub, x='color_index', y = 'mean_rating',palette=uw71_tups,edgecolor='k')\n",
    "plt.legend([],[], frameon=False)\n",
    "plt.title('airplane')"
   ]
  },
  {
   "cell_type": "code",
   "execution_count": 198,
   "metadata": {},
   "outputs": [
    {
     "data": {
      "text/plain": [
       "Text(0.5, 1.0, 'truck')"
      ]
     },
     "execution_count": 198,
     "metadata": {},
     "output_type": "execute_result"
    },
    {
     "data": {
      "image/png": "[encoded data removed]",
      "text/plain": [
       "<Figure size 864x648 with 1 Axes>"
      ]
     },
     "metadata": {
      "needs_background": "light"
     },
     "output_type": "display_data"
    }
   ],
   "source": [
    "import seaborn as sns\n",
    "\n",
    "sub = ratings_df[ratings_df['prompt']=='truck']\n",
    "plt.figure(figsize=(12,9))\n",
    "sns.barplot(data = sub, x='color_index', y = 'mean_rating',palette=uw71_tups,edgecolor='k')\n",
    "plt.legend([],[], frameon=False)\n",
    "plt.title('truck')"
   ]
  },
  {
   "cell_type": "code",
   "execution_count": 200,
   "metadata": {},
   "outputs": [
    {
     "data": {
      "text/plain": [
       "Text(0.5, 1.0, 'boat')"
      ]
     },
     "execution_count": 200,
     "metadata": {},
     "output_type": "execute_result"
    },
    {
     "data": {
      "image/png": "[encoded data removed]",
      "text/plain": [
       "<Figure size 864x648 with 1 Axes>"
      ]
     },
     "metadata": {
      "needs_background": "light"
     },
     "output_type": "display_data"
    }
   ],
   "source": [
    "import seaborn as sns\n",
    "\n",
    "sub = ratings_df[ratings_df['prompt']=='boat']\n",
    "plt.figure(figsize=(12,9))\n",
    "sns.barplot(data = sub, x='color_index', y = 'mean_rating',palette=uw71_tups,edgecolor='k')\n",
    "plt.legend([],[], frameon=False)\n",
    "plt.title('boat')"
   ]
  },
  {
   "cell_type": "code",
   "execution_count": 199,
   "metadata": {},
   "outputs": [
    {
     "data": {
      "text/plain": [
       "Text(0.5, 1.0, 'car')"
      ]
     },
     "execution_count": 199,
     "metadata": {},
     "output_type": "execute_result"
    },
    {
     "data": {
      "image/png": "[encoded data removed]",
      "text/plain": [
       "<Figure size 864x648 with 1 Axes>"
      ]
     },
     "metadata": {
      "needs_background": "light"
     },
     "output_type": "display_data"
    }
   ],
   "source": [
    "import seaborn as sns\n",
    "\n",
    "sub = ratings_df[ratings_df['prompt']=='car']\n",
    "plt.figure(figsize=(12,9))\n",
    "sns.barplot(data = sub, x='color_index', y = 'mean_rating',palette=uw71_tups,edgecolor='k')\n",
    "plt.legend([],[], frameon=False)\n",
    "plt.title('car')"
   ]
  },
  {
   "cell_type": "code",
   "execution_count": 142,
   "metadata": {},
   "outputs": [],
   "source": [
    "ratings_df['uw71to58'] = ratings_df.apply(lambda x: uw71to58_dict[x['color_index']],axis=1)"
   ]
  },
  {
   "cell_type": "code",
   "execution_count": 147,
   "metadata": {},
   "outputs": [],
   "source": [
    "ratings_df= ratings_df.sort_values(by = ['concept','prompt','uw71to58'],na_position='last')"
   ]
  },
  {
   "cell_type": "code",
   "execution_count": 171,
   "metadata": {},
   "outputs": [],
   "source": [
    "ratings_mat = np.zeros((20,71))"
   ]
  },
  {
   "cell_type": "code",
   "execution_count": 176,
   "metadata": {},
   "outputs": [],
   "source": [
    "cc = 0\n",
    "for i in ratings_df.prompt.unique():\n",
    "    \n",
    "    sub_df = ratings_df[ratings_df['prompt']==i].reset_index()\n",
    "    for j in range(sub_df.shape[0]):\n",
    "        ratings_mat[cc,j] = sub_df['mean_rating'][j]\n",
    "    cc+=1"
   ]
  },
  {
   "cell_type": "code",
   "execution_count": 186,
   "metadata": {},
   "outputs": [],
   "source": [
    "uw71_ordering = ratings_df[ratings_df['prompt']=='bear']['color_index'].values"
   ]
  },
  {
   "cell_type": "code",
   "execution_count": 179,
   "metadata": {},
   "outputs": [
    {
     "data": {
      "text/plain": [
       "<matplotlib.image.AxesImage at 0x29555d820>"
      ]
     },
     "execution_count": 179,
     "metadata": {},
     "output_type": "execute_result"
    },
    {
     "data": {
      "image/png": "[encoded data removed]",
      "text/plain": [
       "<Figure size 432x288 with 1 Axes>"
      ]
     },
     "metadata": {
      "needs_background": "light"
     },
     "output_type": "display_data"
    }
   ],
   "source": [
    "plt.imshow(ratings_mat)"
   ]
  },
  {
   "cell_type": "code",
   "execution_count": 169,
   "metadata": {},
   "outputs": [
    {
     "data": {
      "text/html": [
       "<div>\n",
       "<style scoped>\n",
       "    .dataframe tbody tr th:only-of-type {\n",
       "        vertical-align: middle;\n",
       "    }\n",
       "\n",
       "    .dataframe tbody tr th {\n",
       "        vertical-align: top;\n",
       "    }\n",
       "\n",
       "    .dataframe thead th {\n",
       "        text-align: right;\n",
       "    }\n",
       "</style>\n",
       "<table border=\"1\" class=\"dataframe\">\n",
       "  <thead>\n",
       "    <tr style=\"text-align: right;\">\n",
       "      <th></th>\n",
       "      <th>concept</th>\n",
       "      <th>prompt</th>\n",
       "      <th>color_index</th>\n",
       "      <th>mean_rating</th>\n",
       "      <th>se</th>\n",
       "      <th>uw71to58</th>\n",
       "    </tr>\n",
       "  </thead>\n",
       "  <tbody>\n",
       "  </tbody>\n",
       "</table>\n",
       "</div>"
      ],
      "text/plain": [
       "Empty DataFrame\n",
       "Columns: [concept, prompt, color_index, mean_rating, se, uw71to58]\n",
       "Index: []"
      ]
     },
     "execution_count": 169,
     "metadata": {},
     "output_type": "execute_result"
    }
   ],
   "source": [
    "ratings_df[ratings_df['concept']==i]"
   ]
  },
  {
   "cell_type": "code",
   "execution_count": 191,
   "metadata": {},
   "outputs": [],
   "source": [
    "ratings_mat = pd.DataFrame(ratings_mat, columns=uw71_ordering,index=ratings_df.prompt.unique())"
   ]
  },
  {
   "cell_type": "code",
   "execution_count": null,
   "metadata": {},
   "outputs": [],
   "source": []
  },
  {
   "cell_type": "code",
   "execution_count": 192,
   "metadata": {},
   "outputs": [],
   "source": [
    "ratings_mat.to_csv('../../data/generalization_data.csv')"
   ]
  },
  {
   "cell_type": "code",
   "execution_count": 195,
   "metadata": {},
   "outputs": [
    {
     "data": {
      "text/html": [
       "<div>\n",
       "<style scoped>\n",
       "    .dataframe tbody tr th:only-of-type {\n",
       "        vertical-align: middle;\n",
       "    }\n",
       "\n",
       "    .dataframe tbody tr th {\n",
       "        vertical-align: top;\n",
       "    }\n",
       "\n",
       "    .dataframe thead th {\n",
       "        text-align: right;\n",
       "    }\n",
       "</style>\n",
       "<table border=\"1\" class=\"dataframe\">\n",
       "  <thead>\n",
       "    <tr style=\"text-align: right;\">\n",
       "      <th></th>\n",
       "      <th>10</th>\n",
       "      <th>11</th>\n",
       "      <th>12</th>\n",
       "      <th>13</th>\n",
       "      <th>14</th>\n",
       "      <th>15</th>\n",
       "      <th>16</th>\n",
       "      <th>17</th>\n",
       "      <th>18</th>\n",
       "      <th>19</th>\n",
       "      <th>...</th>\n",
       "      <th>36</th>\n",
       "      <th>40</th>\n",
       "      <th>44</th>\n",
       "      <th>52</th>\n",
       "      <th>55</th>\n",
       "      <th>58</th>\n",
       "      <th>63</th>\n",
       "      <th>65</th>\n",
       "      <th>67</th>\n",
       "      <th>69</th>\n",
       "    </tr>\n",
       "  </thead>\n",
       "  <tbody>\n",
       "    <tr>\n",
       "      <th>bear</th>\n",
       "      <td>0.163389</td>\n",
       "      <td>0.316222</td>\n",
       "      <td>0.276111</td>\n",
       "      <td>0.234111</td>\n",
       "      <td>0.150167</td>\n",
       "      <td>0.164778</td>\n",
       "      <td>0.113389</td>\n",
       "      <td>0.168500</td>\n",
       "      <td>0.114556</td>\n",
       "      <td>0.090500</td>\n",
       "      <td>...</td>\n",
       "      <td>0.113389</td>\n",
       "      <td>0.229889</td>\n",
       "      <td>0.523667</td>\n",
       "      <td>0.197111</td>\n",
       "      <td>0.253556</td>\n",
       "      <td>0.407278</td>\n",
       "      <td>0.165167</td>\n",
       "      <td>0.197944</td>\n",
       "      <td>0.183056</td>\n",
       "      <td>0.305778</td>\n",
       "    </tr>\n",
       "    <tr>\n",
       "      <th>bird</th>\n",
       "      <td>0.565056</td>\n",
       "      <td>0.549778</td>\n",
       "      <td>0.567333</td>\n",
       "      <td>0.477611</td>\n",
       "      <td>0.318889</td>\n",
       "      <td>0.327778</td>\n",
       "      <td>0.325722</td>\n",
       "      <td>0.281167</td>\n",
       "      <td>0.287056</td>\n",
       "      <td>0.305444</td>\n",
       "      <td>...</td>\n",
       "      <td>0.276333</td>\n",
       "      <td>0.378444</td>\n",
       "      <td>0.570500</td>\n",
       "      <td>0.381722</td>\n",
       "      <td>0.372444</td>\n",
       "      <td>0.612833</td>\n",
       "      <td>0.361722</td>\n",
       "      <td>0.395500</td>\n",
       "      <td>0.405500</td>\n",
       "      <td>0.627000</td>\n",
       "    </tr>\n",
       "    <tr>\n",
       "      <th>fish</th>\n",
       "      <td>0.619889</td>\n",
       "      <td>0.657278</td>\n",
       "      <td>0.676167</td>\n",
       "      <td>0.528056</td>\n",
       "      <td>0.240389</td>\n",
       "      <td>0.310889</td>\n",
       "      <td>0.309500</td>\n",
       "      <td>0.260111</td>\n",
       "      <td>0.279444</td>\n",
       "      <td>0.247611</td>\n",
       "      <td>...</td>\n",
       "      <td>0.402278</td>\n",
       "      <td>0.403056</td>\n",
       "      <td>0.448333</td>\n",
       "      <td>0.389333</td>\n",
       "      <td>0.414389</td>\n",
       "      <td>0.419111</td>\n",
       "      <td>0.303111</td>\n",
       "      <td>0.361778</td>\n",
       "      <td>0.360167</td>\n",
       "      <td>0.499333</td>\n",
       "    </tr>\n",
       "    <tr>\n",
       "      <th>frog</th>\n",
       "      <td>0.261889</td>\n",
       "      <td>0.362222</td>\n",
       "      <td>0.326444</td>\n",
       "      <td>0.216611</td>\n",
       "      <td>0.160278</td>\n",
       "      <td>0.189611</td>\n",
       "      <td>0.183889</td>\n",
       "      <td>0.174889</td>\n",
       "      <td>0.155111</td>\n",
       "      <td>0.160444</td>\n",
       "      <td>...</td>\n",
       "      <td>0.474444</td>\n",
       "      <td>0.492722</td>\n",
       "      <td>0.312667</td>\n",
       "      <td>0.691778</td>\n",
       "      <td>0.580167</td>\n",
       "      <td>0.324222</td>\n",
       "      <td>0.761667</td>\n",
       "      <td>0.700389</td>\n",
       "      <td>0.556611</td>\n",
       "      <td>0.274333</td>\n",
       "    </tr>\n",
       "    <tr>\n",
       "      <th>lion</th>\n",
       "      <td>0.128667</td>\n",
       "      <td>0.203111</td>\n",
       "      <td>0.203889</td>\n",
       "      <td>0.162222</td>\n",
       "      <td>0.153611</td>\n",
       "      <td>0.123222</td>\n",
       "      <td>0.136167</td>\n",
       "      <td>0.151778</td>\n",
       "      <td>0.121000</td>\n",
       "      <td>0.119944</td>\n",
       "      <td>...</td>\n",
       "      <td>0.108167</td>\n",
       "      <td>0.197944</td>\n",
       "      <td>0.613500</td>\n",
       "      <td>0.174444</td>\n",
       "      <td>0.230556</td>\n",
       "      <td>0.735167</td>\n",
       "      <td>0.185222</td>\n",
       "      <td>0.212944</td>\n",
       "      <td>0.313056</td>\n",
       "      <td>0.792167</td>\n",
       "    </tr>\n",
       "    <tr>\n",
       "      <th>airplane</th>\n",
       "      <td>0.497157</td>\n",
       "      <td>0.535294</td>\n",
       "      <td>0.509755</td>\n",
       "      <td>0.514755</td>\n",
       "      <td>0.124314</td>\n",
       "      <td>0.164902</td>\n",
       "      <td>0.236716</td>\n",
       "      <td>0.091225</td>\n",
       "      <td>0.092059</td>\n",
       "      <td>0.102451</td>\n",
       "      <td>...</td>\n",
       "      <td>0.197843</td>\n",
       "      <td>0.284461</td>\n",
       "      <td>0.475343</td>\n",
       "      <td>0.201569</td>\n",
       "      <td>0.229216</td>\n",
       "      <td>0.271667</td>\n",
       "      <td>0.199167</td>\n",
       "      <td>0.230882</td>\n",
       "      <td>0.159559</td>\n",
       "      <td>0.276569</td>\n",
       "    </tr>\n",
       "    <tr>\n",
       "      <th>boat</th>\n",
       "      <td>0.645147</td>\n",
       "      <td>0.725000</td>\n",
       "      <td>0.665441</td>\n",
       "      <td>0.625784</td>\n",
       "      <td>0.179118</td>\n",
       "      <td>0.196863</td>\n",
       "      <td>0.187500</td>\n",
       "      <td>0.145049</td>\n",
       "      <td>0.134951</td>\n",
       "      <td>0.142304</td>\n",
       "      <td>...</td>\n",
       "      <td>0.273676</td>\n",
       "      <td>0.233333</td>\n",
       "      <td>0.565000</td>\n",
       "      <td>0.208088</td>\n",
       "      <td>0.191569</td>\n",
       "      <td>0.319559</td>\n",
       "      <td>0.191373</td>\n",
       "      <td>0.196324</td>\n",
       "      <td>0.188922</td>\n",
       "      <td>0.296520</td>\n",
       "    </tr>\n",
       "    <tr>\n",
       "      <th>car</th>\n",
       "      <td>0.294902</td>\n",
       "      <td>0.552059</td>\n",
       "      <td>0.425490</td>\n",
       "      <td>0.374461</td>\n",
       "      <td>0.180735</td>\n",
       "      <td>0.178235</td>\n",
       "      <td>0.164069</td>\n",
       "      <td>0.132010</td>\n",
       "      <td>0.136618</td>\n",
       "      <td>0.161765</td>\n",
       "      <td>...</td>\n",
       "      <td>0.194755</td>\n",
       "      <td>0.202843</td>\n",
       "      <td>0.409755</td>\n",
       "      <td>0.172108</td>\n",
       "      <td>0.187304</td>\n",
       "      <td>0.297990</td>\n",
       "      <td>0.213676</td>\n",
       "      <td>0.181471</td>\n",
       "      <td>0.259657</td>\n",
       "      <td>0.331814</td>\n",
       "    </tr>\n",
       "    <tr>\n",
       "      <th>plane</th>\n",
       "      <td>0.549314</td>\n",
       "      <td>0.555147</td>\n",
       "      <td>0.578971</td>\n",
       "      <td>0.534853</td>\n",
       "      <td>0.178235</td>\n",
       "      <td>0.196912</td>\n",
       "      <td>0.201373</td>\n",
       "      <td>0.129559</td>\n",
       "      <td>0.122010</td>\n",
       "      <td>0.105098</td>\n",
       "      <td>...</td>\n",
       "      <td>0.225098</td>\n",
       "      <td>0.279412</td>\n",
       "      <td>0.505931</td>\n",
       "      <td>0.230735</td>\n",
       "      <td>0.245931</td>\n",
       "      <td>0.292696</td>\n",
       "      <td>0.170294</td>\n",
       "      <td>0.186618</td>\n",
       "      <td>0.228725</td>\n",
       "      <td>0.286863</td>\n",
       "    </tr>\n",
       "    <tr>\n",
       "      <th>truck</th>\n",
       "      <td>0.221127</td>\n",
       "      <td>0.578676</td>\n",
       "      <td>0.433676</td>\n",
       "      <td>0.286569</td>\n",
       "      <td>0.188186</td>\n",
       "      <td>0.161225</td>\n",
       "      <td>0.133382</td>\n",
       "      <td>0.120000</td>\n",
       "      <td>0.098480</td>\n",
       "      <td>0.096127</td>\n",
       "      <td>...</td>\n",
       "      <td>0.184657</td>\n",
       "      <td>0.173824</td>\n",
       "      <td>0.436765</td>\n",
       "      <td>0.157794</td>\n",
       "      <td>0.197843</td>\n",
       "      <td>0.309853</td>\n",
       "      <td>0.175294</td>\n",
       "      <td>0.173627</td>\n",
       "      <td>0.156029</td>\n",
       "      <td>0.222108</td>\n",
       "    </tr>\n",
       "    <tr>\n",
       "      <th>evil</th>\n",
       "      <td>0.205100</td>\n",
       "      <td>0.483200</td>\n",
       "      <td>0.392500</td>\n",
       "      <td>0.221150</td>\n",
       "      <td>0.571200</td>\n",
       "      <td>0.358250</td>\n",
       "      <td>0.206700</td>\n",
       "      <td>0.470350</td>\n",
       "      <td>0.289550</td>\n",
       "      <td>0.283250</td>\n",
       "      <td>...</td>\n",
       "      <td>0.223850</td>\n",
       "      <td>0.223200</td>\n",
       "      <td>0.205900</td>\n",
       "      <td>0.312300</td>\n",
       "      <td>0.297850</td>\n",
       "      <td>0.241100</td>\n",
       "      <td>0.313750</td>\n",
       "      <td>0.352850</td>\n",
       "      <td>0.362900</td>\n",
       "      <td>0.278800</td>\n",
       "    </tr>\n",
       "    <tr>\n",
       "      <th>greed</th>\n",
       "      <td>0.236050</td>\n",
       "      <td>0.429250</td>\n",
       "      <td>0.315750</td>\n",
       "      <td>0.242850</td>\n",
       "      <td>0.464550</td>\n",
       "      <td>0.265750</td>\n",
       "      <td>0.243650</td>\n",
       "      <td>0.436100</td>\n",
       "      <td>0.267600</td>\n",
       "      <td>0.296400</td>\n",
       "      <td>...</td>\n",
       "      <td>0.313250</td>\n",
       "      <td>0.373400</td>\n",
       "      <td>0.288200</td>\n",
       "      <td>0.447800</td>\n",
       "      <td>0.425200</td>\n",
       "      <td>0.270400</td>\n",
       "      <td>0.518850</td>\n",
       "      <td>0.518000</td>\n",
       "      <td>0.440500</td>\n",
       "      <td>0.347700</td>\n",
       "    </tr>\n",
       "    <tr>\n",
       "      <th>justice</th>\n",
       "      <td>0.452900</td>\n",
       "      <td>0.531900</td>\n",
       "      <td>0.567800</td>\n",
       "      <td>0.512800</td>\n",
       "      <td>0.426100</td>\n",
       "      <td>0.377300</td>\n",
       "      <td>0.404600</td>\n",
       "      <td>0.363100</td>\n",
       "      <td>0.361850</td>\n",
       "      <td>0.300400</td>\n",
       "      <td>...</td>\n",
       "      <td>0.328850</td>\n",
       "      <td>0.389500</td>\n",
       "      <td>0.561050</td>\n",
       "      <td>0.282400</td>\n",
       "      <td>0.331350</td>\n",
       "      <td>0.425050</td>\n",
       "      <td>0.251850</td>\n",
       "      <td>0.267300</td>\n",
       "      <td>0.260150</td>\n",
       "      <td>0.422850</td>\n",
       "    </tr>\n",
       "    <tr>\n",
       "      <th>love</th>\n",
       "      <td>0.365200</td>\n",
       "      <td>0.243550</td>\n",
       "      <td>0.330100</td>\n",
       "      <td>0.437900</td>\n",
       "      <td>0.447100</td>\n",
       "      <td>0.608100</td>\n",
       "      <td>0.737300</td>\n",
       "      <td>0.643500</td>\n",
       "      <td>0.797750</td>\n",
       "      <td>0.779250</td>\n",
       "      <td>...</td>\n",
       "      <td>0.323700</td>\n",
       "      <td>0.342600</td>\n",
       "      <td>0.384050</td>\n",
       "      <td>0.275850</td>\n",
       "      <td>0.289800</td>\n",
       "      <td>0.409150</td>\n",
       "      <td>0.234650</td>\n",
       "      <td>0.244850</td>\n",
       "      <td>0.281900</td>\n",
       "      <td>0.418800</td>\n",
       "    </tr>\n",
       "    <tr>\n",
       "      <th>peace</th>\n",
       "      <td>0.616300</td>\n",
       "      <td>0.456600</td>\n",
       "      <td>0.621500</td>\n",
       "      <td>0.711600</td>\n",
       "      <td>0.398400</td>\n",
       "      <td>0.619700</td>\n",
       "      <td>0.745000</td>\n",
       "      <td>0.420150</td>\n",
       "      <td>0.551500</td>\n",
       "      <td>0.448600</td>\n",
       "      <td>...</td>\n",
       "      <td>0.548450</td>\n",
       "      <td>0.657100</td>\n",
       "      <td>0.641750</td>\n",
       "      <td>0.566100</td>\n",
       "      <td>0.586350</td>\n",
       "      <td>0.614100</td>\n",
       "      <td>0.431750</td>\n",
       "      <td>0.448850</td>\n",
       "      <td>0.479900</td>\n",
       "      <td>0.525400</td>\n",
       "    </tr>\n",
       "    <tr>\n",
       "      <th>blizzard</th>\n",
       "      <td>0.728113</td>\n",
       "      <td>0.676179</td>\n",
       "      <td>0.754906</td>\n",
       "      <td>0.806981</td>\n",
       "      <td>0.268396</td>\n",
       "      <td>0.309811</td>\n",
       "      <td>0.321274</td>\n",
       "      <td>0.200849</td>\n",
       "      <td>0.197264</td>\n",
       "      <td>0.175425</td>\n",
       "      <td>...</td>\n",
       "      <td>0.395991</td>\n",
       "      <td>0.388632</td>\n",
       "      <td>0.500613</td>\n",
       "      <td>0.154811</td>\n",
       "      <td>0.221651</td>\n",
       "      <td>0.254670</td>\n",
       "      <td>0.132075</td>\n",
       "      <td>0.133679</td>\n",
       "      <td>0.147877</td>\n",
       "      <td>0.151038</td>\n",
       "    </tr>\n",
       "    <tr>\n",
       "      <th>drought</th>\n",
       "      <td>0.152736</td>\n",
       "      <td>0.208632</td>\n",
       "      <td>0.264009</td>\n",
       "      <td>0.298538</td>\n",
       "      <td>0.185330</td>\n",
       "      <td>0.226887</td>\n",
       "      <td>0.162358</td>\n",
       "      <td>0.181179</td>\n",
       "      <td>0.151840</td>\n",
       "      <td>0.164858</td>\n",
       "      <td>...</td>\n",
       "      <td>0.152123</td>\n",
       "      <td>0.310236</td>\n",
       "      <td>0.702358</td>\n",
       "      <td>0.207075</td>\n",
       "      <td>0.348019</td>\n",
       "      <td>0.743208</td>\n",
       "      <td>0.163443</td>\n",
       "      <td>0.202689</td>\n",
       "      <td>0.269151</td>\n",
       "      <td>0.632453</td>\n",
       "    </tr>\n",
       "    <tr>\n",
       "      <th>hurricane</th>\n",
       "      <td>0.565094</td>\n",
       "      <td>0.759340</td>\n",
       "      <td>0.739906</td>\n",
       "      <td>0.549670</td>\n",
       "      <td>0.329670</td>\n",
       "      <td>0.256934</td>\n",
       "      <td>0.213538</td>\n",
       "      <td>0.273208</td>\n",
       "      <td>0.178491</td>\n",
       "      <td>0.185896</td>\n",
       "      <td>...</td>\n",
       "      <td>0.333396</td>\n",
       "      <td>0.280896</td>\n",
       "      <td>0.300755</td>\n",
       "      <td>0.228962</td>\n",
       "      <td>0.246651</td>\n",
       "      <td>0.249528</td>\n",
       "      <td>0.241557</td>\n",
       "      <td>0.278066</td>\n",
       "      <td>0.269623</td>\n",
       "      <td>0.269906</td>\n",
       "    </tr>\n",
       "    <tr>\n",
       "      <th>lightning</th>\n",
       "      <td>0.458396</td>\n",
       "      <td>0.427217</td>\n",
       "      <td>0.390330</td>\n",
       "      <td>0.432877</td>\n",
       "      <td>0.216651</td>\n",
       "      <td>0.226321</td>\n",
       "      <td>0.261509</td>\n",
       "      <td>0.197123</td>\n",
       "      <td>0.187594</td>\n",
       "      <td>0.236698</td>\n",
       "      <td>...</td>\n",
       "      <td>0.336274</td>\n",
       "      <td>0.293066</td>\n",
       "      <td>0.526085</td>\n",
       "      <td>0.205472</td>\n",
       "      <td>0.377594</td>\n",
       "      <td>0.588632</td>\n",
       "      <td>0.219858</td>\n",
       "      <td>0.253302</td>\n",
       "      <td>0.477453</td>\n",
       "      <td>0.649528</td>\n",
       "    </tr>\n",
       "    <tr>\n",
       "      <th>sandstorm</th>\n",
       "      <td>0.135943</td>\n",
       "      <td>0.182642</td>\n",
       "      <td>0.221085</td>\n",
       "      <td>0.214009</td>\n",
       "      <td>0.190943</td>\n",
       "      <td>0.208868</td>\n",
       "      <td>0.220142</td>\n",
       "      <td>0.192358</td>\n",
       "      <td>0.183019</td>\n",
       "      <td>0.179575</td>\n",
       "      <td>...</td>\n",
       "      <td>0.152594</td>\n",
       "      <td>0.271509</td>\n",
       "      <td>0.795142</td>\n",
       "      <td>0.150660</td>\n",
       "      <td>0.318491</td>\n",
       "      <td>0.817264</td>\n",
       "      <td>0.122642</td>\n",
       "      <td>0.157925</td>\n",
       "      <td>0.337170</td>\n",
       "      <td>0.735566</td>\n",
       "    </tr>\n",
       "  </tbody>\n",
       "</table>\n",
       "<p>20 rows × 71 columns</p>\n",
       "</div>"
      ],
      "text/plain": [
       "                 10        11        12        13        14        15  \\\n",
       "bear       0.163389  0.316222  0.276111  0.234111  0.150167  0.164778   \n",
       "bird       0.565056  0.549778  0.567333  0.477611  0.318889  0.327778   \n",
       "fish       0.619889  0.657278  0.676167  0.528056  0.240389  0.310889   \n",
       "frog       0.261889  0.362222  0.326444  0.216611  0.160278  0.189611   \n",
       "lion       0.128667  0.203111  0.203889  0.162222  0.153611  0.123222   \n",
       "airplane   0.497157  0.535294  0.509755  0.514755  0.124314  0.164902   \n",
       "boat       0.645147  0.725000  0.665441  0.625784  0.179118  0.196863   \n",
       "car        0.294902  0.552059  0.425490  0.374461  0.180735  0.178235   \n",
       "plane      0.549314  0.555147  0.578971  0.534853  0.178235  0.196912   \n",
       "truck      0.221127  0.578676  0.433676  0.286569  0.188186  0.161225   \n",
       "evil       0.205100  0.483200  0.392500  0.221150  0.571200  0.358250   \n",
       "greed      0.236050  0.429250  0.315750  0.242850  0.464550  0.265750   \n",
       "justice    0.452900  0.531900  0.567800  0.512800  0.426100  0.377300   \n",
       "love       0.365200  0.243550  0.330100  0.437900  0.447100  0.608100   \n",
       "peace      0.616300  0.456600  0.621500  0.711600  0.398400  0.619700   \n",
       "blizzard   0.728113  0.676179  0.754906  0.806981  0.268396  0.309811   \n",
       "drought    0.152736  0.208632  0.264009  0.298538  0.185330  0.226887   \n",
       "hurricane  0.565094  0.759340  0.739906  0.549670  0.329670  0.256934   \n",
       "lightning  0.458396  0.427217  0.390330  0.432877  0.216651  0.226321   \n",
       "sandstorm  0.135943  0.182642  0.221085  0.214009  0.190943  0.208868   \n",
       "\n",
       "                 16        17        18        19  ...        36        40  \\\n",
       "bear       0.113389  0.168500  0.114556  0.090500  ...  0.113389  0.229889   \n",
       "bird       0.325722  0.281167  0.287056  0.305444  ...  0.276333  0.378444   \n",
       "fish       0.309500  0.260111  0.279444  0.247611  ...  0.402278  0.403056   \n",
       "frog       0.183889  0.174889  0.155111  0.160444  ...  0.474444  0.492722   \n",
       "lion       0.136167  0.151778  0.121000  0.119944  ...  0.108167  0.197944   \n",
       "airplane   0.236716  0.091225  0.092059  0.102451  ...  0.197843  0.284461   \n",
       "boat       0.187500  0.145049  0.134951  0.142304  ...  0.273676  0.233333   \n",
       "car        0.164069  0.132010  0.136618  0.161765  ...  0.194755  0.202843   \n",
       "plane      0.201373  0.129559  0.122010  0.105098  ...  0.225098  0.279412   \n",
       "truck      0.133382  0.120000  0.098480  0.096127  ...  0.184657  0.173824   \n",
       "evil       0.206700  0.470350  0.289550  0.283250  ...  0.223850  0.223200   \n",
       "greed      0.243650  0.436100  0.267600  0.296400  ...  0.313250  0.373400   \n",
       "justice    0.404600  0.363100  0.361850  0.300400  ...  0.328850  0.389500   \n",
       "love       0.737300  0.643500  0.797750  0.779250  ...  0.323700  0.342600   \n",
       "peace      0.745000  0.420150  0.551500  0.448600  ...  0.548450  0.657100   \n",
       "blizzard   0.321274  0.200849  0.197264  0.175425  ...  0.395991  0.388632   \n",
       "drought    0.162358  0.181179  0.151840  0.164858  ...  0.152123  0.310236   \n",
       "hurricane  0.213538  0.273208  0.178491  0.185896  ...  0.333396  0.280896   \n",
       "lightning  0.261509  0.197123  0.187594  0.236698  ...  0.336274  0.293066   \n",
       "sandstorm  0.220142  0.192358  0.183019  0.179575  ...  0.152594  0.271509   \n",
       "\n",
       "                 44        52        55        58        63        65  \\\n",
       "bear       0.523667  0.197111  0.253556  0.407278  0.165167  0.197944   \n",
       "bird       0.570500  0.381722  0.372444  0.612833  0.361722  0.395500   \n",
       "fish       0.448333  0.389333  0.414389  0.419111  0.303111  0.361778   \n",
       "frog       0.312667  0.691778  0.580167  0.324222  0.761667  0.700389   \n",
       "lion       0.613500  0.174444  0.230556  0.735167  0.185222  0.212944   \n",
       "airplane   0.475343  0.201569  0.229216  0.271667  0.199167  0.230882   \n",
       "boat       0.565000  0.208088  0.191569  0.319559  0.191373  0.196324   \n",
       "car        0.409755  0.172108  0.187304  0.297990  0.213676  0.181471   \n",
       "plane      0.505931  0.230735  0.245931  0.292696  0.170294  0.186618   \n",
       "truck      0.436765  0.157794  0.197843  0.309853  0.175294  0.173627   \n",
       "evil       0.205900  0.312300  0.297850  0.241100  0.313750  0.352850   \n",
       "greed      0.288200  0.447800  0.425200  0.270400  0.518850  0.518000   \n",
       "justice    0.561050  0.282400  0.331350  0.425050  0.251850  0.267300   \n",
       "love       0.384050  0.275850  0.289800  0.409150  0.234650  0.244850   \n",
       "peace      0.641750  0.566100  0.586350  0.614100  0.431750  0.448850   \n",
       "blizzard   0.500613  0.154811  0.221651  0.254670  0.132075  0.133679   \n",
       "drought    0.702358  0.207075  0.348019  0.743208  0.163443  0.202689   \n",
       "hurricane  0.300755  0.228962  0.246651  0.249528  0.241557  0.278066   \n",
       "lightning  0.526085  0.205472  0.377594  0.588632  0.219858  0.253302   \n",
       "sandstorm  0.795142  0.150660  0.318491  0.817264  0.122642  0.157925   \n",
       "\n",
       "                 67        69  \n",
       "bear       0.183056  0.305778  \n",
       "bird       0.405500  0.627000  \n",
       "fish       0.360167  0.499333  \n",
       "frog       0.556611  0.274333  \n",
       "lion       0.313056  0.792167  \n",
       "airplane   0.159559  0.276569  \n",
       "boat       0.188922  0.296520  \n",
       "car        0.259657  0.331814  \n",
       "plane      0.228725  0.286863  \n",
       "truck      0.156029  0.222108  \n",
       "evil       0.362900  0.278800  \n",
       "greed      0.440500  0.347700  \n",
       "justice    0.260150  0.422850  \n",
       "love       0.281900  0.418800  \n",
       "peace      0.479900  0.525400  \n",
       "blizzard   0.147877  0.151038  \n",
       "drought    0.269151  0.632453  \n",
       "hurricane  0.269623  0.269906  \n",
       "lightning  0.477453  0.649528  \n",
       "sandstorm  0.337170  0.735566  \n",
       "\n",
       "[20 rows x 71 columns]"
      ]
     },
     "execution_count": 195,
     "metadata": {},
     "output_type": "execute_result"
    }
   ],
   "source": [
    "ratings_mat"
   ]
  },
  {
   "cell_type": "code",
   "execution_count": 196,
   "metadata": {},
   "outputs": [
    {
     "data": {
      "text/plain": [
       "array(['bear', 'bird', 'fish', 'frog', 'lion', 'airplane', 'boat', 'car',\n",
       "       'plane', 'truck', 'evil', 'greed', 'justice', 'love', 'peace',\n",
       "       'blizzard', 'drought', 'hurricane', 'lightning', 'sandstorm'],\n",
       "      dtype=object)"
      ]
     },
     "execution_count": 196,
     "metadata": {},
     "output_type": "execute_result"
    }
   ],
   "source": [
    "ratings_df.prompt.unique()"
   ]
  },
  {
   "cell_type": "code",
   "execution_count": null,
   "metadata": {},
   "outputs": [],
   "source": []
  }
 ],
 "metadata": {
  "interpreter": {
   "hash": "aee8b7b246df8f9039afb4144a1f6fd8d2ca17a180786b69acc140d282b71a49"
  },
  "kernelspec": {
   "display_name": "Python 3.9.7 64-bit",
   "name": "python3"
  },
  "language_info": {
   "codemirror_mode": {
    "name": "ipython",
    "version": 3
   },
   "file_extension": ".py",
   "mimetype": "text/x-python",
   "name": "python",
   "nbconvert_exporter": "python",
   "pygments_lexer": "ipython3",
   "version": "3.8.10"
  }
 },
 "nbformat": 4,
 "nbformat_minor": 2
}
