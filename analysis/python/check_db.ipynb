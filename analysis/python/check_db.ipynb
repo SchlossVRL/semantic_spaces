{
 "cells": [
  {
   "cell_type": "code",
   "execution_count": 3,
   "source": [
    "## We are using the 'colorability' db credentials for all association ratings experiments. \n",
    "## Don't get confused. Yes, that means you Kushin.\n",
    "\n",
    "##make sure you're connected to UW VPN"
   ],
   "outputs": [],
   "metadata": {}
  },
  {
   "cell_type": "code",
   "execution_count": 4,
   "source": [
    "import os\n",
    "import mysql.connector\n",
    "import pandas as pd\n",
    "import numpy as np\n",
    "import matplotlib.pyplot as plt\n",
    "from matplotlib.pyplot import figure\n",
    "from scipy import stats\n",
    "from collections import Counter\n"
   ],
   "outputs": [],
   "metadata": {}
  },
  {
   "cell_type": "code",
   "execution_count": 5,
   "source": [
    "# db = mysql.connector.connect(\n",
    "#    host='127.0.0.1',\n",
    "#     port= 3306,\n",
    "#    user='root',\n",
    "#    passwd='kushinm11',\n",
    "#     db = 'db1',\n",
    "#     auth_plugin='mysql_native_password'\n",
    "# )\n",
    "# table_name = ''"
   ],
   "outputs": [],
   "metadata": {}
  },
  {
   "cell_type": "markdown",
   "source": [
    "## Connect to DB"
   ],
   "metadata": {}
  },
  {
   "cell_type": "code",
   "execution_count": 6,
   "source": [
    "db = mysql.connector.connect(\n",
    "   host=\"schlosslab-exp.wid.wisc.edu\",\n",
    "    port= 3306,\n",
    "   user=\"colorability_op\",\n",
    "   passwd=\"auy2fovei7Bee6uC\",\n",
    "    db = 'colorability'\n",
    ")\n"
   ],
   "outputs": [],
   "metadata": {}
  },
  {
   "cell_type": "code",
   "execution_count": 7,
   "source": [
    "##get list of table names\n",
    "\n",
    "cursor = db.cursor()\n",
    "\n",
    "cursor.execute(\"SHOW TABLES\")    # execute 'SHOW TABLES' (but data is not returned)\n",
    "for (table_name,) in cursor:\n",
    "    print(table_name)"
   ],
   "outputs": [
    {
     "output_type": "stream",
     "name": "stdout",
     "text": [
      "condition_log\n",
      "data_log\n",
      "register_log\n"
     ]
    }
   ],
   "metadata": {}
  },
  {
   "cell_type": "code",
   "execution_count": 8,
   "source": [
    "## this is for the dummy repo i made for Tim's lab\n",
    "\n",
    "# db = mysql.connector.connect(\n",
    "#    host=\"kclab-exp.wid.wisc.edu\",\n",
    "#     port= 3306,\n",
    "#    user=\"color_concept_rate_op\",\n",
    "#    passwd=\"eeve8yai8pohZoh9\",\n",
    "#     db = 'color_concept_rate'\n",
    "# )\n",
    "# table_name = 'register_log'"
   ],
   "outputs": [],
   "metadata": {}
  },
  {
   "cell_type": "code",
   "execution_count": 9,
   "source": [
    "table_name = 'data_log'\n",
    "df = pd.read_sql_query(\"SELECT * FROM {}\".format(table_name),\n",
    "    db) ### convert table into dataframe\n",
    "\n"
   ],
   "outputs": [],
   "metadata": {}
  },
  {
   "cell_type": "code",
   "execution_count": 10,
   "source": [
    "## How many in each category?\n",
    "df[df.trial_type=='image-slider-responseMAS'].groupby('concept')['subject_id'].apply(lambda x: len(list(np.unique(x))))\n"
   ],
   "outputs": [
    {
     "output_type": "execute_result",
     "data": {
      "text/plain": [
       "concept\n",
       "animals        48\n",
       "automobiles    52\n",
       "values         52\n",
       "weather        53\n",
       "Name: subject_id, dtype: int64"
      ]
     },
     "metadata": {},
     "execution_count": 10
    }
   ],
   "metadata": {}
  },
  {
   "cell_type": "code",
   "execution_count": 56,
   "source": [
    "print('How many subjects so far?')\n",
    "print(df.workerID.nunique())"
   ],
   "outputs": [
    {
     "output_type": "stream",
     "name": "stdout",
     "text": [
      "How many subjects so far?\n",
      "221\n"
     ]
    },
    {
     "output_type": "execute_result",
     "data": {
      "text/plain": [
       "205"
      ]
     },
     "metadata": {},
     "execution_count": 56
    }
   ],
   "metadata": {}
  },
  {
   "cell_type": "code",
   "execution_count": 11,
   "source": [
    "df.prompt.unique()"
   ],
   "outputs": [
    {
     "output_type": "execute_result",
     "data": {
      "text/plain": [
       "array([None, 'love', 'peace', 'justice', 'evil', 'greed', 'car',\n",
       "       'airplane', 'boat', 'plane', 'truck', 'hurricane', 'drought',\n",
       "       'blizzard', 'sandstorm', 'lightning', 'bear', 'lion', 'bird',\n",
       "       'fish', 'frog'], dtype=object)"
      ]
     },
     "metadata": {},
     "execution_count": 11
    }
   ],
   "metadata": {}
  },
  {
   "cell_type": "code",
   "execution_count": 32,
   "source": [
    "d_cb = df[df.trial_type=='survey-multi-choice'] ## dataframe with colorblind info\n",
    "cb_exclude = []\n",
    "for i, row in d_cb.iterrows():\n",
    "    if row['responses'].decode('UTF-8').split('\"')[3] == 'Yes':\n",
    "        cb_exclude.append(row['subject_id'])\n",
    "\n",
    "    "
   ],
   "outputs": [],
   "metadata": {}
  },
  {
   "cell_type": "code",
   "execution_count": 33,
   "source": [
    "### folks to exclude\n",
    "cb_exclude"
   ],
   "outputs": [
    {
     "output_type": "execute_result",
     "data": {
      "text/plain": [
       "['ymypo4bmnhbz4911aecn',\n",
       " 'u1n0lme13vcrg58fgdaz',\n",
       " '3ug8q1arswdwou0ohz25',\n",
       " 'yhs288z0nj94g7u9yr1r',\n",
       " 'fgrv67037p73qz14eb8v',\n",
       " 'qdtj2op8ebe1xvj7xyqx']"
      ]
     },
     "metadata": {},
     "execution_count": 33
    }
   ],
   "metadata": {}
  },
  {
   "cell_type": "code",
   "execution_count": 47,
   "source": [
    "gender_responses=[]\n",
    "age_responses = []\n",
    "\n",
    "for i, row in df[df.trial_type=='survey-text'].iterrows():\n",
    "    gender_responses.append(row['responses'].decode('UTF-8').split('\"')[3])\n",
    "    age_responses.append(row['responses'].decode('UTF-8').split('\"')[7])\n",
    "\n",
    "\n",
    "Counter(gender_responses)\n"
   ],
   "outputs": [
    {
     "output_type": "stream",
     "name": "stdout",
     "text": [
      "['{', 'Gender', ':', 'female', ',', 'Age', ':', '18', ',', 'Languages', ':', 'english, spanish, korean', '}']\n"
     ]
    }
   ],
   "metadata": {}
  },
  {
   "cell_type": "code",
   "execution_count": 48,
   "source": [
    "Counter(age_responses)"
   ],
   "outputs": [
    {
     "output_type": "execute_result",
     "data": {
      "text/plain": [
       "Counter({'18': 123,\n",
       "         '19': 51,\n",
       "         '24': 1,\n",
       "         '21': 8,\n",
       "         '20': 15,\n",
       "         '18 ': 1,\n",
       "         '25': 2,\n",
       "         '17': 2,\n",
       "         '23': 1,\n",
       "         '8': 1})"
      ]
     },
     "metadata": {},
     "execution_count": 48
    }
   ],
   "metadata": {}
  },
  {
   "cell_type": "code",
   "execution_count": 57,
   "source": [
    "df_final = df[~(df.subject_id.isin(cb_exclude))&(df.trial_type=='image-slider-responseMAS')]"
   ],
   "outputs": [],
   "metadata": {}
  },
  {
   "cell_type": "code",
   "execution_count": 58,
   "source": [
    "df_final.subject_id.nunique()"
   ],
   "outputs": [
    {
     "output_type": "execute_result",
     "data": {
      "text/plain": [
       "199"
      ]
     },
     "metadata": {},
     "execution_count": 58
    }
   ],
   "metadata": {}
  },
  {
   "cell_type": "code",
   "execution_count": 61,
   "source": [
    "df_final.response = df_final.response + 200"
   ],
   "outputs": [
    {
     "output_type": "stream",
     "name": "stderr",
     "text": [
      "/usr/local/lib/python3.9/site-packages/pandas/core/generic.py:5491: SettingWithCopyWarning: \n",
      "A value is trying to be set on a copy of a slice from a DataFrame.\n",
      "Try using .loc[row_indexer,col_indexer] = value instead\n",
      "\n",
      "See the caveats in the documentation: https://pandas.pydata.org/pandas-docs/stable/user_guide/indexing.html#returning-a-view-versus-a-copy\n",
      "  self[name] = value\n"
     ]
    }
   ],
   "metadata": {}
  },
  {
   "cell_type": "code",
   "execution_count": 69,
   "source": [
    "df_final"
   ],
   "outputs": [
    {
     "output_type": "execute_result",
     "data": {
      "text/html": [
       "<div>\n",
       "<style scoped>\n",
       "    .dataframe tbody tr th:only-of-type {\n",
       "        vertical-align: middle;\n",
       "    }\n",
       "\n",
       "    .dataframe tbody tr th {\n",
       "        vertical-align: top;\n",
       "    }\n",
       "\n",
       "    .dataframe thead th {\n",
       "        text-align: right;\n",
       "    }\n",
       "</style>\n",
       "<table border=\"1\" class=\"dataframe\">\n",
       "  <thead>\n",
       "    <tr style=\"text-align: right;\">\n",
       "      <th></th>\n",
       "      <th>responses</th>\n",
       "      <th>question_order</th>\n",
       "      <th>trial_type</th>\n",
       "      <th>trial_index</th>\n",
       "      <th>rt</th>\n",
       "      <th>time_elapsed</th>\n",
       "      <th>condition</th>\n",
       "      <th>response</th>\n",
       "      <th>prompt</th>\n",
       "      <th>color_rgb</th>\n",
       "      <th>concept</th>\n",
       "      <th>time_finished</th>\n",
       "      <th>rowID</th>\n",
       "      <th>color_index</th>\n",
       "      <th>concept_category</th>\n",
       "      <th>subject_id</th>\n",
       "      <th>workerID</th>\n",
       "    </tr>\n",
       "  </thead>\n",
       "  <tbody>\n",
       "    <tr>\n",
       "      <th>9</th>\n",
       "      <td>None</td>\n",
       "      <td>None</td>\n",
       "      <td>image-slider-responseMAS</td>\n",
       "      <td>9</td>\n",
       "      <td>8855.44</td>\n",
       "      <td>80373.0</td>\n",
       "      <td>None</td>\n",
       "      <td>210.0</td>\n",
       "      <td>love</td>\n",
       "      <td>[100, 53, 97, 57, 101, 52]</td>\n",
       "      <td>values</td>\n",
       "      <td>1.612350e+12</td>\n",
       "      <td>106554</td>\n",
       "      <td>16.0</td>\n",
       "      <td>None</td>\n",
       "      <td>a17uet7exuj4ldasvvdh</td>\n",
       "      <td>70360</td>\n",
       "    </tr>\n",
       "    <tr>\n",
       "      <th>10</th>\n",
       "      <td>None</td>\n",
       "      <td>None</td>\n",
       "      <td>image-slider-responseMAS</td>\n",
       "      <td>10</td>\n",
       "      <td>5457.42</td>\n",
       "      <td>86834.0</td>\n",
       "      <td>None</td>\n",
       "      <td>90.0</td>\n",
       "      <td>love</td>\n",
       "      <td>[56, 53, 53, 56, 102, 52]</td>\n",
       "      <td>values</td>\n",
       "      <td>1.612350e+12</td>\n",
       "      <td>106555</td>\n",
       "      <td>2.0</td>\n",
       "      <td>None</td>\n",
       "      <td>a17uet7exuj4ldasvvdh</td>\n",
       "      <td>70360</td>\n",
       "    </tr>\n",
       "    <tr>\n",
       "      <th>11</th>\n",
       "      <td>None</td>\n",
       "      <td>None</td>\n",
       "      <td>image-slider-responseMAS</td>\n",
       "      <td>11</td>\n",
       "      <td>2971.40</td>\n",
       "      <td>90809.0</td>\n",
       "      <td>None</td>\n",
       "      <td>47.0</td>\n",
       "      <td>love</td>\n",
       "      <td>[54, 55, 99, 102, 53, 99]</td>\n",
       "      <td>values</td>\n",
       "      <td>1.612350e+12</td>\n",
       "      <td>106556</td>\n",
       "      <td>51.0</td>\n",
       "      <td>None</td>\n",
       "      <td>a17uet7exuj4ldasvvdh</td>\n",
       "      <td>70360</td>\n",
       "    </tr>\n",
       "    <tr>\n",
       "      <th>12</th>\n",
       "      <td>None</td>\n",
       "      <td>None</td>\n",
       "      <td>image-slider-responseMAS</td>\n",
       "      <td>12</td>\n",
       "      <td>2792.73</td>\n",
       "      <td>94603.0</td>\n",
       "      <td>None</td>\n",
       "      <td>241.0</td>\n",
       "      <td>love</td>\n",
       "      <td>[101, 51, 49, 98, 55, 51]</td>\n",
       "      <td>values</td>\n",
       "      <td>1.612350e+12</td>\n",
       "      <td>106557</td>\n",
       "      <td>34.0</td>\n",
       "      <td>None</td>\n",
       "      <td>a17uet7exuj4ldasvvdh</td>\n",
       "      <td>70360</td>\n",
       "    </tr>\n",
       "    <tr>\n",
       "      <th>13</th>\n",
       "      <td>None</td>\n",
       "      <td>None</td>\n",
       "      <td>image-slider-responseMAS</td>\n",
       "      <td>13</td>\n",
       "      <td>2777.41</td>\n",
       "      <td>98382.0</td>\n",
       "      <td>None</td>\n",
       "      <td>0.0</td>\n",
       "      <td>love</td>\n",
       "      <td>[56, 51, 55, 54, 52, 99]</td>\n",
       "      <td>values</td>\n",
       "      <td>1.612350e+12</td>\n",
       "      <td>106558</td>\n",
       "      <td>42.0</td>\n",
       "      <td>None</td>\n",
       "      <td>a17uet7exuj4ldasvvdh</td>\n",
       "      <td>70360</td>\n",
       "    </tr>\n",
       "    <tr>\n",
       "      <th>...</th>\n",
       "      <td>...</td>\n",
       "      <td>...</td>\n",
       "      <td>...</td>\n",
       "      <td>...</td>\n",
       "      <td>...</td>\n",
       "      <td>...</td>\n",
       "      <td>...</td>\n",
       "      <td>...</td>\n",
       "      <td>...</td>\n",
       "      <td>...</td>\n",
       "      <td>...</td>\n",
       "      <td>...</td>\n",
       "      <td>...</td>\n",
       "      <td>...</td>\n",
       "      <td>...</td>\n",
       "      <td>...</td>\n",
       "      <td>...</td>\n",
       "    </tr>\n",
       "    <tr>\n",
       "      <th>76678</th>\n",
       "      <td>None</td>\n",
       "      <td>None</td>\n",
       "      <td>image-slider-responseMAS</td>\n",
       "      <td>367</td>\n",
       "      <td>3640.80</td>\n",
       "      <td>57310100.0</td>\n",
       "      <td>None</td>\n",
       "      <td>230.0</td>\n",
       "      <td>lightning</td>\n",
       "      <td>[51, 98, 51, 98, 51, 98]</td>\n",
       "      <td>weather</td>\n",
       "      <td>1.632270e+12</td>\n",
       "      <td>183223</td>\n",
       "      <td>25.0</td>\n",
       "      <td>None</td>\n",
       "      <td>mrmvgw1xc5vhdosvp3w9</td>\n",
       "      <td>74976</td>\n",
       "    </tr>\n",
       "    <tr>\n",
       "      <th>76679</th>\n",
       "      <td>None</td>\n",
       "      <td>None</td>\n",
       "      <td>image-slider-responseMAS</td>\n",
       "      <td>368</td>\n",
       "      <td>4951.10</td>\n",
       "      <td>57316000.0</td>\n",
       "      <td>None</td>\n",
       "      <td>122.0</td>\n",
       "      <td>lightning</td>\n",
       "      <td>[98, 97, 101, 97, 97, 102]</td>\n",
       "      <td>weather</td>\n",
       "      <td>1.632270e+12</td>\n",
       "      <td>183224</td>\n",
       "      <td>40.0</td>\n",
       "      <td>None</td>\n",
       "      <td>mrmvgw1xc5vhdosvp3w9</td>\n",
       "      <td>74976</td>\n",
       "    </tr>\n",
       "    <tr>\n",
       "      <th>76680</th>\n",
       "      <td>None</td>\n",
       "      <td>None</td>\n",
       "      <td>image-slider-responseMAS</td>\n",
       "      <td>369</td>\n",
       "      <td>2352.10</td>\n",
       "      <td>57319400.0</td>\n",
       "      <td>None</td>\n",
       "      <td>161.0</td>\n",
       "      <td>lightning</td>\n",
       "      <td>[101, 100, 100, 99, 97, 100]</td>\n",
       "      <td>weather</td>\n",
       "      <td>1.632270e+12</td>\n",
       "      <td>183225</td>\n",
       "      <td>44.0</td>\n",
       "      <td>None</td>\n",
       "      <td>mrmvgw1xc5vhdosvp3w9</td>\n",
       "      <td>74976</td>\n",
       "    </tr>\n",
       "    <tr>\n",
       "      <th>76681</th>\n",
       "      <td>None</td>\n",
       "      <td>None</td>\n",
       "      <td>image-slider-responseMAS</td>\n",
       "      <td>370</td>\n",
       "      <td>2979.30</td>\n",
       "      <td>57323400.0</td>\n",
       "      <td>None</td>\n",
       "      <td>238.0</td>\n",
       "      <td>lightning</td>\n",
       "      <td>[50, 102, 54, 101, 102, 54]</td>\n",
       "      <td>weather</td>\n",
       "      <td>1.632270e+12</td>\n",
       "      <td>183226</td>\n",
       "      <td>0.0</td>\n",
       "      <td>None</td>\n",
       "      <td>mrmvgw1xc5vhdosvp3w9</td>\n",
       "      <td>74976</td>\n",
       "    </tr>\n",
       "    <tr>\n",
       "      <th>76682</th>\n",
       "      <td>None</td>\n",
       "      <td>None</td>\n",
       "      <td>image-slider-responseMAS</td>\n",
       "      <td>371</td>\n",
       "      <td>3232.20</td>\n",
       "      <td>57327600.0</td>\n",
       "      <td>None</td>\n",
       "      <td>14.0</td>\n",
       "      <td>lightning</td>\n",
       "      <td>[99, 51, 52, 102, 55, 52]</td>\n",
       "      <td>weather</td>\n",
       "      <td>1.632270e+12</td>\n",
       "      <td>183227</td>\n",
       "      <td>33.0</td>\n",
       "      <td>None</td>\n",
       "      <td>mrmvgw1xc5vhdosvp3w9</td>\n",
       "      <td>74976</td>\n",
       "    </tr>\n",
       "  </tbody>\n",
       "</table>\n",
       "<p>70645 rows × 17 columns</p>\n",
       "</div>"
      ],
      "text/plain": [
       "      responses question_order                trial_type  trial_index  \\\n",
       "9          None           None  image-slider-responseMAS            9   \n",
       "10         None           None  image-slider-responseMAS           10   \n",
       "11         None           None  image-slider-responseMAS           11   \n",
       "12         None           None  image-slider-responseMAS           12   \n",
       "13         None           None  image-slider-responseMAS           13   \n",
       "...         ...            ...                       ...          ...   \n",
       "76678      None           None  image-slider-responseMAS          367   \n",
       "76679      None           None  image-slider-responseMAS          368   \n",
       "76680      None           None  image-slider-responseMAS          369   \n",
       "76681      None           None  image-slider-responseMAS          370   \n",
       "76682      None           None  image-slider-responseMAS          371   \n",
       "\n",
       "            rt  time_elapsed condition  response     prompt  \\\n",
       "9      8855.44       80373.0      None     210.0       love   \n",
       "10     5457.42       86834.0      None      90.0       love   \n",
       "11     2971.40       90809.0      None      47.0       love   \n",
       "12     2792.73       94603.0      None     241.0       love   \n",
       "13     2777.41       98382.0      None       0.0       love   \n",
       "...        ...           ...       ...       ...        ...   \n",
       "76678  3640.80    57310100.0      None     230.0  lightning   \n",
       "76679  4951.10    57316000.0      None     122.0  lightning   \n",
       "76680  2352.10    57319400.0      None     161.0  lightning   \n",
       "76681  2979.30    57323400.0      None     238.0  lightning   \n",
       "76682  3232.20    57327600.0      None      14.0  lightning   \n",
       "\n",
       "                          color_rgb  concept  time_finished   rowID  \\\n",
       "9        [100, 53, 97, 57, 101, 52]   values   1.612350e+12  106554   \n",
       "10        [56, 53, 53, 56, 102, 52]   values   1.612350e+12  106555   \n",
       "11        [54, 55, 99, 102, 53, 99]   values   1.612350e+12  106556   \n",
       "12        [101, 51, 49, 98, 55, 51]   values   1.612350e+12  106557   \n",
       "13         [56, 51, 55, 54, 52, 99]   values   1.612350e+12  106558   \n",
       "...                             ...      ...            ...     ...   \n",
       "76678      [51, 98, 51, 98, 51, 98]  weather   1.632270e+12  183223   \n",
       "76679    [98, 97, 101, 97, 97, 102]  weather   1.632270e+12  183224   \n",
       "76680  [101, 100, 100, 99, 97, 100]  weather   1.632270e+12  183225   \n",
       "76681   [50, 102, 54, 101, 102, 54]  weather   1.632270e+12  183226   \n",
       "76682     [99, 51, 52, 102, 55, 52]  weather   1.632270e+12  183227   \n",
       "\n",
       "       color_index concept_category            subject_id workerID  \n",
       "9             16.0             None  a17uet7exuj4ldasvvdh    70360  \n",
       "10             2.0             None  a17uet7exuj4ldasvvdh    70360  \n",
       "11            51.0             None  a17uet7exuj4ldasvvdh    70360  \n",
       "12            34.0             None  a17uet7exuj4ldasvvdh    70360  \n",
       "13            42.0             None  a17uet7exuj4ldasvvdh    70360  \n",
       "...            ...              ...                   ...      ...  \n",
       "76678         25.0             None  mrmvgw1xc5vhdosvp3w9    74976  \n",
       "76679         40.0             None  mrmvgw1xc5vhdosvp3w9    74976  \n",
       "76680         44.0             None  mrmvgw1xc5vhdosvp3w9    74976  \n",
       "76681          0.0             None  mrmvgw1xc5vhdosvp3w9    74976  \n",
       "76682         33.0             None  mrmvgw1xc5vhdosvp3w9    74976  \n",
       "\n",
       "[70645 rows x 17 columns]"
      ]
     },
     "metadata": {},
     "execution_count": 69
    }
   ],
   "metadata": {}
  }
 ],
 "metadata": {
  "kernelspec": {
   "name": "python3",
   "display_name": "Python 3.9.7 64-bit"
  },
  "language_info": {
   "codemirror_mode": {
    "name": "ipython",
    "version": 3
   },
   "file_extension": ".py",
   "mimetype": "text/x-python",
   "name": "python",
   "nbconvert_exporter": "python",
   "pygments_lexer": "ipython3",
   "version": "3.9.7"
  },
  "interpreter": {
   "hash": "aee8b7b246df8f9039afb4144a1f6fd8d2ca17a180786b69acc140d282b71a49"
  }
 },
 "nbformat": 4,
 "nbformat_minor": 2
}